{
 "cells": [
  {
   "cell_type": "code",
   "execution_count": 1,
   "id": "d9091bf5",
   "metadata": {},
   "outputs": [
    {
     "name": "stdout",
     "output_type": "stream",
     "text": [
      "Index(['id_regiao', 'id', 'cod_entrevista', 'data_inicio', 'data_fim',\n",
      "       'id_questionario', 'ID_HORARIO', 'ID_EQUIPAMENTO', 'ID_LAMPADA',\n",
      "       'ID_COMODO', 'id_alternativa', 'id_pergunta', 'id_resposta', 'loop',\n",
      "       'resposta', 'desc_pergunta', 'ORDEM', 'paralelo_p', 'cod_alternativa',\n",
      "       'alternativa', 'valores', 'paralelo_a', 'DESC_COMODO', 'DESC_LAMPADA',\n",
      "       'DESC_EQUIPAMENTO', 'DESC_HORARIO', 'desc_regiao', 'desc_uf',\n",
      "       'desc_municipio', 'ano_entrevista', 'cod_alternativa2'],\n",
      "      dtype='object')\n"
     ]
    }
   ],
   "source": [
    "import pandas as pd\n",
    "\n",
    "\n",
    "path = 'ANALISES/final.csv'\n",
    "\n",
    "df = pd.read_csv(path, sep=';', on_bad_lines='skip')\n",
    "\n",
    "print(df.columns)"
   ]
  },
  {
   "cell_type": "code",
   "execution_count": 2,
   "id": "a28b2f68",
   "metadata": {},
   "outputs": [
    {
     "name": "stdout",
     "output_type": "stream",
     "text": [
      "{'Ferro elétrico a vapor (usando vapor): Tempo de utilização (somando todas as vezes que utiliza ao longo do dia)', 'Impressora: Quantidade', 'No dia em que a TV é utilizada, qual é o tempo de utilização? (somando todas às vezes em que utiliza ao longo do dia)', 'Liquidificador: Tempo de utilização (somando todas as vezes que utiliza ao longo do dia)', 'O seu domicílio possui: Á�rea de Serviço', 'O seu domicílio possui: Sala de estar, jantar, tv', 'No dia em que a máquina de lavar roupas é utilizada, quantas lavagens são realizadas?', 'Celular: Frequência de uso (do celular do entrevistado)', 'Outros: Horário de uso:', 'Quarto (modo habitual): Horário de uso:', 'Panificadora (máquina de pão): Tempo de utilização (somando todas as vezes que utiliza ao longo do dia)', 'Multiprocessador: Frequência de uso', 'Qual é o material que predomina na construção das paredes externas deste domicílio?', 'Qual é a área construída aproximada deste domicílio, em m2?', 'Frequência de uso em Novembro:', 'Aparelho de som/ rádio (ligados na tomada quanto utilizados, desconsiderar rádios que funcionam somente com pilhas): Frequência de uso', 'Tipo do aparelho', 'Aquecedor de ambiente: Frequência de uso', 'Panificadora (Máquina de pão): Frequência de uso', 'Aspirador de pó: Frequência de uso', 'Fax: Frequência de uso', 'Espremedor de frutas: Quantidade', 'Vamos começar? No domicílio tem... Quantas geladeiras?', 'O seu domicílio possui: Garagem', 'Panificadora (máquina de pão): Frequência de uso', 'Ferro elétrico a seco: Tempo de utilização (somando todas as vezes que utiliza ao longo do dia)', 'O micro-ondas é desligado da tomada quando NÃO está em uso?', 'Cafeteira Elétrica: Quantidade', 'Impressora: O equipamento é desligado da tomada quando NÃO está em uso?', 'Ferro elétrico: Frequência de uso', 'Qual(is) fonte(s) própria(s) de energia é(são) usada(s) neste domicílio para geração de energia elétrica?', 'No dia em que a Cafeteira Elétrica é utilizada, qual é o tempo de utilização? (somando todas às vezes em que utiliza ao longo do dia)', 'Computador: Horários de uso', 'Multiprocessador: Tempo de utilização (somando todas as vezes que utiliza ao longo do dia)', 'Triturador de lixo: Frequência de uso', 'Impressora: Frequência de uso', 'No dia em que o Bebedouro / purificador / filtro é utilizado, qual é o tempo de utilização? (somando todas às vezes em que utiliza ao longo do dia)', 'Cafeteira Elétrica: Tempo de utilização (somando todas as vezes que utiliza ao longo do dia)', 'No dia em que o Ventilador ou Circulador de ar é utilizado, qual é o tempo de utilização? (somando todas às vezes em que utiliza ao longo do dia)', 'No dia em que o Tablet é utilizado, qual é o tempo de utilização? (somando todas às vezes em que utiliza ao longo do dia)', 'Vamos começar? No domicílio tem... Quantas máquinas de lavar roupa, excluindo tanquinho?', 'Vamos começar? No domicílio tem... Quantos banheiros?', \"Bomba d'água: Frequência de uso\", 'Frequência de uso em Outubro:', 'Vamos começar? No domicílio tem... Quantos automóveis de passeio exclusivamente para uso particular?', 'Televisores no domicílio', 'De dentro de casa é possível ver diretamente o telhado?', 'Evito banhos demorados utilizando o chuveiro elétrico:', 'Dou preferência a lâmpadas de LED ou fluorescentes:', 'O seu domicílio possui: Á�rea Externa', 'Roteador sem Fio (WI-FI) (aparelho de propriedade do morador, ou seja, que não pertence à operadora de internet): Tempo de utilização (somando todas as vezes que utiliza ao longo do dia)', 'Frequência de uso em Abril:', 'No dia em que a Fritadeira elétrica com óleo é utilizada, qual é o tempo de utilização? (somando todas às vezes em que utiliza ao longo do dia)', 'DVD/Video/Blu-Ray: Tempo de utilização (somando todas as vezes que utiliza ao longo do dia)', 'Serra elétrica: Tempo de utilização (somando todas as vezes que utiliza ao longo do dia)', 'Notebook: Tempo de utilização (somando todas as vezes que utiliza ao longo do dia)', 'No dia em que a Máq. de lavar roupa automática é utilizada, qual é o tempo de utilização? (somando todas às vezes em que utiliza ao longo do dia)', 'Máquina de lavar louças: Tempo de utilização (somando todas as vezes que utiliza ao longo do dia)', 'Refrigerador: Frequência de uso', 'No dia em que a Impressora é utilizada, qual é o tempo de utilização? (somando todas às vezes em que utiliza ao longo do dia)', 'Lava jato alta pressão Máquina: Frequência de uso', 'Máquina de costura: Tempo de utilização (somando todas as vezes que utiliza ao longo do dia)', 'Ventilador de teto: Frequência de uso', 'Aparelho de som/ rádio: O equipamento é desligado da tomada quando NÃO está em uso?', 'Máquina de lavar louças: O equipamento é desligado da tomada quando NÃO está em uso?', 'Aparelho de som/ rádio (ligados na tomada quanto utilizados, desconsiderar rádios que funcionam somente com pilhas): Quantidade', 'Mantenho a borracha de vedação da porta da geladeira em bom estado e troco a borracha quando percebo a necessidade:', 'Quarto (modo habitual): Total de lâmpadas por tipo:', 'Quarto (modo eventual): Total de lâmpadas por tipo:', 'Fritadeira elétrica com óleo: Quantidade', 'Ferro elétrico a vapor (usando vapor): Frequência de uso', 'Frequência de uso em Junho:', 'Secadora de roupas (por aquecimento): Quantidade', 'Portão Eletrônico: Quantidade', 'Ventilador ou Circulador de ar: Frequência de uso', 'Portão Eletrônico: Frequência de uso', 'No dia em que a Serra elétrica é utilizada, qual é o tempo de utilização? (somando todas às vezes em que utiliza ao longo do dia)', 'Quantos Chuveiros Elétricos?', 'No dia em que a Panificadora (máquina de pão) é utilizada, qual é o tempo de utilização? (somando todas às vezes em que utiliza ao longo do dia)', 'Projetores (Iluminação de jardim): Tempo de utilização (somando todas as vezes que utiliza ao longo do dia)', 'O seu domicílio possui: Outros', 'Ventilador ou Circulador de ar: O equipamento é desligado da tomada quando NÃO está em uso?', 'Evito acender lâmpadas durante o dia, aproveito a luz natural:', 'Chapinha (prancha alisadora): Quantidade', 'No dia em que o Ferro elétrico é utilizado, qual é o tempo de utilização? (somando todas às vezes em que utiliza ao longo do dia)', 'A maioria das janelas da residência está voltada para qual orientação?', 'O(a) sr.(a) limpa periodicamente o filtro do condicionador de ar?', 'Tablet: Frequência de uso', 'O seu domicílio possui: Banheiro, cuja lâmpada é ligada e desligada de modo habitual (ou seja, frequentemente a lâmpada é utilizada no mesmo período ao longo do dia)', 'Adega: Quantidade', 'Quantas pessoas nesta residência são:Moradores ocasionais, pessoas que tem outro local de residência e, por ocasião da pesquisa, encontra-se dormindo e/ou fazendo refeições no domicílio pesquisado (hóspede, convidado, veranista, etc.).', 'O(A) sr.(a) mudaria seu sistema de aquecimento de água de banho, para solar?', 'De dentro de casa, o teto é inclinado?', 'O(A) sr.(a) utilizaria um sistema de aquecimento a gás para aquecer a água do seu banho?', 'Videogame: Quantidade', 'Multiprocessador: Quantidade', 'Liquidificador: Frequência de uso', 'No dia em que o Aquecedor de água (chuveiro, torneira, boiler) é utilizado, qual é o tempo de utilização? (somando todas às vezes em que utiliza ao longo do dia)', 'Por qual meio você recebe essas informações?', 'Computador: O equipamento é desligado da tomada quando NÃO está em uso?', 'Aquecedor de ambiente: Quantidade', 'Corredores: Total de lâmpadas por tipo:', 'Bebedouro / purificador / filtro: Horários de uso', 'Horário de uso do condicionador de ar', 'Furadeira: Quantidade', 'Ventilador de teto: Tempo de utilização (somando todas as vezes que utiliza ao longo do dia)', 'Máquina de solda: Frequência de uso', 'No dia em que a Fritadeira elétrica sem óleo é utilizada, qual é o tempo de utilização? (somando todas às vezes em que utiliza ao longo do dia)', 'Que tipo de proteção solar há nas janelas pelo lado de fora da residência?', 'Notebook: Horários de uso', 'Aquecedor de água (chuveiro, torneira, boiler): Frequência de uso', 'O(A) sr.(a) conhece ou já ouviu falar de aquecedor solar de água para o banho?', 'Portão Eletrônico: Tempo de utilização (somando todas as vezes que utiliza ao longo do dia)', 'O(A) sr.(a) utilizaria um sistema de aquecimento solar para aquecer a água do seu banho?', 'Micro-ondas no domicílio', 'Horários de uso por período', 'Varandas: Horário de uso:', 'Cafeteira Elétrica: O equipamento é desligado da tomada quando NÃO está em uso?', 'No dia em que o Aspirador de pó é utilizado, qual é o tempo de utilização? (somando todas às vezes em que utiliza ao longo do dia)', 'A TV é desligada da tomada quando NÃO está em uso?', 'Fritadeira elétrica sem óleo: Tempo de utilização (somando todas as vezes que utiliza ao longo do dia)', 'Dentre elas, quantas são:Crianças até 10 anos', 'Dentre elas, quantas são:Acima de 65 anos', 'Conversor digital externo para TV aberta (aparelho que converte o sinal analógico em digital e conta com o auxílio da antena UHF): Frequência de uso', 'Fritadeira elétrica sem óleo: Frequência de uso', 'Ferro elétrico a vapor (não usando vapor): Quantidade', 'Ventilador ou Circulador de ar: Tempo de utilização (somando todas as vezes que utiliza ao longo do dia)', 'Filtro de Piscina: Tempo de utilização (somando todas as vezes que utiliza ao longo do dia)', 'Secadora de roupas centrífuga: Quantidade', 'No Break: Tempo de utilização (somando todas as vezes que utiliza ao longo do dia)', 'O(A) sr.(a) mudaria seu sistema de aquecimento de água de banho, para gás?', 'No dia em que o Refrigerador é utilizado, qual é o tempo de utilização? (somando todas às vezes em que utiliza ao longo do dia)', 'No dia em que o Celular é utilizado, qual é o tempo de utilização? (somando todas às vezes em que utiliza ao longo do dia)', 'Freezer no domicílio (independente)', 'Fax: O equipamento é desligado da tomada quando NÃO está em uso?', 'Banheiro (modo habitual): Total de lâmpadas por tipo:', 'Panela elétrica: Quantidade', 'Sanduicheira elétrica (grill): Frequência de uso', 'Tablet: Quanto tempo por dia você deixa o aparelho ligado na tomada para carregar a bateria?', 'CONTINUAR?', 'Espremedor de frutas: Frequência de uso', 'No dia em que o Ventilador de teto é utilizado, qual é o tempo de utilização? (somando todas às vezes em que utiliza ao longo do dia)', 'Quantas vezes por dia o chuveiro é utilizado?', 'Ebulidor: Tempo de utilização (somando todas as vezes que utiliza ao longo do dia)', 'Tempo que possui este aparelho', 'Triturador de lixo: Quantidade', 'Projetores (Iluminação de jardim): Frequência de uso', 'Receptor de TV por assinatura: Quantidade', 'Máq. de lavar roupa semiautomática (tanquinho): Frequência de uso', 'Máq. de lavar roupa automática: Frequência de uso', 'Procuro ligar a máquina de lavar só quando ela estiver com a capacidade máxima de roupas indicada pelo fabricante:', 'Condicionador de Ar: Frequência de uso', 'Fax: No dia em que o aparelho é utilizado, qual é o tempo de utilização?', 'Notebook: Frequência de uso', 'Videogame: Frequência de uso', 'Forno elétrico (não é o acendedor do fogão a gás. Também é conhecido como \\\\\\\\\"forninho\\\\\"\\\\\"): Frequência de uso\"', 'Vamos começar? No domicílio tem... Quantos DVD, incluindo qualquer dispositivo que leia DVD e desconsiderando DVD de automóvel?', 'Computador: Quantidade', 'Aparelho de som/ rádio (ligados na tomada quanto utilizados, desconsiderar rádios que funcionam somente com pilhas): Horários de uso', 'Bebedouro / purificador / filtro: Frequência de uso', 'Enceradeira: Quantidade', 'No dia em que o Condicionador de Ar é utilizado, qual é o tempo de utilização? (somando todas às vezes em que utiliza ao longo do dia)', 'Banheiro (modo habitual): Horário de uso:', 'Controlador de temperatura', 'Máquina de solda: Quantidade', 'Conversor digital externo para TV aberta (aparelho que converte o sinal analógico em digital e conta com o auxílio da antena UHF): O equipamento é desligado da tomada quando NÃO está em uso?', 'No dia em que a Máq. de lavar roupa semiautomática (tanquinho) é utilizada, qual é o tempo de utilização? (somando todas às vezes em que utiliza ao longo do dia)', 'Telefone sem fio: Quantidade', 'Sanduicheira elétrica (grill): Quantidade', 'Secadora de roupas (por aquecimento): Tempo de utilização (somando todas as vezes que utiliza ao longo do dia)', 'Tipo de aparelho:', 'Mantenho o ar-condicionado sempre desligado quando estou fora do ambiente por muito tempo:', 'No dia em que a Secadora de roupas (por aquecimento) é utilizada, qual é o tempo de utilização? (somando todas às vezes em que utiliza ao longo do dia)', 'Garagem: Horário de uso:', 'Secadora de roupas (por aquecimento): O equipamento é desligado da tomada quando NÃO está em uso?', 'No dia em que a Panela elétrica é utilizada, qual é o tempo de utilização? (somando todas às vezes em que utiliza ao longo do dia)', 'No dia em que o Secador de cabelo é utilizado, qual é o tempo de utilização? (somando todas às vezes em que utiliza ao longo do dia)', 'Fogão elétrico (não é o acendedor do fogão a gás. O fogão elétrico também é conhecido como “Cooktop elétrico”. As panelas são colocadas sobre uma placa de vidro para aquecer): Tempo de utilização (somando todas as vezes que utiliza ao longo do dia)', 'Aquecedor de ambiente: O equipamento é desligado da tomada quando NÃO está em uso?', 'O seu domicílio possui: Quarto, cuja lâmpada é ligada e desligada de modo habitual (ou seja, frequentemente a lâmpada é utilizada no mesmo período ao longo do dia)', 'Panela elétrica: Frequência de uso', 'Em qual(is) mês(es) do ano predomina o banho na temperatura intermediária?', 'Forno elétrico (não é o acendedor do fogão a gás. Também é conhecido como \\\\\\\\\"forninho\\\\\"\\\\\"): Quantidade\"', 'Máquina de lavar louças: Horários de uso', 'No dia em que o Modem (TV / Internet a cabo) é utilizado, qual é o tempo de utilização? (somando todas às vezes em que utiliza ao longo do dia)', 'Área Externa: Horário de uso:', 'No dia em que a Sanduicheira elétrica (grill) é utilizada, qual é o tempo de utilização? (somando todas às vezes em que utiliza ao longo do dia)', 'Potência máxima do aparelho', 'Máquina de lavar louças: Frequência de uso', 'Na residência há janelas em mais de uma parede externa? (exemplo: janelas na parede da frente e dos fundos ao mesmo tempo, ou parede da frente e lateral ao mesmo tempo, etc.)', 'O seu domicílio possui: Varandas', 'Furadeira: Frequência de uso', 'Secadora de roupas (por aquecimento): Frequência de uso', 'Computador: Tempo de utilização (somando todas as vezes que utiliza ao longo do dia)', 'O equipamento é desligado da tomada quando NÃO está em uso?', 'Computador: Frequência de uso', 'Fritadeira elétrica com óleo: Tempo de utilização (somando todas as vezes que utiliza ao longo do dia)', 'Forno elétrico (não é o acendedor do fogão a gás. Também é conhecido como \\\\\\\\\"forninho\\\\\"\\\\\"): Tempo de utilização (somando todas as vezes que utiliza ao longo do dia)\"', 'Ebulidor: Frequência de uso', 'Frequência de uso', 'Fax: Quantidade', 'Chuveiros no domicílio? (independente de ter ou não água aquecida)', 'No dia em que a Máquina de costura é utilizada, qual é o tempo de utilização? (somando todas às vezes em que utiliza ao longo do dia)', 'O seu domicílio possui: Copa / cozinha', 'No dia em que o Freezer é utilizado, qual é o tempo de utilização? (somando todas às vezes em que utiliza ao longo do dia)', 'No dia em que o Roteador sem Fio (WI-FI) é utilizado, qual é o tempo de utilização? (somando todas às vezes em que utiliza ao longo do dia)', 'Qual o tempo médio de duração do banho?', 'Frequência de uso em Fevereiro:', 'Tempo de utilização (somando todas as vezes que utiliza ao longo do dia)', 'Receptor de TV por assinatura: O equipamento é desligado da tomada quando NÃO está em uso?', 'Área de Serviço: Horário de uso:', 'Receptor digital (aparelho que está associado diretamente à antenas parabólicas): Tempo de utilização (somando todas as vezes que utiliza ao longo do dia)', 'No dia em que a Adega é utilizada, qual é o tempo de utilização? (somando todas às vezes em que utiliza ao longo do dia)', 'Varandas: Total de lâmpadas por tipo:', 'Fonte de aquecimento', 'Secadora de roupas centrífuga: Frequência de uso', 'Vamos começar? No domicílio tem... Quantos microcomputadores, considerando computadores de mesa, laptops, notebooks e netbooks e desconsiderando tablets, palms ou smartphones?', 'Ventilador de teto: Quantidade', 'Lava jato alta pressão (máquina): Tempo de utilização (somando todas as vezes que utiliza ao longo do dia)', 'Fogão elétrico (não é o acendedor do fogão a gás. O fogão elétrico também é conhecido como “Cooktop elétrico”. As panelas são colocadas sobre uma placa de vidro para aquecer): Frequência de uso', 'Em que andar o apartamento está localizado?', 'No Break: Frequência de uso', 'Qual o tom da cor predominante das paredes externas da residência?', 'Secadora de roupas centrífuga: Horários de uso', 'Preciso registrar o consumo mensal de energia elétrica em seu domicílio, esta informação aparece em sua conta de energia elétrica. Você poderia me apresentar a conta?', 'Modem para internet com função Roteador Wi-Fi (aparelho fornecido pela operadora no momento em que se contrata um plano de internet por assinatura): O equipamento é desligado da tomada quando NÃO está em uso?', 'Telefone sem fio: Frequência de uso', 'Máquina de Lavar Roupas', 'Adega: Horários de uso', 'Lava jato alta pressão (máquina): Frequência de uso', \"Bomba d'água: Quantidade\", 'Outros: Total de lâmpadas por tipo:', 'Horários de uso da máquina de lavar roupas', 'A máquina de lavar roupas é desligada da tomada quando NÃO está em uso?', 'Enceradeira: Tempo de utilização (somando todas as vezes que utiliza ao longo do dia)', 'Fritadeira elétrica com óleo: Frequência de uso', 'DVD/Video/Blu-Ray: Frequência de uso', 'No dia em que a Batedeira é utilizada, qual é o tempo de utilização? (somando todas às vezes em que utiliza ao longo do dia)', 'Celular: Quantidade (deverá ser a soma de todos os aparelhos em uso na casa)', 'Qual(is) o(s) mês(es) o ar-condicionado é(são) utilizado(s) nesta residência? (em média)', 'Receptor de TV por assinatura: Frequência de uso', 'Máquina de costura: Quantidade', 'No Break: Quantidade', 'Telefone sem fio: Quanto tempo por dia você deixa o aparelho ligado na tomada para carregar a bateria?', 'Uso a chave seletora na posição verão pois desta forma eu reduzo o consumo de energia do chuveiro elétrico:', 'Filtro de Piscina: Quantidade', 'Sala de estar, jantar, tv: Total de lâmpadas por tipo:', 'No dia em que a Portão Eletrônico é utilizada, qual é o tempo de utilização? (somando todas às vezes em que utiliza ao longo do dia)', 'Quantas pessoas nesta residência são:Empregados que NÃO dormem na residência, considerando apenas os que trabalham pelo menos cinco dias por semana.', 'No dia em que o Forno de micro-ondas é utilizado, qual é o tempo de utilização? (somando todas às vezes em que utiliza ao longo do dia)', 'Ferro elétrico a vapor (usando vapor): Quantidade', 'Modem para internet com função Roteador Wi-Fi (aparelho fornecido pela operadora no momento em que se contrata um plano de internet por assinatura): Quantidade', 'Vamos começar? No domicílio tem... Quantas lavadora de louças?', 'Vamos começar? No domicílio tem... Quantos empregados mensalistas, considerando apenas os que trabalham pelo menos cinco dias por semana?', 'Conversor digital externo para TV aberta (aparelho que converte o sinal analógico em digital e conta com o auxílio da antena UHF): Quantidade', 'Receptor digital (aparelho que está associado diretamente à antenas parabólicas): O equipamento é desligado da tomada quando NÃO está em uso?', 'O seu domicílio possui: Corredores', 'O seu domicílio possui: Quarto, cuja lâmpada é ligada e desligada de modo eventual (ou seja, não existe um período regular em que a lâmpada é utilizada)', 'Este domicílio é exclusivamente residencial ou tem alguma atividade comercial ou industrial funcionando, seja de natureza formal ou informal? (por exemplo: funciona aqui uma pequena confecção, uma marcenaria, vocês fazem salgados e doces para festa. A', 'Tipo de aparelho', 'Vamos começar? No domicílio tem... Quantos fornos de micro-ondas?', 'Em qual(is) mês(es) do ano predomina o banho na temperatura máxima?', 'O seu domicílio possui: Banheiro, cuja lâmpada é ligada e desligada de modo eventual (ou seja, não existe um período regular em que a lâmpada é utilizada)', 'O(A) sr.(a) recebe informações sobre como economizar energia?', 'Telefone sem fio: O equipamento é desligado da tomada quando NÃO está em uso?', 'Forno elétrico (não é o acendedor do fogão a gás. Também é conhecido como \\\\\\\\\"forninho\\\\\"\\\\\"): Horários de uso\"', 'No dia em que o Aparelho de som/ rádio é utilizado, qual é o tempo de utilização? (somando todas às vezes em que utiliza ao longo do dia)', 'Secadora de roupas (por aquecimento): Horários de uso', 'Ventilador ou Circulador de ar: Horários de uso', 'No dia em que o Espremedor de frutas é utilizado, qual é o tempo de utilização? (somando todas às vezes em que utiliza ao longo do dia)', 'DVD/Video/Blu-Ray: Quantidade', 'Adega: O equipamento é desligado da tomada quando NÃO está em uso?', 'Filtro de Piscina: Frequência de uso', 'Acumulo o maior número de peças de roupa para ligar o ferro o mínimo de vezes possível:', 'Área Externa: Total de lâmpadas por tipo:', 'Secadora de roupas centrífuga: Tempo de utilização (somando todas as vezes que utiliza ao longo do dia)', 'Celular: Em seu domicílio, quanto tempo por dia você deixa o aparelho ligado na tomada para carregar a bateria? (neste caso, desconsiderar o tempo em que carrega a bateria no trabalho, escola, ou outros locais)', 'Qual a temperatura mais utilizada na hora de ligar o ar-condicionado nesta residência?', 'Faca elétrica: Quantidade', 'Tablet: Quantidade', 'Vamos começar? No domicílio tem... Quantas máquinas secadoras de roupas, considerando lava e seca?', 'Sanduicheira elétrica (grill): Tempo de utilização (somando todas as vezes que utiliza ao longo do dia)', 'Adquiriu novo ou usado?', 'Frequência de uso em Setembro:', 'Condicionadores de ar no domicílio', 'Modem para internet com função Roteador Wi-Fi (aparelho fornecido pela operadora no momento em que se contrata um plano de internet por assinatura): Frequência de uso', 'Batedeira: Quantidade', 'Roteador sem Fio (WI-FI): Frequência de uso', 'Máquina de lavar louças: Quantidade', 'Frequência de uso em Dezembro:', 'Adega: Frequência de uso', 'Ebulidor: Quantidade', 'Não deixo a porta da geladeira/freezer aberta e evito abri-las várias vezes:', 'Qual(is) a(s) origem(ens) da energia elétrica utilizada(s) neste domicílio?', 'Frequência de uso em Julho:', 'Conversor digital externo para TV aberta (aparelho que converte o sinal analógico em digital e conta com o auxílio da antena UHF): Tempo de utilização (somando todas as vezes que utiliza ao longo do dia)', 'No dia em que o No Break é utilizado, qual é o tempo de utilização? (somando todas às vezes em que utiliza ao longo do dia)', 'Você gostaria de receber?', 'Uso a temperatura do ferro de passar indicada para cada tipo de tecido e começo pelas mais leves:', 'Ferro elétrico a seco: Horários de uso', 'Secador de cabelo: Tempo de utilização (somando todas as vezes que utiliza ao longo do dia)', 'Qual o tipo de apoio (reserva) do sistema de aquecimento solar da sua residência?', 'Quantas pessoas nesta residência são:Moradores habituais, pessoas que tem a unidade domiciliar como local de residência habitual no período da pesquisa.', 'Aspirador de pó: Tempo de utilização (somando todas as vezes que utiliza ao longo do dia)', 'Espremedor de frutas: Tempo de utilização (somando todas as vezes que utiliza ao longo do dia)', 'Ferro elétrico a vapor (não usando vapor): Tempo de utilização (somando todas as vezes que utiliza ao longo do dia)', 'Qual é o grau de instrução do chefe da família? Considere como chefe da família a pessoa que contribui com a maior parte da renda do domicílio.', 'Capacidade térmica (Btu/h)', 'Faca elétrica: Tempo de utilização (somando todas as vezes que utiliza ao longo do dia)', 'Ao comprar lâmpadas e eletrodomésticos, dou preferência pelos que consomem menos energia elétrica:', 'Considerando o trecho da rua do seu domicílio, você diria que a rua é:', 'Aspirador de pó: Quantidade', 'Qual a posição do controlador de temperatura mais utilizada na hora de ligar o ar-condicionado nesta residência?', 'Ferro elétrico a seco: Quantidade', 'Banheiro (modo eventual): Total de lâmpadas por tipo:', 'Ferro elétrico a vapor (usando vapor): Horários de uso', 'Triturador de lixo: Tempo de utilização (somando todas as vezes que utiliza ao longo do dia)', 'No dia em que o Multiprocessador é utilizado, qual é o tempo de utilização? (somando todas às vezes em que utiliza ao longo do dia)', 'Freezer: Frequência de uso', 'Receptor digital (aparelho que está associado diretamente à antenas parabólicas): Frequência de uso', 'Frequência de uso em Agosto:', 'Modem para internet com função Roteador Wi-Fi (aparelho fornecido pela operadora no momento em que se contrata um plano de internet por assinatura): Tempo de utilização (somando todas as vezes que utiliza ao longo do dia)', 'Aquecedor de ambiente: Tempo de utilização (somando todas as vezes que utiliza ao longo do dia)', 'Videogame: Tempo de utilização (somando todas as vezes que utiliza ao longo do dia)', 'Tipo de tela', 'Batedeira: Frequência de uso', 'Projetores (Iluminação de jardim): Quantidade', 'Receptor de TV por assinatura: Tempo de utilização (somando todas as vezes que utiliza ao longo do dia)', 'TV: Frequência de uso', 'Bebedouro / purificador / filtro: Quantidade', 'No dia em que o Notebook é utilizado, qual é o tempo de utilização? (somando todas às vezes em que utiliza ao longo do dia)', 'No dia em que o Liquidificador é utilizado, qual é o tempo de utilização? (somando todas às vezes em que utiliza ao longo do dia)', 'Aparelho de som/ rádio: Frequência de uso', 'Bebedouro / purificador / filtro: Tempo de utilização (somando todas as vezes que utiliza ao longo do dia)', 'Chapinha (prancha alisadora): Tempo de utilização (somando todas as vezes que utiliza ao longo do dia)', 'Fogão elétrico (não é o acendedor do fogão a gás. O fogão elétrico também é conhecido como “Cooktop elétrico”. As panelas são colocadas sobre uma placa de vidro para aquecer): Quantidade', 'Em qual(is) mês(es) do ano predomina o banho no modo completamente frio?', 'Ao utilizar o ar-condicionado, mantenho portas e janelas fechadas, evitando assim a entrada de ar do ambiente externo:', 'Sala de estar, jantar, tv: Horário de uso:', 'Horários de uso do aparelho de TV', 'No dia em que a Chapinha (prancha alisadora) é utilizada, qual é o tempo de utilização? (somando todas às vezes em que utiliza ao longo do dia)', 'Quais são os equipamentos elétricos utilizados nesta(s) atividade(s)?', 'Roteador sem Fio (WI-FI) (aparelho de propriedade do morador, ou seja, que não pertence à operadora de internet): O equipamento é desligado da tomada quando NÃO está em uso?', 'Na sua opinião qual seria a melhor forma de receber essas informações?', 'Máquina de solda: Tempo de utilização (somando todas as vezes que utiliza ao longo do dia)', 'Receptor digital (aparelho que está associado diretamente à antenas parabólicas): Quantidade', 'No dia em que o Computador é utilizado, qual é o tempo de utilização? (somando todas às vezes em que utiliza ao longo do dia)', 'O(A) sr.(a) conhece ou já ouviu falar de aquecedor de água à gás para o banho?', 'Tamanho (polegadas)', 'No dia em que o Telefone sem fio é utilizado, qual é o tempo de utilização? (somando todas às vezes em que utiliza ao longo do dia)', 'Roteador sem Fio (WI-FI) (aparelho de propriedade do morador, ou seja, que não pertence à operadora de internet): Quantidade', 'Enceradeira: Frequência de uso', 'Copa / cozinha: Total de lâmpadas por tipo:', 'Secador de cabelo: Frequência de uso', 'Elimino na rede elétrica da residência emendas mal feitas, fios ou cabos desencapados, ou com isolamento comprometido:', 'Cafeteira Elétrica: Frequência de uso', 'DVD/Video/Blu-Ray: O equipamento é desligado da tomada quando NÃO está em uso?', 'Frequência de uso em Janeiro:', 'Refrigeradores no domicílio', 'No dia em que o DVD/Video/Blu-Ray é utilizado, qual é o tempo de utilização? (somando todas às vezes em que utiliza ao longo do dia)', 'Aparelho de som/ rádio (ligados na tomada quanto utilizados, desconsiderar rádios que funcionam somente com pilhas): Tempo de utilização (somando todas as vezes que utiliza ao longo do dia)', 'Qual é o material que predomina na cobertura (telhado) deste domicílio?', 'Liquidificador: Quantidade', 'Corredores: Horário de uso:', 'Apago sempre as lâmpadas dos ambientes desocupados:', 'Tipo de operação', 'Ferro elétrico a seco: Frequência de uso', 'Consumo mensal de energia elétrica do domicílio, em kWh, encontrado no histórico de consumos do domicílio. (Atenção: não é o valor em R$ da conta):', 'Fritadeira elétrica sem óleo: Quantidade', 'Ventilador de teto: Horários de uso', 'Faca elétrica: Frequência de uso', 'Secadora de roupas centrífuga: O equipamento é desligado da tomada quando NÃO está em uso?', 'Forno elétrico (não é o acendedor do fogão a gás. Também é conhecido como \\\\\\\\\"forninho\\\\\"\\\\\"): O equipamento é desligado da tomada quando NÃO está em uso?\"', 'O(A) sr.(a) realiza limpeza periódica das placas solares?', 'Capacidade de armazenagem total', 'Videogame: Horários de uso', 'Impressora: Tempo de utilização (somando todas as vezes que utiliza ao longo do dia)', \"Bomba d'água: Tempo de utilização (somando todas as vezes que utiliza ao longo do dia)\", 'Roteador sem Fio (WI-FI) (aparelho de propriedade do morador, ou seja, que não pertence à operadora de internet): Frequência de uso', 'Desligo o ferro de passar quando interrompo o serviço:', 'Forno de micro-ondas: Frequência de uso', 'Celular: Frequência de uso', 'Regulo o termostato da geladeira em função das estações (inverno, verão, outono/primavera):', 'Notebook: O equipamento é desligado da tomada quando NÃO está em uso?', 'Máquina de costura: Frequência de uso', 'Notebook: Quantidade', 'Área de Serviço: Total de lâmpadas por tipo:', 'Furadeira: Tempo de utilização (somando todas as vezes que utiliza ao longo do dia)', 'Serra elétrica: Quantidade', 'Aquecedor de ambiente: Horários de uso', 'Frequência de uso em Março:', 'Dentre elas, quantas são:Adolescentes de 11 a 18 anos', 'No dia em que a Furadeira é utilizada, qual é o tempo de utilização? (somando todas às vezes em que utiliza ao longo do dia)', 'Garagem: Total de lâmpadas por tipo:', 'No Break: O equipamento é desligado da tomada quando NÃO está em uso?', 'No dia em que o Videogame é utilizado, qual é o tempo de utilização? (somando todas às vezes em que utiliza ao longo do dia)', 'Videogame: O equipamento é desligado da tomada quando NÃO está em uso?', 'Quantas pessoas nesta residência são:Empregados que dormem na residência, considerando apenas os que trabalham pelo menos cinco dias por semana.', 'Bebedouro / purificador / filtro: O equipamento é desligado da tomada quando NÃO está em uso?', 'Panela elétrica: Tempo de utilização (somando todas as vezes que utiliza ao longo do dia)', 'Chapinha (prancha alisadora): Frequência de uso', 'Modem (TV / Internet a cabo): Frequência de uso', 'Lava jato alta pressão (máquina): Quantidade', 'Desligo a TV quando ninguém está assistindo:', 'Panificadora (máquina de pão): Quantidade', 'Ventilador ou Circulador de ar: Quantidade', 'Copa / cozinha: Horário de uso:', 'Tipo de domicílio:', 'Vamos começar? No domicílio tem... Quantas motocicletas, desconsiderando as usadas exclusivamente para uso profissional?', 'CLASSE SOCIAL:', 'No dia em que a Máquina de solda é utilizada, qual é o tempo de utilização? (somando todas às vezes em que utiliza ao longo do dia)', 'Frequência de uso em Maio:', 'Dentre elas, quantas são:Mais de 18 a 65 anos', 'Nunca utilizo a parte traseira da geladeira para secar panos ou roupas:', 'Evito deixar os aparelhos elétricos em stand by (ligados na tomada):', 'Batedeira: Tempo de utilização (somando todas as vezes que utiliza ao longo do dia)', 'A água (do chuveiro, duchas ou torneiras) deste domicílio é aquecida por qual(is) fonte(s)?', 'Adega: Tempo de utilização (somando todas as vezes que utiliza ao longo do dia)', 'Serra elétrica: Frequência de uso', 'A água utilizada neste domicílio é proveniente de?', 'Vamos começar? No domicílio tem... Quantos freezers independentes ou parte da geladeira duplex?', 'Ferro elétrico a vapor (não usando vapor): Horários de uso', 'Não guardo alimentos quentes e nem sem tampas na geladeira:', 'Ferro elétrico a vapor (não usando vapor): Frequência de uso', 'Secador de cabelo: Quantidade'}\n"
     ]
    }
   ],
   "source": [
    "questions_set =  set(df['desc_pergunta'].to_list())\n",
    "print(questions_set)"
   ]
  },
  {
   "cell_type": "code",
   "execution_count": 3,
   "id": "0710af4a",
   "metadata": {},
   "outputs": [
    {
     "name": "stdout",
     "output_type": "stream",
     "text": [
      "40461\n"
     ]
    }
   ],
   "source": [
    "question_list_total = 'Condicionadores de ar no domicílio'\n",
    "df_question_total = df.loc[df['desc_pergunta'] == question_list_total]\n",
    "print(len(df_question_total))"
   ]
  },
  {
   "cell_type": "code",
   "execution_count": 4,
   "id": "9aff66db",
   "metadata": {},
   "outputs": [
    {
     "name": "stdout",
     "output_type": "stream",
     "text": [
      "1988:  0\n",
      "1997:  17376\n",
      "2005:  4310\n",
      "2019:  18775\n"
     ]
    }
   ],
   "source": [
    "df_question_total_1988 = df_question_total.loc[df_question_total['data_inicio'].str.contains(\"1988\")]\n",
    "df_question_total_1997 = df_question_total.loc[df_question_total['data_inicio'].str.contains(\"1997\")]\n",
    "df_question_total_2005 = df_question_total.loc[df_question_total['data_inicio'].str.contains(\"2005\")]\n",
    "df_question_total_2019 = df_question_total.loc[df_question_total['data_inicio'].str.contains(\"2019\")]\n",
    "\n",
    "print('1988: ', len(df_question_total_1988))\n",
    "print('1997: ', len(df_question_total_1997))\n",
    "print('2005: ', len(df_question_total_2005))\n",
    "print('2019: ', len(df_question_total_2019))"
   ]
  },
  {
   "cell_type": "code",
   "execution_count": 19,
   "id": "e4bb8e63",
   "metadata": {},
   "outputs": [
    {
     "name": "stdout",
     "output_type": "stream",
     "text": [
      "{0, 1, 2, 3, 4, 5, 6}\n",
      "{'Quantidade:'}\n"
     ]
    }
   ],
   "source": [
    "answer_list = df_question_total_2019['resposta'].to_list()\n",
    "paralel_a_list = df_question_total_2019['paralelo_a'].to_list()\n",
    "brazil_region_list = df_question_total_2019['desc_regiao'].to_list()\n",
    "answers_set_total_paralelo_a = set(answer_list)\n",
    "answers_set_total_resposta = set(paralel_a_list)\n",
    "print(answers_set_total_paralelo_a)\n",
    "print(answers_set_total_resposta)"
   ]
  },
  {
   "cell_type": "code",
   "execution_count": 25,
   "id": "a60ef404",
   "metadata": {},
   "outputs": [
    {
     "name": "stdout",
     "output_type": "stream",
     "text": [
      "{0: 1447, 1: 305, 2: 92, 5: 2, 3: 23, 4: 6}\n",
      "0.32\n",
      "{0: 0.7717, 1: 0.1627, 2: 0.0491, 5: 0.0011, 3: 0.0123, 4: 0.0032}\n",
      "0.22829999999999995\n"
     ]
    }
   ],
   "source": [
    "answers_dict = dict()\n",
    "total_equip = 0\n",
    "answers_count = 0\n",
    "for i in range(len(answer_list)):\n",
    "    region = brazil_region_list[i]\n",
    "    if region != 'SU':\n",
    "        continue\n",
    "    number_of_equip = answer_list[i]\n",
    "    total_equip += number_of_equip\n",
    "    if number_of_equip in answers_dict:\n",
    "        answers_dict[number_of_equip] += 1\n",
    "    else:\n",
    "        answers_dict[number_of_equip] = 1\n",
    "    answers_count += 1\n",
    "    \n",
    "print(answers_dict)\n",
    "percentage_dict = dict()\n",
    "\n",
    "for number_of_ref in answers_dict:\n",
    "    percentage_dict[number_of_ref] = round(answers_dict[number_of_ref] / answers_count, 4)\n",
    "\n",
    "print(round(total_equip / answers_count, 2))\n",
    "print(percentage_dict)\n",
    "print(1 - percentage_dict[0])"
   ]
  },
  {
   "cell_type": "code",
   "execution_count": null,
   "id": "5c0a7ac8",
   "metadata": {},
   "outputs": [],
   "source": []
  }
 ],
 "metadata": {
  "kernelspec": {
   "display_name": "Python 3 (ipykernel)",
   "language": "python",
   "name": "python3"
  },
  "language_info": {
   "codemirror_mode": {
    "name": "ipython",
    "version": 3
   },
   "file_extension": ".py",
   "mimetype": "text/x-python",
   "name": "python",
   "nbconvert_exporter": "python",
   "pygments_lexer": "ipython3",
   "version": "3.10.6"
  }
 },
 "nbformat": 4,
 "nbformat_minor": 5
}
