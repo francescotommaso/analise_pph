{
 "cells": [
  {
   "cell_type": "code",
   "execution_count": 1,
   "id": "6c5e261e",
   "metadata": {},
   "outputs": [
    {
     "name": "stdout",
     "output_type": "stream",
     "text": [
      "Index(['id_regiao', 'id', 'cod_entrevista', 'data_inicio', 'data_fim',\n",
      "       'id_questionario', 'ID_HORARIO', 'ID_EQUIPAMENTO', 'ID_LAMPADA',\n",
      "       'ID_COMODO', 'id_alternativa', 'id_pergunta', 'id_resposta', 'loop',\n",
      "       'resposta', 'desc_pergunta', 'ORDEM', 'paralelo_p', 'cod_alternativa',\n",
      "       'alternativa', 'valores', 'paralelo_a', 'DESC_COMODO', 'DESC_LAMPADA',\n",
      "       'DESC_EQUIPAMENTO', 'DESC_HORARIO', 'desc_regiao', 'desc_uf',\n",
      "       'desc_municipio', 'ano_entrevista', 'cod_alternativa2'],\n",
      "      dtype='object')\n"
     ]
    }
   ],
   "source": [
    "import pandas as pd\n",
    "\n",
    "\n",
    "path = 'ANALISES/final.csv'\n",
    "\n",
    "df = pd.read_csv(path, sep=';', on_bad_lines='skip')\n",
    "\n",
    "print(df.columns)"
   ]
  },
  {
   "cell_type": "code",
   "execution_count": 2,
   "id": "0180968b",
   "metadata": {},
   "outputs": [
    {
     "name": "stdout",
     "output_type": "stream",
     "text": [
      "{'Forno de micro-ondas: Frequência de uso', 'Furadeira: Frequência de uso', 'No dia em que o Freezer é utilizado, qual é o tempo de utilização? (somando todas às vezes em que utiliza ao longo do dia)', 'Espremedor de frutas: Tempo de utilização (somando todas as vezes que utiliza ao longo do dia)', 'DVD/Video/Blu-Ray: O equipamento é desligado da tomada quando NÃO está em uso?', 'Projetores (Iluminação de jardim): Tempo de utilização (somando todas as vezes que utiliza ao longo do dia)', 'Qual o tipo de apoio (reserva) do sistema de aquecimento solar da sua residência?', 'Notebook: Frequência de uso', 'Adquiriu novo ou usado?', 'No dia em que a Impressora é utilizada, qual é o tempo de utilização? (somando todas às vezes em que utiliza ao longo do dia)', 'Cafeteira Elétrica: Quantidade', 'Refrigeradores no domicílio', 'O equipamento é desligado da tomada quando NÃO está em uso?', 'Quantas pessoas nesta residência são:Empregados que NÃO dormem na residência, considerando apenas os que trabalham pelo menos cinco dias por semana.', 'Adega: Tempo de utilização (somando todas as vezes que utiliza ao longo do dia)', 'Vamos começar? No domicílio tem... Quantos microcomputadores, considerando computadores de mesa, laptops, notebooks e netbooks e desconsiderando tablets, palms ou smartphones?', 'O seu domicílio possui: Quarto, cuja lâmpada é ligada e desligada de modo eventual (ou seja, não existe um período regular em que a lâmpada é utilizada)', 'Tipo do aparelho', 'Triturador de lixo: Tempo de utilização (somando todas as vezes que utiliza ao longo do dia)', 'Aparelho de som/ rádio: O equipamento é desligado da tomada quando NÃO está em uso?', 'O(A) sr.(a) recebe informações sobre como economizar energia?', 'Conversor digital externo para TV aberta (aparelho que converte o sinal analógico em digital e conta com o auxílio da antena UHF): Frequência de uso', 'Apago sempre as lâmpadas dos ambientes desocupados:', 'DVD/Video/Blu-Ray: Frequência de uso', 'No dia em que a TV é utilizada, qual é o tempo de utilização? (somando todas às vezes em que utiliza ao longo do dia)', 'Receptor digital (aparelho que está associado diretamente à antenas parabólicas): Frequência de uso', 'Ferro elétrico a seco: Quantidade', 'Máquina de costura: Tempo de utilização (somando todas as vezes que utiliza ao longo do dia)', 'Ventilador ou Circulador de ar: Frequência de uso', 'No dia em que o Espremedor de frutas é utilizado, qual é o tempo de utilização? (somando todas às vezes em que utiliza ao longo do dia)', 'Faca elétrica: Quantidade', 'No dia em que a Adega é utilizada, qual é o tempo de utilização? (somando todas às vezes em que utiliza ao longo do dia)', 'No dia em que o Aspirador de pó é utilizado, qual é o tempo de utilização? (somando todas às vezes em que utiliza ao longo do dia)', 'Impressora: Quantidade', 'Não guardo alimentos quentes e nem sem tampas na geladeira:', 'DVD/Video/Blu-Ray: Quantidade', 'Ferro elétrico: Frequência de uso', 'Secador de cabelo: Frequência de uso', 'Bebedouro / purificador / filtro: Quantidade', 'Ventilador ou Circulador de ar: Tempo de utilização (somando todas as vezes que utiliza ao longo do dia)', 'Tempo de utilização (somando todas as vezes que utiliza ao longo do dia)', 'Qual o tom da cor predominante das paredes externas da residência?', 'Vamos começar? No domicílio tem... Quantas máquinas de lavar roupa, excluindo tanquinho?', 'Ferro elétrico a seco: Horários de uso', 'Mantenho o ar-condicionado sempre desligado quando estou fora do ambiente por muito tempo:', 'Aquecedor de água (chuveiro, torneira, boiler): Frequência de uso', 'Ferro elétrico a seco: Frequência de uso', 'Batedeira: Quantidade', 'No dia em que a Batedeira é utilizada, qual é o tempo de utilização? (somando todas às vezes em que utiliza ao longo do dia)', 'Ventilador ou Circulador de ar: Quantidade', 'Freezer: Frequência de uso', 'Computador: O equipamento é desligado da tomada quando NÃO está em uso?', 'Batedeira: Frequência de uso', 'No dia em que a Máq. de lavar roupa semiautomática (tanquinho) é utilizada, qual é o tempo de utilização? (somando todas às vezes em que utiliza ao longo do dia)', 'Desligo a TV quando ninguém está assistindo:', 'Ventilador ou Circulador de ar: Horários de uso', 'O(A) sr.(a) utilizaria um sistema de aquecimento solar para aquecer a água do seu banho?', 'Roteador sem Fio (WI-FI) (aparelho de propriedade do morador, ou seja, que não pertence à operadora de internet): Tempo de utilização (somando todas as vezes que utiliza ao longo do dia)', 'Secadora de roupas centrífuga: Horários de uso', 'Sala de estar, jantar, tv: Total de lâmpadas por tipo:', 'Bebedouro / purificador / filtro: Frequência de uso', 'Aparelho de som/ rádio (ligados na tomada quanto utilizados, desconsiderar rádios que funcionam somente com pilhas): Horários de uso', 'Vamos começar? No domicílio tem... Quantas máquinas secadoras de roupas, considerando lava e seca?', 'A máquina de lavar roupas é desligada da tomada quando NÃO está em uso?', 'Corredores: Horário de uso:', 'No dia em que a Portão Eletrônico é utilizada, qual é o tempo de utilização? (somando todas às vezes em que utiliza ao longo do dia)', 'Projetores (Iluminação de jardim): Frequência de uso', 'Videogame: Horários de uso', 'Secadora de roupas centrífuga: Frequência de uso', 'Na residência há janelas em mais de uma parede externa? (exemplo: janelas na parede da frente e dos fundos ao mesmo tempo, ou parede da frente e lateral ao mesmo tempo, etc.)', 'Vamos começar? No domicílio tem... Quantas lavadora de louças?', 'Filtro de Piscina: Quantidade', 'Tipo de aparelho', 'Ventilador de teto: Quantidade', 'Computador: Tempo de utilização (somando todas as vezes que utiliza ao longo do dia)', 'DVD/Video/Blu-Ray: Tempo de utilização (somando todas as vezes que utiliza ao longo do dia)', 'No dia em que a Furadeira é utilizada, qual é o tempo de utilização? (somando todas às vezes em que utiliza ao longo do dia)', 'Quantas pessoas nesta residência são:Moradores habituais, pessoas que tem a unidade domiciliar como local de residência habitual no período da pesquisa.', 'A água utilizada neste domicílio é proveniente de?', 'Vamos começar? No domicílio tem... Quantos DVD, incluindo qualquer dispositivo que leia DVD e desconsiderando DVD de automóvel?', 'Não deixo a porta da geladeira/freezer aberta e evito abri-las várias vezes:', 'Ao comprar lâmpadas e eletrodomésticos, dou preferência pelos que consomem menos energia elétrica:', 'No dia em que o No Break é utilizado, qual é o tempo de utilização? (somando todas às vezes em que utiliza ao longo do dia)', 'Cafeteira Elétrica: O equipamento é desligado da tomada quando NÃO está em uso?', 'Qual(is) o(s) mês(es) o ar-condicionado é(são) utilizado(s) nesta residência? (em média)', 'Roteador sem Fio (WI-FI): Frequência de uso', 'Enceradeira: Frequência de uso', 'Ebulidor: Quantidade', 'Secadora de roupas centrífuga: Quantidade', 'Furadeira: Tempo de utilização (somando todas as vezes que utiliza ao longo do dia)', 'Ferro elétrico a vapor (usando vapor): Tempo de utilização (somando todas as vezes que utiliza ao longo do dia)', 'Bebedouro / purificador / filtro: Tempo de utilização (somando todas as vezes que utiliza ao longo do dia)', 'Chapinha (prancha alisadora): Frequência de uso', 'Refrigerador: Frequência de uso', 'Que tipo de proteção solar há nas janelas pelo lado de fora da residência?', 'Notebook: Quantidade', 'Liquidificador: Frequência de uso', 'Máquina de solda: Quantidade', 'Roteador sem Fio (WI-FI) (aparelho de propriedade do morador, ou seja, que não pertence à operadora de internet): O equipamento é desligado da tomada quando NÃO está em uso?', 'No dia em que o Multiprocessador é utilizado, qual é o tempo de utilização? (somando todas às vezes em que utiliza ao longo do dia)', 'Panela elétrica: Frequência de uso', 'Telefone sem fio: O equipamento é desligado da tomada quando NÃO está em uso?', 'Impressora: O equipamento é desligado da tomada quando NÃO está em uso?', 'Panificadora (máquina de pão): Tempo de utilização (somando todas as vezes que utiliza ao longo do dia)', 'Fritadeira elétrica sem óleo: Frequência de uso', 'Ferro elétrico a vapor (não usando vapor): Tempo de utilização (somando todas as vezes que utiliza ao longo do dia)', 'Batedeira: Tempo de utilização (somando todas as vezes que utiliza ao longo do dia)', 'Quarto (modo eventual): Total de lâmpadas por tipo:', 'Videogame: Tempo de utilização (somando todas as vezes que utiliza ao longo do dia)', 'Fritadeira elétrica com óleo: Tempo de utilização (somando todas as vezes que utiliza ao longo do dia)', 'Outros: Horário de uso:', 'No dia em que o Notebook é utilizado, qual é o tempo de utilização? (somando todas às vezes em que utiliza ao longo do dia)', 'Telefone sem fio: Frequência de uso', 'Fax: O equipamento é desligado da tomada quando NÃO está em uso?', 'Área Externa: Horário de uso:', 'Faca elétrica: Frequência de uso', 'Modem (TV / Internet a cabo): Frequência de uso', 'Multiprocessador: Quantidade', 'Qual é o material que predomina na construção das paredes externas deste domicílio?', 'Fax: Frequência de uso', 'No dia em que a Panela elétrica é utilizada, qual é o tempo de utilização? (somando todas às vezes em que utiliza ao longo do dia)', 'Quantos Chuveiros Elétricos?', 'Panificadora (máquina de pão): Frequência de uso', 'No dia em que o Aparelho de som/ rádio é utilizado, qual é o tempo de utilização? (somando todas às vezes em que utiliza ao longo do dia)', 'Frequência de uso em Maio:', 'Forno elétrico (não é o acendedor do fogão a gás. Também é conhecido como \\\\\\\\\"forninho\\\\\"\\\\\"): Frequência de uso\"', 'Aspirador de pó: Quantidade', 'A TV é desligada da tomada quando NÃO está em uso?', 'Qual é o material que predomina na cobertura (telhado) deste domicílio?', 'O(A) sr.(a) conhece ou já ouviu falar de aquecedor solar de água para o banho?', 'Horários de uso por período', 'No dia em que o Secador de cabelo é utilizado, qual é o tempo de utilização? (somando todas às vezes em que utiliza ao longo do dia)', 'Telefone sem fio: Quanto tempo por dia você deixa o aparelho ligado na tomada para carregar a bateria?', 'O(A) sr.(a) utilizaria um sistema de aquecimento a gás para aquecer a água do seu banho?', 'Vamos começar? No domicílio tem... Quantas geladeiras?', 'CONTINUAR?', 'No dia em que o Modem (TV / Internet a cabo) é utilizado, qual é o tempo de utilização? (somando todas às vezes em que utiliza ao longo do dia)', 'Conversor digital externo para TV aberta (aparelho que converte o sinal analógico em digital e conta com o auxílio da antena UHF): Tempo de utilização (somando todas as vezes que utiliza ao longo do dia)', 'No dia em que a Fritadeira elétrica com óleo é utilizada, qual é o tempo de utilização? (somando todas às vezes em que utiliza ao longo do dia)', 'Notebook: Horários de uso', 'No dia em que o Ventilador de teto é utilizado, qual é o tempo de utilização? (somando todas às vezes em que utiliza ao longo do dia)', 'Máquina de lavar louças: Horários de uso', 'Ferro elétrico a vapor (não usando vapor): Quantidade', \"Bomba d'água: Frequência de uso\", 'Fogão elétrico (não é o acendedor do fogão a gás. O fogão elétrico também é conhecido como “Cooktop elétrico”. As panelas são colocadas sobre uma placa de vidro para aquecer): Tempo de utilização (somando todas as vezes que utiliza ao longo do dia)', 'A maioria das janelas da residência está voltada para qual orientação?', 'Máquina de Lavar Roupas', 'Videogame: Quantidade', 'Secadora de roupas (por aquecimento): Frequência de uso', 'Serra elétrica: Frequência de uso', 'Chapinha (prancha alisadora): Tempo de utilização (somando todas as vezes que utiliza ao longo do dia)', 'Aspirador de pó: Frequência de uso', 'Garagem: Horário de uso:', 'Quantas pessoas nesta residência são:Empregados que dormem na residência, considerando apenas os que trabalham pelo menos cinco dias por semana.', 'Filtro de Piscina: Frequência de uso', 'Triturador de lixo: Frequência de uso', 'Garagem: Total de lâmpadas por tipo:', 'Preciso registrar o consumo mensal de energia elétrica em seu domicílio, esta informação aparece em sua conta de energia elétrica. Você poderia me apresentar a conta?', 'Videogame: O equipamento é desligado da tomada quando NÃO está em uso?', 'Desligo o ferro de passar quando interrompo o serviço:', 'Filtro de Piscina: Tempo de utilização (somando todas as vezes que utiliza ao longo do dia)', 'Celular: Frequência de uso (do celular do entrevistado)', 'Vamos começar? No domicílio tem... Quantos empregados mensalistas, considerando apenas os que trabalham pelo menos cinco dias por semana?', 'Celular: Frequência de uso', 'Vamos começar? No domicílio tem... Quantos automóveis de passeio exclusivamente para uso particular?', 'No dia em que a Máquina de costura é utilizada, qual é o tempo de utilização? (somando todas às vezes em que utiliza ao longo do dia)', 'Frequência de uso em Dezembro:', 'Lava jato alta pressão (máquina): Frequência de uso', 'No dia em que a Sanduicheira elétrica (grill) é utilizada, qual é o tempo de utilização? (somando todas às vezes em que utiliza ao longo do dia)', 'Banheiro (modo habitual): Horário de uso:', 'Forno elétrico (não é o acendedor do fogão a gás. Também é conhecido como \\\\\\\\\"forninho\\\\\"\\\\\"): Quantidade\"', 'Freezer no domicílio (independente)', 'Portão Eletrônico: Quantidade', 'Liquidificador: Quantidade', 'Tablet: Frequência de uso', 'Máquina de lavar louças: Tempo de utilização (somando todas as vezes que utiliza ao longo do dia)', 'Roteador sem Fio (WI-FI) (aparelho de propriedade do morador, ou seja, que não pertence à operadora de internet): Quantidade', 'Panela elétrica: Tempo de utilização (somando todas as vezes que utiliza ao longo do dia)', 'De dentro de casa é possível ver diretamente o telhado?', 'Aquecedor de ambiente: O equipamento é desligado da tomada quando NÃO está em uso?', 'Roteador sem Fio (WI-FI) (aparelho de propriedade do morador, ou seja, que não pertence à operadora de internet): Frequência de uso', 'Vamos começar? No domicílio tem... Quantas motocicletas, desconsiderando as usadas exclusivamente para uso profissional?', 'No dia em que a Panificadora (máquina de pão) é utilizada, qual é o tempo de utilização? (somando todas às vezes em que utiliza ao longo do dia)', 'Horários de uso do aparelho de TV', 'Aparelho de som/ rádio (ligados na tomada quanto utilizados, desconsiderar rádios que funcionam somente com pilhas): Quantidade', 'Ferro elétrico a vapor (usando vapor): Frequência de uso', 'Modem para internet com função Roteador Wi-Fi (aparelho fornecido pela operadora no momento em que se contrata um plano de internet por assinatura): Frequência de uso', 'Forno elétrico (não é o acendedor do fogão a gás. Também é conhecido como \\\\\\\\\"forninho\\\\\"\\\\\"): Tempo de utilização (somando todas as vezes que utiliza ao longo do dia)\"', 'Quantas pessoas nesta residência são:Moradores ocasionais, pessoas que tem outro local de residência e, por ocasião da pesquisa, encontra-se dormindo e/ou fazendo refeições no domicílio pesquisado (hóspede, convidado, veranista, etc.).', 'Panela elétrica: Quantidade', 'Liquidificador: Tempo de utilização (somando todas as vezes que utiliza ao longo do dia)', 'No Break: Tempo de utilização (somando todas as vezes que utiliza ao longo do dia)', 'No dia em que a Máq. de lavar roupa automática é utilizada, qual é o tempo de utilização? (somando todas às vezes em que utiliza ao longo do dia)', 'O(A) sr.(a) mudaria seu sistema de aquecimento de água de banho, para solar?', 'O seu domicílio possui: Quarto, cuja lâmpada é ligada e desligada de modo habitual (ou seja, frequentemente a lâmpada é utilizada no mesmo período ao longo do dia)', 'Lava jato alta pressão (máquina): Tempo de utilização (somando todas as vezes que utiliza ao longo do dia)', 'Em qual(is) mês(es) do ano predomina o banho no modo completamente frio?', 'No dia em que o Condicionador de Ar é utilizado, qual é o tempo de utilização? (somando todas às vezes em que utiliza ao longo do dia)', 'Secadora de roupas (por aquecimento): O equipamento é desligado da tomada quando NÃO está em uso?', 'Nunca utilizo a parte traseira da geladeira para secar panos ou roupas:', 'Tablet: Quanto tempo por dia você deixa o aparelho ligado na tomada para carregar a bateria?', 'Aquecedor de ambiente: Horários de uso', 'TV: Frequência de uso', 'Evito banhos demorados utilizando o chuveiro elétrico:', 'Dentre elas, quantas são:Mais de 18 a 65 anos', 'Em qual(is) mês(es) do ano predomina o banho na temperatura máxima?', 'Vamos começar? No domicílio tem... Quantos fornos de micro-ondas?', 'Portão Eletrônico: Tempo de utilização (somando todas as vezes que utiliza ao longo do dia)', 'Celular: Em seu domicílio, quanto tempo por dia você deixa o aparelho ligado na tomada para carregar a bateria? (neste caso, desconsiderar o tempo em que carrega a bateria no trabalho, escola, ou outros locais)', 'No dia em que o Telefone sem fio é utilizado, qual é o tempo de utilização? (somando todas às vezes em que utiliza ao longo do dia)', 'No dia em que o Tablet é utilizado, qual é o tempo de utilização? (somando todas às vezes em que utiliza ao longo do dia)', 'Fogão elétrico (não é o acendedor do fogão a gás. O fogão elétrico também é conhecido como “Cooktop elétrico”. As panelas são colocadas sobre uma placa de vidro para aquecer): Frequência de uso', 'Tipo de tela', 'No dia em que o Ferro elétrico é utilizado, qual é o tempo de utilização? (somando todas às vezes em que utiliza ao longo do dia)', 'Ferro elétrico a seco: Tempo de utilização (somando todas as vezes que utiliza ao longo do dia)', 'Dentre elas, quantas são:Crianças até 10 anos', 'Ventilador ou Circulador de ar: O equipamento é desligado da tomada quando NÃO está em uso?', 'Notebook: Tempo de utilização (somando todas as vezes que utiliza ao longo do dia)', 'Frequência de uso em Fevereiro:', 'Tablet: Quantidade', 'Qual a posição do controlador de temperatura mais utilizada na hora de ligar o ar-condicionado nesta residência?', 'O(a) sr.(a) limpa periodicamente o filtro do condicionador de ar?', \"Bomba d'água: Quantidade\", 'O seu domicílio possui: Outros', 'Celular: Quantidade (deverá ser a soma de todos os aparelhos em uso na casa)', 'O seu domicílio possui: Copa / cozinha', 'Vamos começar? No domicílio tem... Quantos freezers independentes ou parte da geladeira duplex?', 'Receptor digital (aparelho que está associado diretamente à antenas parabólicas): O equipamento é desligado da tomada quando NÃO está em uso?', 'Banheiro (modo eventual): Total de lâmpadas por tipo:', 'Adega: Quantidade', 'Considerando o trecho da rua do seu domicílio, você diria que a rua é:', 'Secadora de roupas (por aquecimento): Quantidade', 'Lava jato alta pressão Máquina: Frequência de uso', 'Modem para internet com função Roteador Wi-Fi (aparelho fornecido pela operadora no momento em que se contrata um plano de internet por assinatura): O equipamento é desligado da tomada quando NÃO está em uso?', 'No dia em que a Chapinha (prancha alisadora) é utilizada, qual é o tempo de utilização? (somando todas às vezes em que utiliza ao longo do dia)', 'Frequência de uso em Julho:', 'Aquecedor de ambiente: Quantidade', 'Modem para internet com função Roteador Wi-Fi (aparelho fornecido pela operadora no momento em que se contrata um plano de internet por assinatura): Tempo de utilização (somando todas as vezes que utiliza ao longo do dia)', 'Adega: O equipamento é desligado da tomada quando NÃO está em uso?', 'Evito deixar os aparelhos elétricos em stand by (ligados na tomada):', 'Aquecedor de ambiente: Tempo de utilização (somando todas as vezes que utiliza ao longo do dia)', 'A água (do chuveiro, duchas ou torneiras) deste domicílio é aquecida por qual(is) fonte(s)?', 'Ventilador de teto: Horários de uso', 'Controlador de temperatura', 'Frequência de uso em Setembro:', 'O seu domicílio possui: Banheiro, cuja lâmpada é ligada e desligada de modo eventual (ou seja, não existe um período regular em que a lâmpada é utilizada)', 'Ferro elétrico a vapor (usando vapor): Quantidade', 'Impressora: Frequência de uso', 'Ventilador de teto: Frequência de uso', 'Cafeteira Elétrica: Tempo de utilização (somando todas as vezes que utiliza ao longo do dia)', 'Tipo de operação', 'Corredores: Total de lâmpadas por tipo:', 'Espremedor de frutas: Quantidade', 'Fritadeira elétrica com óleo: Frequência de uso', 'Área de Serviço: Horário de uso:', 'Triturador de lixo: Quantidade', 'Lava jato alta pressão (máquina): Quantidade', 'Por qual meio você recebe essas informações?', 'Este domicílio é exclusivamente residencial ou tem alguma atividade comercial ou industrial funcionando, seja de natureza formal ou informal? (por exemplo: funciona aqui uma pequena confecção, uma marcenaria, vocês fazem salgados e doces para festa. A', 'Horário de uso do condicionador de ar', 'O seu domicílio possui: Banheiro, cuja lâmpada é ligada e desligada de modo habitual (ou seja, frequentemente a lâmpada é utilizada no mesmo período ao longo do dia)', 'No dia em que o Refrigerador é utilizado, qual é o tempo de utilização? (somando todas às vezes em que utiliza ao longo do dia)', 'Tipo de domicílio:', 'Adega: Horários de uso', 'Bebedouro / purificador / filtro: Horários de uso', 'Conversor digital externo para TV aberta (aparelho que converte o sinal analógico em digital e conta com o auxílio da antena UHF): O equipamento é desligado da tomada quando NÃO está em uso?', \"Bomba d'água: Tempo de utilização (somando todas as vezes que utiliza ao longo do dia)\", 'Panificadora (máquina de pão): Quantidade', 'Capacidade térmica (Btu/h)', 'No dia em que o Aquecedor de água (chuveiro, torneira, boiler) é utilizado, qual é o tempo de utilização? (somando todas às vezes em que utiliza ao longo do dia)', 'Aparelho de som/ rádio: Frequência de uso', 'Na sua opinião qual seria a melhor forma de receber essas informações?', 'Evito acender lâmpadas durante o dia, aproveito a luz natural:', 'Condicionador de Ar: Frequência de uso', 'Adega: Frequência de uso', 'Máq. de lavar roupa semiautomática (tanquinho): Frequência de uso', 'No dia em que o Forno de micro-ondas é utilizado, qual é o tempo de utilização? (somando todas às vezes em que utiliza ao longo do dia)', 'Máquina de costura: Frequência de uso', 'O seu domicílio possui: Garagem', 'Área Externa: Total de lâmpadas por tipo:', 'Multiprocessador: Frequência de uso', 'Receptor digital (aparelho que está associado diretamente à antenas parabólicas): Tempo de utilização (somando todas as vezes que utiliza ao longo do dia)', 'Frequência de uso em Janeiro:', 'No dia em que a máquina de lavar roupas é utilizada, quantas lavagens são realizadas?', 'Secadora de roupas centrífuga: O equipamento é desligado da tomada quando NÃO está em uso?', 'Quarto (modo habitual): Horário de uso:', 'Cafeteira Elétrica: Frequência de uso', 'Capacidade de armazenagem total', 'Enceradeira: Tempo de utilização (somando todas as vezes que utiliza ao longo do dia)', 'Frequência de uso em Outubro:', 'O seu domicílio possui: Varandas', 'Espremedor de frutas: Frequência de uso', 'O seu domicílio possui: Corredores', 'O seu domicílio possui: Á�rea de Serviço', 'Panificadora (Máquina de pão): Frequência de uso', 'Frequência de uso em Abril:', 'Chapinha (prancha alisadora): Quantidade', 'Secadora de roupas centrífuga: Tempo de utilização (somando todas as vezes que utiliza ao longo do dia)', 'Elimino na rede elétrica da residência emendas mal feitas, fios ou cabos desencapados, ou com isolamento comprometido:', 'Receptor de TV por assinatura: Tempo de utilização (somando todas as vezes que utiliza ao longo do dia)', 'O(A) sr.(a) conhece ou já ouviu falar de aquecedor de água à gás para o banho?', 'Bebedouro / purificador / filtro: O equipamento é desligado da tomada quando NÃO está em uso?', 'Varandas: Horário de uso:', 'Vamos começar? No domicílio tem... Quantos banheiros?', 'Conversor digital externo para TV aberta (aparelho que converte o sinal analógico em digital e conta com o auxílio da antena UHF): Quantidade', 'Fritadeira elétrica sem óleo: Tempo de utilização (somando todas as vezes que utiliza ao longo do dia)', 'Ebulidor: Tempo de utilização (somando todas as vezes que utiliza ao longo do dia)', 'Procuro ligar a máquina de lavar só quando ela estiver com a capacidade máxima de roupas indicada pelo fabricante:', 'Fax: Quantidade', 'Portão Eletrônico: Frequência de uso', 'CLASSE SOCIAL:', 'No dia em que o Computador é utilizado, qual é o tempo de utilização? (somando todas às vezes em que utiliza ao longo do dia)', 'Área de Serviço: Total de lâmpadas por tipo:', 'Máquina de lavar louças: Frequência de uso', 'Telefone sem fio: Quantidade', 'Frequência de uso em Novembro:', 'No dia em que a Cafeteira Elétrica é utilizada, qual é o tempo de utilização? (somando todas às vezes em que utiliza ao longo do dia)', 'Secador de cabelo: Tempo de utilização (somando todas as vezes que utiliza ao longo do dia)', 'Forno elétrico (não é o acendedor do fogão a gás. Também é conhecido como \\\\\\\\\"forninho\\\\\"\\\\\"): Horários de uso\"', 'No dia em que a Secadora de roupas (por aquecimento) é utilizada, qual é o tempo de utilização? (somando todas às vezes em que utiliza ao longo do dia)', 'Computador: Frequência de uso', 'Multiprocessador: Tempo de utilização (somando todas as vezes que utiliza ao longo do dia)', 'Televisores no domicílio', 'Ao utilizar o ar-condicionado, mantenho portas e janelas fechadas, evitando assim a entrada de ar do ambiente externo:', 'Fritadeira elétrica com óleo: Quantidade', 'Você gostaria de receber?', 'Receptor digital (aparelho que está associado diretamente à antenas parabólicas): Quantidade', 'O seu domicílio possui: Á�rea Externa', 'No dia em que a Máquina de solda é utilizada, qual é o tempo de utilização? (somando todas às vezes em que utiliza ao longo do dia)', 'Qual(is) a(s) origem(ens) da energia elétrica utilizada(s) neste domicílio?', 'De dentro de casa, o teto é inclinado?', 'Horários de uso da máquina de lavar roupas', 'O seu domicílio possui: Sala de estar, jantar, tv', 'Quantas vezes por dia o chuveiro é utilizado?', 'Frequência de uso em Junho:', 'Consumo mensal de energia elétrica do domicílio, em kWh, encontrado no histórico de consumos do domicílio. (Atenção: não é o valor em R$ da conta):', 'Fax: No dia em que o aparelho é utilizado, qual é o tempo de utilização?', 'Quarto (modo habitual): Total de lâmpadas por tipo:', 'Tempo que possui este aparelho', 'Receptor de TV por assinatura: O equipamento é desligado da tomada quando NÃO está em uso?', 'Fonte de aquecimento', 'Copa / cozinha: Horário de uso:', 'Serra elétrica: Quantidade', 'No dia em que o Videogame é utilizado, qual é o tempo de utilização? (somando todas às vezes em que utiliza ao longo do dia)', 'Qual é a área construída aproximada deste domicílio, em m2?', 'Faca elétrica: Tempo de utilização (somando todas as vezes que utiliza ao longo do dia)', 'No dia em que o Roteador sem Fio (WI-FI) é utilizado, qual é o tempo de utilização? (somando todas às vezes em que utiliza ao longo do dia)', 'Sanduicheira elétrica (grill): Quantidade', 'No Break: Quantidade', 'Copa / cozinha: Total de lâmpadas por tipo:', 'Furadeira: Quantidade', 'Aspirador de pó: Tempo de utilização (somando todas as vezes que utiliza ao longo do dia)', 'No dia em que o Liquidificador é utilizado, qual é o tempo de utilização? (somando todas às vezes em que utiliza ao longo do dia)', 'Receptor de TV por assinatura: Frequência de uso', 'Banheiro (modo habitual): Total de lâmpadas por tipo:', 'Máquina de lavar louças: Quantidade', 'Em que andar o apartamento está localizado?', 'Qual(is) fonte(s) própria(s) de energia é(são) usada(s) neste domicílio para geração de energia elétrica?', 'Ferro elétrico a vapor (não usando vapor): Horários de uso', 'No dia em que a Serra elétrica é utilizada, qual é o tempo de utilização? (somando todas às vezes em que utiliza ao longo do dia)', 'O micro-ondas é desligado da tomada quando NÃO está em uso?', 'Projetores (Iluminação de jardim): Quantidade', 'Máq. de lavar roupa automática: Frequência de uso', 'Máquina de lavar louças: O equipamento é desligado da tomada quando NÃO está em uso?', 'Quais são os equipamentos elétricos utilizados nesta(s) atividade(s)?', 'Máquina de solda: Tempo de utilização (somando todas as vezes que utiliza ao longo do dia)', 'Fritadeira elétrica sem óleo: Quantidade', 'Secadora de roupas (por aquecimento): Horários de uso', 'No dia em que a Fritadeira elétrica sem óleo é utilizada, qual é o tempo de utilização? (somando todas às vezes em que utiliza ao longo do dia)', 'Modem para internet com função Roteador Wi-Fi (aparelho fornecido pela operadora no momento em que se contrata um plano de internet por assinatura): Quantidade', 'Frequência de uso', 'Notebook: O equipamento é desligado da tomada quando NÃO está em uso?', 'Sala de estar, jantar, tv: Horário de uso:', 'Acumulo o maior número de peças de roupa para ligar o ferro o mínimo de vezes possível:', 'Aquecedor de ambiente: Frequência de uso', 'Ventilador de teto: Tempo de utilização (somando todas as vezes que utiliza ao longo do dia)', 'Ebulidor: Frequência de uso', 'Sanduicheira elétrica (grill): Frequência de uso', 'Impressora: Tempo de utilização (somando todas as vezes que utiliza ao longo do dia)', 'Serra elétrica: Tempo de utilização (somando todas as vezes que utiliza ao longo do dia)', 'No Break: Frequência de uso', 'Uso a chave seletora na posição verão pois desta forma eu reduzo o consumo de energia do chuveiro elétrico:', 'Mantenho a borracha de vedação da porta da geladeira em bom estado e troco a borracha quando percebo a necessidade:', 'Ferro elétrico a vapor (não usando vapor): Frequência de uso', 'Uso a temperatura do ferro de passar indicada para cada tipo de tecido e começo pelas mais leves:', 'Tipo de aparelho:', 'Computador: Quantidade', 'Dou preferência a lâmpadas de LED ou fluorescentes:', 'Videogame: Frequência de uso', 'No dia em que o DVD/Video/Blu-Ray é utilizado, qual é o tempo de utilização? (somando todas às vezes em que utiliza ao longo do dia)', 'Chuveiros no domicílio? (independente de ter ou não água aquecida)', 'Fogão elétrico (não é o acendedor do fogão a gás. O fogão elétrico também é conhecido como “Cooktop elétrico”. As panelas são colocadas sobre uma placa de vidro para aquecer): Quantidade', 'No Break: O equipamento é desligado da tomada quando NÃO está em uso?', 'O(A) sr.(a) realiza limpeza periódica das placas solares?', 'Regulo o termostato da geladeira em função das estações (inverno, verão, outono/primavera):', 'Qual é o grau de instrução do chefe da família? Considere como chefe da família a pessoa que contribui com a maior parte da renda do domicílio.', 'O(A) sr.(a) mudaria seu sistema de aquecimento de água de banho, para gás?', 'Qual o tempo médio de duração do banho?', 'Tamanho (polegadas)', 'Condicionadores de ar no domicílio', 'Micro-ondas no domicílio', 'Qual a temperatura mais utilizada na hora de ligar o ar-condicionado nesta residência?', 'Computador: Horários de uso', 'Potência máxima do aparelho', 'Frequência de uso em Março:', 'Aparelho de som/ rádio (ligados na tomada quanto utilizados, desconsiderar rádios que funcionam somente com pilhas): Frequência de uso', 'Forno elétrico (não é o acendedor do fogão a gás. Também é conhecido como \\\\\\\\\"forninho\\\\\"\\\\\"): O equipamento é desligado da tomada quando NÃO está em uso?\"', 'Ferro elétrico a vapor (usando vapor): Horários de uso', 'Enceradeira: Quantidade', 'Outros: Total de lâmpadas por tipo:', 'Aparelho de som/ rádio (ligados na tomada quanto utilizados, desconsiderar rádios que funcionam somente com pilhas): Tempo de utilização (somando todas as vezes que utiliza ao longo do dia)', 'Varandas: Total de lâmpadas por tipo:', 'Frequência de uso em Agosto:', 'Dentre elas, quantas são:Adolescentes de 11 a 18 anos', 'No dia em que o Celular é utilizado, qual é o tempo de utilização? (somando todas às vezes em que utiliza ao longo do dia)', 'Em qual(is) mês(es) do ano predomina o banho na temperatura intermediária?', 'No dia em que o Ventilador ou Circulador de ar é utilizado, qual é o tempo de utilização? (somando todas às vezes em que utiliza ao longo do dia)', 'Máquina de solda: Frequência de uso', 'Dentre elas, quantas são:Acima de 65 anos', 'No dia em que o Bebedouro / purificador / filtro é utilizado, qual é o tempo de utilização? (somando todas às vezes em que utiliza ao longo do dia)', 'Secadora de roupas (por aquecimento): Tempo de utilização (somando todas as vezes que utiliza ao longo do dia)', 'Secador de cabelo: Quantidade', 'Receptor de TV por assinatura: Quantidade', 'Máquina de costura: Quantidade', 'Sanduicheira elétrica (grill): Tempo de utilização (somando todas as vezes que utiliza ao longo do dia)'}\n"
     ]
    }
   ],
   "source": [
    "questions_set =  set(df['desc_pergunta'].to_list())\n",
    "print(questions_set)"
   ]
  },
  {
   "cell_type": "code",
   "execution_count": 4,
   "id": "f2f9bd73",
   "metadata": {},
   "outputs": [
    {
     "name": "stdout",
     "output_type": "stream",
     "text": [
      "40461\n"
     ]
    }
   ],
   "source": [
    "question_list_total_refrigerators = 'Refrigeradores no domicílio'\n",
    "df_question_total_refrigerators = df.loc[df['desc_pergunta'] == question_list_total_refrigerators]\n",
    "print(len(df_question_total_refrigerators))"
   ]
  },
  {
   "cell_type": "code",
   "execution_count": 5,
   "id": "b7c77926",
   "metadata": {},
   "outputs": [
    {
     "name": "stdout",
     "output_type": "stream",
     "text": [
      "1988:  0\n",
      "1997:  17376\n",
      "2005:  4310\n",
      "2019:  18775\n"
     ]
    }
   ],
   "source": [
    "df_question_total_refrigerators_1988 = df_question_total_refrigerators.loc[df_question_total_refrigerators['data_inicio'].str.contains(\"1988\")]\n",
    "df_question_total_refrigerators_1997 = df_question_total_refrigerators.loc[df_question_total_refrigerators['data_inicio'].str.contains(\"1997\")]\n",
    "df_question_total_refrigerators_2005 = df_question_total_refrigerators.loc[df_question_total_refrigerators['data_inicio'].str.contains(\"2005\")]\n",
    "df_question_total_refrigerators_2019 = df_question_total_refrigerators.loc[df_question_total_refrigerators['data_inicio'].str.contains(\"2019\")]\n",
    "\n",
    "print('1988: ', len(df_question_total_refrigerators_1988))\n",
    "print('1997: ', len(df_question_total_refrigerators_1997))\n",
    "print('2005: ', len(df_question_total_refrigerators_2005))\n",
    "print('2019: ', len(df_question_total_refrigerators_2019))"
   ]
  },
  {
   "cell_type": "code",
   "execution_count": 48,
   "id": "83f317f9",
   "metadata": {},
   "outputs": [
    {
     "name": "stdout",
     "output_type": "stream",
     "text": [
      "{0, 1, 2, 3, 4, 5}\n",
      "{'Quantidade:'}\n"
     ]
    }
   ],
   "source": [
    "answer_list = df_question_total_refrigerators_2019['resposta'].to_list()\n",
    "paralel_a_list = df_question_total_refrigerators_2019['paralelo_a'].to_list()\n",
    "brazil_region_list = df_question_total_refrigerators_2019['desc_regiao'].to_list()\n",
    "answers_set_total_refrigerators_paralelo_a = set(answer_list)\n",
    "answers_set_total_refrigerators_resposta = set(paralel_a_list)\n",
    "print(answers_set_total_refrigerators_paralelo_a)\n",
    "print(answers_set_total_refrigerators_resposta)"
   ]
  },
  {
   "cell_type": "code",
   "execution_count": 54,
   "id": "903f542a",
   "metadata": {},
   "outputs": [
    {
     "name": "stdout",
     "output_type": "stream",
     "text": [
      "{1: 4058, 0: 124, 2: 178, 3: 13, 5: 1, 4: 1}\n",
      "1.02\n",
      "{1: 0.9275, 0: 0.0283, 2: 0.0407, 3: 0.003, 5: 0.0002, 4: 0.0002}\n"
     ]
    }
   ],
   "source": [
    "answers_dict = dict()\n",
    "total_refrigerators = 0\n",
    "answers_count = 0\n",
    "for i in range(len(answer_list)):\n",
    "    region = brazil_region_list[i]\n",
    "    if region != 'NO':\n",
    "        continue\n",
    "    number_of_refrigerators = answer_list[i]\n",
    "    total_refrigerators += number_of_refrigerators\n",
    "    if number_of_refrigerators in answers_dict:\n",
    "        answers_dict[number_of_refrigerators] += 1\n",
    "    else:\n",
    "        answers_dict[number_of_refrigerators] = 1\n",
    "    answers_count += 1\n",
    "    \n",
    "print(answers_dict)\n",
    "percentage_dict = dict()\n",
    "\n",
    "for number_of_ref in answers_dict:\n",
    "    percentage_dict[number_of_ref] = round(answers_dict[number_of_ref] / answers_count, 4)\n",
    "\n",
    "print(round(total_refrigerators / answers_count, 2))\n",
    "print(percentage_dict)\n"
   ]
  },
  {
   "cell_type": "code",
   "execution_count": null,
   "id": "7a814d54",
   "metadata": {},
   "outputs": [],
   "source": []
  }
 ],
 "metadata": {
  "kernelspec": {
   "display_name": "Python 3 (ipykernel)",
   "language": "python",
   "name": "python3"
  },
  "language_info": {
   "codemirror_mode": {
    "name": "ipython",
    "version": 3
   },
   "file_extension": ".py",
   "mimetype": "text/x-python",
   "name": "python",
   "nbconvert_exporter": "python",
   "pygments_lexer": "ipython3",
   "version": "3.10.6"
  }
 },
 "nbformat": 4,
 "nbformat_minor": 5
}
