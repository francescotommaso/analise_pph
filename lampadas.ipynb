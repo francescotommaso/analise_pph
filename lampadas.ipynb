{
 "cells": [
  {
   "cell_type": "code",
   "execution_count": 1,
   "id": "15805025",
   "metadata": {},
   "outputs": [
    {
     "name": "stdout",
     "output_type": "stream",
     "text": [
      "Index(['id_regiao', 'id', 'cod_entrevista', 'data_inicio', 'data_fim',\n",
      "       'id_questionario', 'ID_HORARIO', 'ID_EQUIPAMENTO', 'ID_LAMPADA',\n",
      "       'ID_COMODO', 'id_alternativa', 'id_pergunta', 'id_resposta', 'loop',\n",
      "       'resposta', 'desc_pergunta', 'ORDEM', 'paralelo_p', 'cod_alternativa',\n",
      "       'alternativa', 'valores', 'paralelo_a', 'DESC_COMODO', 'DESC_LAMPADA',\n",
      "       'DESC_EQUIPAMENTO', 'DESC_HORARIO', 'desc_regiao', 'desc_uf',\n",
      "       'desc_municipio', 'ano_entrevista', 'cod_alternativa2'],\n",
      "      dtype='object')\n"
     ]
    }
   ],
   "source": [
    "import pandas as pd\n",
    "\n",
    "\n",
    "path = 'ANALISES/final.csv'\n",
    "\n",
    "df = pd.read_csv(path, sep=';', on_bad_lines='skip')\n",
    "\n",
    "print(df.columns)"
   ]
  },
  {
   "cell_type": "code",
   "execution_count": 2,
   "id": "556e858b",
   "metadata": {},
   "outputs": [
    {
     "name": "stdout",
     "output_type": "stream",
     "text": [
      "{'O equipamento é desligado da tomada quando NÃO está em uso?', 'Impressora: Tempo de utilização (somando todas as vezes que utiliza ao longo do dia)', 'No dia em que a TV é utilizada, qual é o tempo de utilização? (somando todas às vezes em que utiliza ao longo do dia)', 'O seu domicílio possui: Sala de estar, jantar, tv', 'O(A) sr.(a) conhece ou já ouviu falar de aquecedor de água à gás para o banho?', 'Fritadeira elétrica com óleo: Tempo de utilização (somando todas as vezes que utiliza ao longo do dia)', 'CONTINUAR?', 'Ferro elétrico a seco: Tempo de utilização (somando todas as vezes que utiliza ao longo do dia)', 'Sanduicheira elétrica (grill): Tempo de utilização (somando todas as vezes que utiliza ao longo do dia)', 'Fax: O equipamento é desligado da tomada quando NÃO está em uso?', 'Horários de uso da máquina de lavar roupas', 'Ferro elétrico: Frequência de uso', 'No dia em que a Impressora é utilizada, qual é o tempo de utilização? (somando todas às vezes em que utiliza ao longo do dia)', 'No dia em que a Adega é utilizada, qual é o tempo de utilização? (somando todas às vezes em que utiliza ao longo do dia)', 'Aquecedor de ambiente: Frequência de uso', 'Quarto (modo eventual): Total de lâmpadas por tipo:', 'Serra elétrica: Tempo de utilização (somando todas as vezes que utiliza ao longo do dia)', 'Área de Serviço: Total de lâmpadas por tipo:', 'O seu domicílio possui: Copa / cozinha', 'Área Externa: Horário de uso:', 'Conversor digital externo para TV aberta (aparelho que converte o sinal analógico em digital e conta com o auxílio da antena UHF): O equipamento é desligado da tomada quando NÃO está em uso?', 'O(A) sr.(a) realiza limpeza periódica das placas solares?', 'Evito banhos demorados utilizando o chuveiro elétrico:', 'Impressora: Frequência de uso', 'Máquina de lavar louças: Horários de uso', 'Tablet: Quantidade', 'Varandas: Total de lâmpadas por tipo:', 'Qual é o grau de instrução do chefe da família? Considere como chefe da família a pessoa que contribui com a maior parte da renda do domicílio.', 'Máquina de costura: Quantidade', 'Frequência de uso em Junho:', 'No dia em que o Freezer é utilizado, qual é o tempo de utilização? (somando todas às vezes em que utiliza ao longo do dia)', 'Considerando o trecho da rua do seu domicílio, você diria que a rua é:', 'Bebedouro / purificador / filtro: Quantidade', 'DVD/Video/Blu-Ray: Tempo de utilização (somando todas as vezes que utiliza ao longo do dia)', 'Banheiro (modo habitual): Horário de uso:', 'Capacidade térmica (Btu/h)', 'Vamos começar? No domicílio tem... Quantas máquinas secadoras de roupas, considerando lava e seca?', 'Videogame: Horários de uso', 'No dia em que o Aquecedor de água (chuveiro, torneira, boiler) é utilizado, qual é o tempo de utilização? (somando todas às vezes em que utiliza ao longo do dia)', 'Secadora de roupas centrífuga: O equipamento é desligado da tomada quando NÃO está em uso?', 'Não guardo alimentos quentes e nem sem tampas na geladeira:', 'A máquina de lavar roupas é desligada da tomada quando NÃO está em uso?', 'Vamos começar? No domicílio tem... Quantas máquinas de lavar roupa, excluindo tanquinho?', 'Fogão elétrico (não é o acendedor do fogão a gás. O fogão elétrico também é conhecido como “Cooktop elétrico”. As panelas são colocadas sobre uma placa de vidro para aquecer): Tempo de utilização (somando todas as vezes que utiliza ao longo do dia)', 'Fritadeira elétrica sem óleo: Tempo de utilização (somando todas as vezes que utiliza ao longo do dia)', 'O(a) sr.(a) limpa periodicamente o filtro do condicionador de ar?', 'Conversor digital externo para TV aberta (aparelho que converte o sinal analógico em digital e conta com o auxílio da antena UHF): Quantidade', 'Elimino na rede elétrica da residência emendas mal feitas, fios ou cabos desencapados, ou com isolamento comprometido:', 'Aquecedor de ambiente: Horários de uso', 'Qual o tom da cor predominante das paredes externas da residência?', 'Secadora de roupas centrífuga: Quantidade', 'Qual o tempo médio de duração do banho?', 'O(A) sr.(a) utilizaria um sistema de aquecimento a gás para aquecer a água do seu banho?', 'Enceradeira: Frequência de uso', 'Ao utilizar o ar-condicionado, mantenho portas e janelas fechadas, evitando assim a entrada de ar do ambiente externo:', 'Tipo do aparelho', 'No dia em que o Tablet é utilizado, qual é o tempo de utilização? (somando todas às vezes em que utiliza ao longo do dia)', 'Batedeira: Tempo de utilização (somando todas as vezes que utiliza ao longo do dia)', 'Secador de cabelo: Frequência de uso', 'Secadora de roupas (por aquecimento): Frequência de uso', 'No dia em que a Cafeteira Elétrica é utilizada, qual é o tempo de utilização? (somando todas às vezes em que utiliza ao longo do dia)', 'Espremedor de frutas: Quantidade', 'No dia em que o Bebedouro / purificador / filtro é utilizado, qual é o tempo de utilização? (somando todas às vezes em que utiliza ao longo do dia)', 'Secador de cabelo: Quantidade', 'No dia em que o Notebook é utilizado, qual é o tempo de utilização? (somando todas às vezes em que utiliza ao longo do dia)', 'Receptor de TV por assinatura: O equipamento é desligado da tomada quando NÃO está em uso?', 'No dia em que o Modem (TV / Internet a cabo) é utilizado, qual é o tempo de utilização? (somando todas às vezes em que utiliza ao longo do dia)', 'Aquecedor de ambiente: O equipamento é desligado da tomada quando NÃO está em uso?', 'Panela elétrica: Tempo de utilização (somando todas as vezes que utiliza ao longo do dia)', 'Ventilador ou Circulador de ar: O equipamento é desligado da tomada quando NÃO está em uso?', 'Panela elétrica: Frequência de uso', 'Secadora de roupas centrífuga: Frequência de uso', 'Cafeteira Elétrica: Tempo de utilização (somando todas as vezes que utiliza ao longo do dia)', 'Máquina de lavar louças: O equipamento é desligado da tomada quando NÃO está em uso?', 'No dia em que o Computador é utilizado, qual é o tempo de utilização? (somando todas às vezes em que utiliza ao longo do dia)', 'Dentre elas, quantas são:Crianças até 10 anos', 'Área de Serviço: Horário de uso:', 'Vamos começar? No domicílio tem... Quantos fornos de micro-ondas?', 'No dia em que o Aparelho de som/ rádio é utilizado, qual é o tempo de utilização? (somando todas às vezes em que utiliza ao longo do dia)', 'Qual a posição do controlador de temperatura mais utilizada na hora de ligar o ar-condicionado nesta residência?', 'Consumo mensal de energia elétrica do domicílio, em kWh, encontrado no histórico de consumos do domicílio. (Atenção: não é o valor em R$ da conta):', 'No dia em que a Máq. de lavar roupa automática é utilizada, qual é o tempo de utilização? (somando todas às vezes em que utiliza ao longo do dia)', 'Secador de cabelo: Tempo de utilização (somando todas as vezes que utiliza ao longo do dia)', 'Aparelho de som/ rádio: Frequência de uso', 'No dia em que a Serra elétrica é utilizada, qual é o tempo de utilização? (somando todas às vezes em que utiliza ao longo do dia)', 'TV: Frequência de uso', 'Panificadora (máquina de pão): Tempo de utilização (somando todas as vezes que utiliza ao longo do dia)', 'Máquina de solda: Tempo de utilização (somando todas as vezes que utiliza ao longo do dia)', 'Ventilador ou Circulador de ar: Frequência de uso', 'Aparelho de som/ rádio (ligados na tomada quanto utilizados, desconsiderar rádios que funcionam somente com pilhas): Tempo de utilização (somando todas as vezes que utiliza ao longo do dia)', 'Aparelho de som/ rádio (ligados na tomada quanto utilizados, desconsiderar rádios que funcionam somente com pilhas): Quantidade', 'Máquina de lavar louças: Frequência de uso', 'Roteador sem Fio (WI-FI): Frequência de uso', 'Liquidificador: Tempo de utilização (somando todas as vezes que utiliza ao longo do dia)', 'Ventilador ou Circulador de ar: Tempo de utilização (somando todas as vezes que utiliza ao longo do dia)', 'Máquina de lavar louças: Tempo de utilização (somando todas as vezes que utiliza ao longo do dia)', 'Ebulidor: Quantidade', 'Capacidade de armazenagem total', 'Qual o tipo de apoio (reserva) do sistema de aquecimento solar da sua residência?', 'Modem para internet com função Roteador Wi-Fi (aparelho fornecido pela operadora no momento em que se contrata um plano de internet por assinatura): O equipamento é desligado da tomada quando NÃO está em uso?', 'No dia em que a Fritadeira elétrica sem óleo é utilizada, qual é o tempo de utilização? (somando todas às vezes em que utiliza ao longo do dia)', 'Roteador sem Fio (WI-FI) (aparelho de propriedade do morador, ou seja, que não pertence à operadora de internet): Tempo de utilização (somando todas as vezes que utiliza ao longo do dia)', 'Que tipo de proteção solar há nas janelas pelo lado de fora da residência?', 'Aparelho de som/ rádio (ligados na tomada quanto utilizados, desconsiderar rádios que funcionam somente com pilhas): Frequência de uso', 'Desligo o ferro de passar quando interrompo o serviço:', 'Secadora de roupas centrífuga: Tempo de utilização (somando todas as vezes que utiliza ao longo do dia)', 'Ferro elétrico a vapor (não usando vapor): Tempo de utilização (somando todas as vezes que utiliza ao longo do dia)', 'Horário de uso do condicionador de ar', 'O seu domicílio possui: Á�rea Externa', 'Celular: Quantidade (deverá ser a soma de todos os aparelhos em uso na casa)', 'Qual(is) o(s) mês(es) o ar-condicionado é(são) utilizado(s) nesta residência? (em média)', 'Tablet: Frequência de uso', 'Condicionador de Ar: Frequência de uso', 'Preciso registrar o consumo mensal de energia elétrica em seu domicílio, esta informação aparece em sua conta de energia elétrica. Você poderia me apresentar a conta?', 'Ventilador de teto: Frequência de uso', 'Quantas vezes por dia o chuveiro é utilizado?', 'Frequência de uso em Dezembro:', 'Panela elétrica: Quantidade', 'Apago sempre as lâmpadas dos ambientes desocupados:', 'Frequência de uso em Abril:', 'Este domicílio é exclusivamente residencial ou tem alguma atividade comercial ou industrial funcionando, seja de natureza formal ou informal? (por exemplo: funciona aqui uma pequena confecção, uma marcenaria, vocês fazem salgados e doces para festa. A', 'Frequência de uso em Setembro:', 'Fonte de aquecimento', 'Furadeira: Tempo de utilização (somando todas as vezes que utiliza ao longo do dia)', 'Notebook: Tempo de utilização (somando todas as vezes que utiliza ao longo do dia)', 'No dia em que o Telefone sem fio é utilizado, qual é o tempo de utilização? (somando todas às vezes em que utiliza ao longo do dia)', 'A água utilizada neste domicílio é proveniente de?', 'Ventilador ou Circulador de ar: Horários de uso', 'Fax: Quantidade', 'No dia em que o Forno de micro-ondas é utilizado, qual é o tempo de utilização? (somando todas às vezes em que utiliza ao longo do dia)', 'Aparelho de som/ rádio: O equipamento é desligado da tomada quando NÃO está em uso?', 'Conversor digital externo para TV aberta (aparelho que converte o sinal analógico em digital e conta com o auxílio da antena UHF): Tempo de utilização (somando todas as vezes que utiliza ao longo do dia)', 'O(A) sr.(a) mudaria seu sistema de aquecimento de água de banho, para solar?', 'Quantas pessoas nesta residência são:Moradores ocasionais, pessoas que tem outro local de residência e, por ocasião da pesquisa, encontra-se dormindo e/ou fazendo refeições no domicílio pesquisado (hóspede, convidado, veranista, etc.).', 'No dia em que o Ventilador ou Circulador de ar é utilizado, qual é o tempo de utilização? (somando todas às vezes em que utiliza ao longo do dia)', 'Sanduicheira elétrica (grill): Quantidade', 'Televisores no domicílio', 'No dia em que a Fritadeira elétrica com óleo é utilizada, qual é o tempo de utilização? (somando todas às vezes em que utiliza ao longo do dia)', 'Ferro elétrico a vapor (não usando vapor): Frequência de uso', 'No dia em que o Roteador sem Fio (WI-FI) é utilizado, qual é o tempo de utilização? (somando todas às vezes em que utiliza ao longo do dia)', 'Corredores: Total de lâmpadas por tipo:', 'Telefone sem fio: Frequência de uso', 'Receptor digital (aparelho que está associado diretamente à antenas parabólicas): Quantidade', 'Aspirador de pó: Quantidade', 'Mantenho o ar-condicionado sempre desligado quando estou fora do ambiente por muito tempo:', 'Frequência de uso em Março:', 'No dia em que o Videogame é utilizado, qual é o tempo de utilização? (somando todas às vezes em que utiliza ao longo do dia)', 'Ferro elétrico a vapor (usando vapor): Tempo de utilização (somando todas as vezes que utiliza ao longo do dia)', 'O seu domicílio possui: Varandas', 'Fogão elétrico (não é o acendedor do fogão a gás. O fogão elétrico também é conhecido como “Cooktop elétrico”. As panelas são colocadas sobre uma placa de vidro para aquecer): Frequência de uso', 'Adega: Frequência de uso', 'Celular: Frequência de uso', 'Triturador de lixo: Tempo de utilização (somando todas as vezes que utiliza ao longo do dia)', 'Tipo de operação', 'A TV é desligada da tomada quando NÃO está em uso?', 'Ebulidor: Tempo de utilização (somando todas as vezes que utiliza ao longo do dia)', 'No dia em que o Aspirador de pó é utilizado, qual é o tempo de utilização? (somando todas às vezes em que utiliza ao longo do dia)', 'Furadeira: Quantidade', 'Quantas pessoas nesta residência são:Empregados que NÃO dormem na residência, considerando apenas os que trabalham pelo menos cinco dias por semana.', 'Roteador sem Fio (WI-FI) (aparelho de propriedade do morador, ou seja, que não pertence à operadora de internet): Quantidade', 'Computador: Tempo de utilização (somando todas as vezes que utiliza ao longo do dia)', 'Na residência há janelas em mais de uma parede externa? (exemplo: janelas na parede da frente e dos fundos ao mesmo tempo, ou parede da frente e lateral ao mesmo tempo, etc.)', 'Você gostaria de receber?', 'Multiprocessador: Frequência de uso', 'Panificadora (Máquina de pão): Frequência de uso', 'Freezer no domicílio (independente)', 'Adquiriu novo ou usado?', 'O micro-ondas é desligado da tomada quando NÃO está em uso?', 'Procuro ligar a máquina de lavar só quando ela estiver com a capacidade máxima de roupas indicada pelo fabricante:', 'Projetores (Iluminação de jardim): Quantidade', 'Chuveiros no domicílio? (independente de ter ou não água aquecida)', 'No dia em que o No Break é utilizado, qual é o tempo de utilização? (somando todas às vezes em que utiliza ao longo do dia)', 'Celular: Em seu domicílio, quanto tempo por dia você deixa o aparelho ligado na tomada para carregar a bateria? (neste caso, desconsiderar o tempo em que carrega a bateria no trabalho, escola, ou outros locais)', 'Forno de micro-ondas: Frequência de uso', 'Fritadeira elétrica com óleo: Frequência de uso', 'No dia em que a Chapinha (prancha alisadora) é utilizada, qual é o tempo de utilização? (somando todas às vezes em que utiliza ao longo do dia)', 'Conversor digital externo para TV aberta (aparelho que converte o sinal analógico em digital e conta com o auxílio da antena UHF): Frequência de uso', 'Frequência de uso em Agosto:', 'Mantenho a borracha de vedação da porta da geladeira em bom estado e troco a borracha quando percebo a necessidade:', 'Impressora: Quantidade', 'Computador: Quantidade', 'Quarto (modo habitual): Total de lâmpadas por tipo:', 'Micro-ondas no domicílio', 'Sala de estar, jantar, tv: Horário de uso:', 'O seu domicílio possui: Garagem', 'Faca elétrica: Frequência de uso', 'No dia em que a Panela elétrica é utilizada, qual é o tempo de utilização? (somando todas às vezes em que utiliza ao longo do dia)', 'Aparelho de som/ rádio (ligados na tomada quanto utilizados, desconsiderar rádios que funcionam somente com pilhas): Horários de uso', 'Qual é o material que predomina na construção das paredes externas deste domicílio?', 'Vamos começar? No domicílio tem... Quantos DVD, incluindo qualquer dispositivo que leia DVD e desconsiderando DVD de automóvel?', 'Vamos começar? No domicílio tem... Quantas lavadora de louças?', 'Ao comprar lâmpadas e eletrodomésticos, dou preferência pelos que consomem menos energia elétrica:', 'Secadora de roupas centrífuga: Horários de uso', 'Vamos começar? No domicílio tem... Quantas geladeiras?', 'Celular: Frequência de uso (do celular do entrevistado)', 'Lava jato alta pressão (máquina): Quantidade', 'Qual é a área construída aproximada deste domicílio, em m2?', 'Uso a chave seletora na posição verão pois desta forma eu reduzo o consumo de energia do chuveiro elétrico:', 'Telefone sem fio: O equipamento é desligado da tomada quando NÃO está em uso?', 'Regulo o termostato da geladeira em função das estações (inverno, verão, outono/primavera):', 'Vamos começar? No domicílio tem... Quantos microcomputadores, considerando computadores de mesa, laptops, notebooks e netbooks e desconsiderando tablets, palms ou smartphones?', 'Ferro elétrico a vapor (usando vapor): Horários de uso', 'Notebook: O equipamento é desligado da tomada quando NÃO está em uso?', 'Panificadora (máquina de pão): Quantidade', 'Impressora: O equipamento é desligado da tomada quando NÃO está em uso?', 'No dia em que o DVD/Video/Blu-Ray é utilizado, qual é o tempo de utilização? (somando todas às vezes em que utiliza ao longo do dia)', 'O(A) sr.(a) conhece ou já ouviu falar de aquecedor solar de água para o banho?', 'Chapinha (prancha alisadora): Quantidade', 'DVD/Video/Blu-Ray: O equipamento é desligado da tomada quando NÃO está em uso?', 'Outros: Horário de uso:', 'Tablet: Quanto tempo por dia você deixa o aparelho ligado na tomada para carregar a bateria?', 'Tipo de tela', 'Ventilador de teto: Quantidade', 'Receptor de TV por assinatura: Frequência de uso', 'Forno elétrico (não é o acendedor do fogão a gás. Também é conhecido como \\\\\\\\\"forninho\\\\\"\\\\\"): O equipamento é desligado da tomada quando NÃO está em uso?\"', 'Secadora de roupas (por aquecimento): O equipamento é desligado da tomada quando NÃO está em uso?', 'Vamos começar? No domicílio tem... Quantos freezers independentes ou parte da geladeira duplex?', 'Ventilador ou Circulador de ar: Quantidade', 'Garagem: Total de lâmpadas por tipo:', 'Modem para internet com função Roteador Wi-Fi (aparelho fornecido pela operadora no momento em que se contrata um plano de internet por assinatura): Quantidade', 'Tipo de aparelho:', 'Bebedouro / purificador / filtro: Tempo de utilização (somando todas as vezes que utiliza ao longo do dia)', 'O seu domicílio possui: Banheiro, cuja lâmpada é ligada e desligada de modo eventual (ou seja, não existe um período regular em que a lâmpada é utilizada)', 'Enceradeira: Quantidade', 'Multiprocessador: Tempo de utilização (somando todas as vezes que utiliza ao longo do dia)', 'No dia em que o Celular é utilizado, qual é o tempo de utilização? (somando todas às vezes em que utiliza ao longo do dia)', 'Tempo que possui este aparelho', 'Filtro de Piscina: Quantidade', 'No dia em que a Batedeira é utilizada, qual é o tempo de utilização? (somando todas às vezes em que utiliza ao longo do dia)', 'Quarto (modo habitual): Horário de uso:', 'No dia em que a Panificadora (máquina de pão) é utilizada, qual é o tempo de utilização? (somando todas às vezes em que utiliza ao longo do dia)', 'Evito acender lâmpadas durante o dia, aproveito a luz natural:', 'Dou preferência a lâmpadas de LED ou fluorescentes:', 'Refrigerador: Frequência de uso', 'Receptor digital (aparelho que está associado diretamente à antenas parabólicas): Frequência de uso', 'Bebedouro / purificador / filtro: Horários de uso', 'Batedeira: Quantidade', 'Computador: O equipamento é desligado da tomada quando NÃO está em uso?', 'No dia em que o Refrigerador é utilizado, qual é o tempo de utilização? (somando todas às vezes em que utiliza ao longo do dia)', 'Máquina de Lavar Roupas', 'Bebedouro / purificador / filtro: O equipamento é desligado da tomada quando NÃO está em uso?', 'Secadora de roupas (por aquecimento): Quantidade', 'Nunca utilizo a parte traseira da geladeira para secar panos ou roupas:', \"Bomba d'água: Frequência de uso\", 'No dia em que a Secadora de roupas (por aquecimento) é utilizada, qual é o tempo de utilização? (somando todas às vezes em que utiliza ao longo do dia)', \"Bomba d'água: Tempo de utilização (somando todas as vezes que utiliza ao longo do dia)\", 'No dia em que a Furadeira é utilizada, qual é o tempo de utilização? (somando todas às vezes em que utiliza ao longo do dia)', 'Por qual meio você recebe essas informações?', 'Adega: Horários de uso', 'Em qual(is) mês(es) do ano predomina o banho no modo completamente frio?', 'Ferro elétrico a vapor (usando vapor): Frequência de uso', 'Notebook: Horários de uso', 'Receptor de TV por assinatura: Tempo de utilização (somando todas as vezes que utiliza ao longo do dia)', 'Quantos Chuveiros Elétricos?', 'Receptor de TV por assinatura: Quantidade', 'Computador: Frequência de uso', 'No Break: Tempo de utilização (somando todas as vezes que utiliza ao longo do dia)', 'O seu domicílio possui: Outros', 'O(A) sr.(a) mudaria seu sistema de aquecimento de água de banho, para gás?', 'Notebook: Quantidade', 'O seu domicílio possui: Banheiro, cuja lâmpada é ligada e desligada de modo habitual (ou seja, frequentemente a lâmpada é utilizada no mesmo período ao longo do dia)', 'Frequência de uso em Novembro:', 'Quantas pessoas nesta residência são:Moradores habituais, pessoas que tem a unidade domiciliar como local de residência habitual no período da pesquisa.', 'Chapinha (prancha alisadora): Frequência de uso', 'Aquecedor de ambiente: Quantidade', 'No dia em que o Condicionador de Ar é utilizado, qual é o tempo de utilização? (somando todas às vezes em que utiliza ao longo do dia)', 'Ferro elétrico a vapor (não usando vapor): Quantidade', 'Fritadeira elétrica sem óleo: Frequência de uso', 'Adega: Quantidade', 'Vamos começar? No domicílio tem... Quantas motocicletas, desconsiderando as usadas exclusivamente para uso profissional?', 'Enceradeira: Tempo de utilização (somando todas as vezes que utiliza ao longo do dia)', 'Corredores: Horário de uso:', 'Faca elétrica: Quantidade', 'De dentro de casa é possível ver diretamente o telhado?', 'Tamanho (polegadas)', 'De dentro de casa, o teto é inclinado?', 'Em que andar o apartamento está localizado?', 'No dia em que o Multiprocessador é utilizado, qual é o tempo de utilização? (somando todas às vezes em que utiliza ao longo do dia)', 'Horários de uso do aparelho de TV', 'Uso a temperatura do ferro de passar indicada para cada tipo de tecido e começo pelas mais leves:', 'Cafeteira Elétrica: Frequência de uso', 'Espremedor de frutas: Tempo de utilização (somando todas as vezes que utiliza ao longo do dia)', 'Fax: Frequência de uso', 'Máquina de solda: Quantidade', 'Lava jato alta pressão (máquina): Tempo de utilização (somando todas as vezes que utiliza ao longo do dia)', 'Serra elétrica: Quantidade', 'Garagem: Horário de uso:', 'Liquidificador: Frequência de uso', 'Roteador sem Fio (WI-FI) (aparelho de propriedade do morador, ou seja, que não pertence à operadora de internet): Frequência de uso', 'Ferro elétrico a vapor (usando vapor): Quantidade', 'Chapinha (prancha alisadora): Tempo de utilização (somando todas as vezes que utiliza ao longo do dia)', 'Frequência de uso em Outubro:', 'A maioria das janelas da residência está voltada para qual orientação?', 'Portão Eletrônico: Frequência de uso', 'Adega: O equipamento é desligado da tomada quando NÃO está em uso?', 'Sala de estar, jantar, tv: Total de lâmpadas por tipo:', 'Cafeteira Elétrica: Quantidade', 'No dia em que o Ferro elétrico é utilizado, qual é o tempo de utilização? (somando todas às vezes em que utiliza ao longo do dia)', 'No dia em que a máquina de lavar roupas é utilizada, quantas lavagens são realizadas?', 'Lava jato alta pressão (máquina): Frequência de uso', 'Forno elétrico (não é o acendedor do fogão a gás. Também é conhecido como \\\\\\\\\"forninho\\\\\"\\\\\"): Tempo de utilização (somando todas as vezes que utiliza ao longo do dia)\"', 'Quais são os equipamentos elétricos utilizados nesta(s) atividade(s)?', 'A água (do chuveiro, duchas ou torneiras) deste domicílio é aquecida por qual(is) fonte(s)?', 'Filtro de Piscina: Frequência de uso', 'Máquina de lavar louças: Quantidade', 'O(A) sr.(a) recebe informações sobre como economizar energia?', 'Máquina de solda: Frequência de uso', 'Máq. de lavar roupa automática: Frequência de uso', 'No Break: Quantidade', 'CLASSE SOCIAL:', 'No dia em que a Máquina de solda é utilizada, qual é o tempo de utilização? (somando todas às vezes em que utiliza ao longo do dia)', 'Fax: No dia em que o aparelho é utilizado, qual é o tempo de utilização?', 'Qual a temperatura mais utilizada na hora de ligar o ar-condicionado nesta residência?', 'Banheiro (modo habitual): Total de lâmpadas por tipo:', 'Tipo de aparelho', 'O(A) sr.(a) utilizaria um sistema de aquecimento solar para aquecer a água do seu banho?', 'Aquecedor de água (chuveiro, torneira, boiler): Frequência de uso', 'Cafeteira Elétrica: O equipamento é desligado da tomada quando NÃO está em uso?', 'Modem para internet com função Roteador Wi-Fi (aparelho fornecido pela operadora no momento em que se contrata um plano de internet por assinatura): Tempo de utilização (somando todas as vezes que utiliza ao longo do dia)', 'Ventilador de teto: Horários de uso', 'Filtro de Piscina: Tempo de utilização (somando todas as vezes que utiliza ao longo do dia)', 'Triturador de lixo: Frequência de uso', 'Triturador de lixo: Quantidade', 'Multiprocessador: Quantidade', 'Dentre elas, quantas são:Mais de 18 a 65 anos', 'Fogão elétrico (não é o acendedor do fogão a gás. O fogão elétrico também é conhecido como “Cooktop elétrico”. As panelas são colocadas sobre uma placa de vidro para aquecer): Quantidade', \"Bomba d'água: Quantidade\", 'No dia em que o Liquidificador é utilizado, qual é o tempo de utilização? (somando todas às vezes em que utiliza ao longo do dia)', 'Videogame: Frequência de uso', 'Batedeira: Frequência de uso', 'Modem (TV / Internet a cabo): Frequência de uso', 'Potência máxima do aparelho', 'DVD/Video/Blu-Ray: Quantidade', 'Acumulo o maior número de peças de roupa para ligar o ferro o mínimo de vezes possível:', 'Varandas: Horário de uso:', 'Banheiro (modo eventual): Total de lâmpadas por tipo:', 'Dentre elas, quantas são:Adolescentes de 11 a 18 anos', 'Aquecedor de ambiente: Tempo de utilização (somando todas as vezes que utiliza ao longo do dia)', 'Em qual(is) mês(es) do ano predomina o banho na temperatura máxima?', 'Bebedouro / purificador / filtro: Frequência de uso', 'No dia em que o Espremedor de frutas é utilizado, qual é o tempo de utilização? (somando todas às vezes em que utiliza ao longo do dia)', 'Condicionadores de ar no domicílio', 'Não deixo a porta da geladeira/freezer aberta e evito abri-las várias vezes:', 'Portão Eletrônico: Tempo de utilização (somando todas as vezes que utiliza ao longo do dia)', 'Telefone sem fio: Quanto tempo por dia você deixa o aparelho ligado na tomada para carregar a bateria?', 'Telefone sem fio: Quantidade', 'Ferro elétrico a seco: Quantidade', 'Serra elétrica: Frequência de uso', 'Forno elétrico (não é o acendedor do fogão a gás. Também é conhecido como \\\\\\\\\"forninho\\\\\"\\\\\"): Frequência de uso\"', 'Modem para internet com função Roteador Wi-Fi (aparelho fornecido pela operadora no momento em que se contrata um plano de internet por assinatura): Frequência de uso', 'Furadeira: Frequência de uso', 'Qual(is) a(s) origem(ens) da energia elétrica utilizada(s) neste domicílio?', 'Tipo de domicílio:', 'Outros: Total de lâmpadas por tipo:', 'Qual é o material que predomina na cobertura (telhado) deste domicílio?', 'Vamos começar? No domicílio tem... Quantos automóveis de passeio exclusivamente para uso particular?', 'Vamos começar? No domicílio tem... Quantos empregados mensalistas, considerando apenas os que trabalham pelo menos cinco dias por semana?', 'Fritadeira elétrica com óleo: Quantidade', 'Espremedor de frutas: Frequência de uso', 'Frequência de uso em Fevereiro:', 'O seu domicílio possui: Quarto, cuja lâmpada é ligada e desligada de modo eventual (ou seja, não existe um período regular em que a lâmpada é utilizada)', 'Máquina de costura: Tempo de utilização (somando todas as vezes que utiliza ao longo do dia)', 'Quantas pessoas nesta residência são:Empregados que dormem na residência, considerando apenas os que trabalham pelo menos cinco dias por semana.', 'Desligo a TV quando ninguém está assistindo:', 'Projetores (Iluminação de jardim): Frequência de uso', 'Qual(is) fonte(s) própria(s) de energia é(são) usada(s) neste domicílio para geração de energia elétrica?', 'No dia em que a Máquina de costura é utilizada, qual é o tempo de utilização? (somando todas às vezes em que utiliza ao longo do dia)', 'Lava jato alta pressão Máquina: Frequência de uso', 'Receptor digital (aparelho que está associado diretamente à antenas parabólicas): O equipamento é desligado da tomada quando NÃO está em uso?', 'Copa / cozinha: Horário de uso:', 'Ventilador de teto: Tempo de utilização (somando todas as vezes que utiliza ao longo do dia)', 'Fritadeira elétrica sem óleo: Quantidade', 'Adega: Tempo de utilização (somando todas as vezes que utiliza ao longo do dia)', 'Receptor digital (aparelho que está associado diretamente à antenas parabólicas): Tempo de utilização (somando todas as vezes que utiliza ao longo do dia)', 'No dia em que a Máq. de lavar roupa semiautomática (tanquinho) é utilizada, qual é o tempo de utilização? (somando todas às vezes em que utiliza ao longo do dia)', 'Vamos começar? No domicílio tem... Quantos banheiros?', 'Freezer: Frequência de uso', 'No dia em que a Sanduicheira elétrica (grill) é utilizada, qual é o tempo de utilização? (somando todas às vezes em que utiliza ao longo do dia)', 'Forno elétrico (não é o acendedor do fogão a gás. Também é conhecido como \\\\\\\\\"forninho\\\\\"\\\\\"): Horários de uso\"', 'DVD/Video/Blu-Ray: Frequência de uso', 'Máquina de costura: Frequência de uso', 'Computador: Horários de uso', 'Projetores (Iluminação de jardim): Tempo de utilização (somando todas as vezes que utiliza ao longo do dia)', 'No dia em que o Secador de cabelo é utilizado, qual é o tempo de utilização? (somando todas às vezes em que utiliza ao longo do dia)', 'Aspirador de pó: Frequência de uso', 'No Break: O equipamento é desligado da tomada quando NÃO está em uso?', 'No Break: Frequência de uso', 'Ebulidor: Frequência de uso', 'Máq. de lavar roupa semiautomática (tanquinho): Frequência de uso', 'No dia em que a Portão Eletrônico é utilizada, qual é o tempo de utilização? (somando todas às vezes em que utiliza ao longo do dia)', 'Secadora de roupas (por aquecimento): Horários de uso', 'Copa / cozinha: Total de lâmpadas por tipo:', 'Em qual(is) mês(es) do ano predomina o banho na temperatura intermediária?', 'Videogame: O equipamento é desligado da tomada quando NÃO está em uso?', 'Videogame: Tempo de utilização (somando todas as vezes que utiliza ao longo do dia)', 'O seu domicílio possui: Quarto, cuja lâmpada é ligada e desligada de modo habitual (ou seja, frequentemente a lâmpada é utilizada no mesmo período ao longo do dia)', 'Ferro elétrico a vapor (não usando vapor): Horários de uso', 'No dia em que o Ventilador de teto é utilizado, qual é o tempo de utilização? (somando todas às vezes em que utiliza ao longo do dia)', 'Controlador de temperatura', 'Secadora de roupas (por aquecimento): Tempo de utilização (somando todas as vezes que utiliza ao longo do dia)', 'Sanduicheira elétrica (grill): Frequência de uso', 'Roteador sem Fio (WI-FI) (aparelho de propriedade do morador, ou seja, que não pertence à operadora de internet): O equipamento é desligado da tomada quando NÃO está em uso?', 'Aspirador de pó: Tempo de utilização (somando todas as vezes que utiliza ao longo do dia)', 'Na sua opinião qual seria a melhor forma de receber essas informações?', 'Frequência de uso em Maio:', 'Ferro elétrico a seco: Horários de uso', 'Faca elétrica: Tempo de utilização (somando todas as vezes que utiliza ao longo do dia)', 'O seu domicílio possui: Á�rea de Serviço', 'Horários de uso por período', 'Panificadora (máquina de pão): Frequência de uso', 'Frequência de uso', 'Ferro elétrico a seco: Frequência de uso', 'Evito deixar os aparelhos elétricos em stand by (ligados na tomada):', 'Notebook: Frequência de uso', 'Refrigeradores no domicílio', 'Área Externa: Total de lâmpadas por tipo:', 'Portão Eletrônico: Quantidade', 'Videogame: Quantidade', 'Liquidificador: Quantidade', 'Frequência de uso em Janeiro:', 'Forno elétrico (não é o acendedor do fogão a gás. Também é conhecido como \\\\\\\\\"forninho\\\\\"\\\\\"): Quantidade\"', 'Frequência de uso em Julho:', 'Dentre elas, quantas são:Acima de 65 anos', 'Tempo de utilização (somando todas as vezes que utiliza ao longo do dia)', 'O seu domicílio possui: Corredores'}\n"
     ]
    }
   ],
   "source": [
    "questions_set =  set(df['desc_pergunta'].to_list())\n",
    "print(questions_set)"
   ]
  },
  {
   "cell_type": "code",
   "execution_count": 8,
   "id": "0bd3b825",
   "metadata": {},
   "outputs": [
    {
     "name": "stdout",
     "output_type": "stream",
     "text": [
      "70834\n"
     ]
    }
   ],
   "source": [
    "question_list_total_lamps = ['Quarto (modo habitual): Total de lâmpadas por tipo:',\n",
    "                             'Quarto (modo eventual): Total de lâmpadas por tipo:', \n",
    "                             'Área de Serviço: Total de lâmpadas por tipo:', \n",
    "                             'Varandas: Total de lâmpadas por tipo:', \n",
    "                             'Corredores: Total de lâmpadas por tipo:',\n",
    "                             'Garagem: Total de lâmpadas por tipo:',\n",
    "                             'Sala de estar, jantar, tv: Total de lâmpadas por tipo:']\n",
    "df_question_total_lamps = df.loc[df['desc_pergunta'].isin(question_list_total_lamps)]\n",
    "print(len(df_question_total_lamps))"
   ]
  },
  {
   "cell_type": "code",
   "execution_count": 9,
   "id": "62a160cf",
   "metadata": {},
   "outputs": [
    {
     "name": "stdout",
     "output_type": "stream",
     "text": [
      "1988:  0\n",
      "1997:  11269\n",
      "2005:  6479\n",
      "2019:  53086\n"
     ]
    }
   ],
   "source": [
    "df_question_total_lamps_1988 = df_question_total_lamps.loc[df_question_total_lamps['data_inicio'].str.contains(\"1988\")]\n",
    "df_question_total_lamps_1997 = df_question_total_lamps.loc[df_question_total_lamps['data_inicio'].str.contains(\"1997\")]\n",
    "df_question_total_lamps_2005 = df_question_total_lamps.loc[df_question_total_lamps['data_inicio'].str.contains(\"2005\")]\n",
    "df_question_total_lamps_2019 = df_question_total_lamps.loc[df_question_total_lamps['data_inicio'].str.contains(\"2019\")]\n",
    "\n",
    "print('1988: ', len(df_question_total_lamps_1988))\n",
    "print('1997: ', len(df_question_total_lamps_1997))\n",
    "print('2005: ', len(df_question_total_lamps_2005))\n",
    "print('2019: ', len(df_question_total_lamps_2019))\n"
   ]
  },
  {
   "cell_type": "code",
   "execution_count": 57,
   "id": "e7e7065f",
   "metadata": {},
   "outputs": [
    {
     "name": "stdout",
     "output_type": "stream",
     "text": [
      "{1, 2, 3, 4, 5, 6, 7, 8, 10}\n",
      "{'Dicróica', 'Outros', 'Incandescente', 'Fluorescente'}\n"
     ]
    }
   ],
   "source": [
    "answer_list = df_question_total_lamps_2005['resposta'].to_list()\n",
    "paralel_a_list = df_question_total_lamps_2005['paralelo_a'].to_list()\n",
    "brazil_region_list = df_question_total_lamps_2005['desc_regiao'].to_list()\n",
    "answers_set_total_lamps_paralelo_a = set(answer_list)\n",
    "answers_set_total_lamps_resposta = set(paralel_a_list)\n",
    "print(answers_set_total_lamps_paralelo_a)\n",
    "print(answers_set_total_lamps_resposta)"
   ]
  },
  {
   "cell_type": "code",
   "execution_count": 59,
   "id": "6d41a44b",
   "metadata": {},
   "outputs": [
    {
     "name": "stdout",
     "output_type": "stream",
     "text": [
      "{'Fluorescente': 4021, 'Incandescente': 397, 'Outros': 34, 'Dicróica': 8}\n",
      "10.01\n"
     ]
    },
    {
     "ename": "KeyError",
     "evalue": "'LED'",
     "output_type": "error",
     "traceback": [
      "\u001b[0;31m---------------------------------------------------------------------------\u001b[0m",
      "\u001b[0;31mKeyError\u001b[0m                                  Traceback (most recent call last)",
      "Cell \u001b[0;32mIn[59], line 19\u001b[0m\n\u001b[1;32m     17\u001b[0m \u001b[38;5;28mprint\u001b[39m(answers_dict)\n\u001b[1;32m     18\u001b[0m \u001b[38;5;28mprint\u001b[39m(\u001b[38;5;28mround\u001b[39m(total_bulbs \u001b[38;5;241m/\u001b[39m (answers_count \u001b[38;5;241m/\u001b[39m \u001b[38;5;28mlen\u001b[39m(question_list_total_lamps)), \u001b[38;5;241m2\u001b[39m))\n\u001b[0;32m---> 19\u001b[0m \u001b[38;5;28mprint\u001b[39m(\u001b[38;5;28mround\u001b[39m(\u001b[43manswers_dict\u001b[49m\u001b[43m[\u001b[49m\u001b[38;5;124;43m'\u001b[39;49m\u001b[38;5;124;43mLED\u001b[39;49m\u001b[38;5;124;43m'\u001b[39;49m\u001b[43m]\u001b[49m \u001b[38;5;241m/\u001b[39m total_bulbs, \u001b[38;5;241m2\u001b[39m))\n",
      "\u001b[0;31mKeyError\u001b[0m: 'LED'"
     ]
    }
   ],
   "source": [
    "answers_dict = dict()\n",
    "total_bulbs = 0\n",
    "answers_count = 0\n",
    "for i in range(len(answer_list)):\n",
    "    region = brazil_region_list[i]\n",
    "    if region != 'SE':\n",
    "        continue\n",
    "    bulb_type = paralel_a_list[i]\n",
    "    number_of_bulbs = answer_list[i]\n",
    "    total_bulbs += number_of_bulbs\n",
    "    if bulb_type in answers_dict:\n",
    "        answers_dict[bulb_type] += number_of_bulbs\n",
    "    else:\n",
    "        answers_dict[bulb_type] = number_of_bulbs\n",
    "    answers_count += 1\n",
    "\n",
    "print(answers_dict)\n",
    "print(round(total_bulbs / (answers_count / len(question_list_total_lamps)), 2))\n",
    "print(round(answers_dict['LED'] / total_bulbs, 2))"
   ]
  },
  {
   "cell_type": "code",
   "execution_count": null,
   "id": "ee556511",
   "metadata": {},
   "outputs": [],
   "source": []
  }
 ],
 "metadata": {
  "kernelspec": {
   "display_name": "Python 3 (ipykernel)",
   "language": "python",
   "name": "python3"
  },
  "language_info": {
   "codemirror_mode": {
    "name": "ipython",
    "version": 3
   },
   "file_extension": ".py",
   "mimetype": "text/x-python",
   "name": "python",
   "nbconvert_exporter": "python",
   "pygments_lexer": "ipython3",
   "version": "3.10.6"
  }
 },
 "nbformat": 4,
 "nbformat_minor": 5
}
