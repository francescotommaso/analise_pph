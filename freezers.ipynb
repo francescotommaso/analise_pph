{
 "cells": [
  {
   "cell_type": "code",
   "execution_count": 1,
   "id": "6e6387f0",
   "metadata": {},
   "outputs": [
    {
     "name": "stdout",
     "output_type": "stream",
     "text": [
      "Index(['id_regiao', 'id', 'cod_entrevista', 'data_inicio', 'data_fim',\n",
      "       'id_questionario', 'ID_HORARIO', 'ID_EQUIPAMENTO', 'ID_LAMPADA',\n",
      "       'ID_COMODO', 'id_alternativa', 'id_pergunta', 'id_resposta', 'loop',\n",
      "       'resposta', 'desc_pergunta', 'ORDEM', 'paralelo_p', 'cod_alternativa',\n",
      "       'alternativa', 'valores', 'paralelo_a', 'DESC_COMODO', 'DESC_LAMPADA',\n",
      "       'DESC_EQUIPAMENTO', 'DESC_HORARIO', 'desc_regiao', 'desc_uf',\n",
      "       'desc_municipio', 'ano_entrevista', 'cod_alternativa2'],\n",
      "      dtype='object')\n"
     ]
    }
   ],
   "source": [
    "import pandas as pd\n",
    "\n",
    "\n",
    "path = 'ANALISES/final.csv'\n",
    "\n",
    "df = pd.read_csv(path, sep=';', on_bad_lines='skip')\n",
    "\n",
    "print(df.columns)"
   ]
  },
  {
   "cell_type": "code",
   "execution_count": 2,
   "id": "21701191",
   "metadata": {},
   "outputs": [
    {
     "name": "stdout",
     "output_type": "stream",
     "text": [
      "{'Projetores (Iluminação de jardim): Tempo de utilização (somando todas as vezes que utiliza ao longo do dia)', 'Ebulidor: Frequência de uso', 'Filtro de Piscina: Quantidade', 'No Break: Frequência de uso', 'Enceradeira: Tempo de utilização (somando todas as vezes que utiliza ao longo do dia)', 'Tipo de operação', 'Vamos começar? No domicílio tem... Quantos banheiros?', 'Modem para internet com função Roteador Wi-Fi (aparelho fornecido pela operadora no momento em que se contrata um plano de internet por assinatura): Frequência de uso', 'Quantas vezes por dia o chuveiro é utilizado?', 'Panificadora (Máquina de pão): Frequência de uso', 'O(A) sr.(a) conhece ou já ouviu falar de aquecedor de água à gás para o banho?', 'Sanduicheira elétrica (grill): Frequência de uso', 'Sala de estar, jantar, tv: Horário de uso:', 'No dia em que o Videogame é utilizado, qual é o tempo de utilização? (somando todas às vezes em que utiliza ao longo do dia)', 'No dia em que a Fritadeira elétrica sem óleo é utilizada, qual é o tempo de utilização? (somando todas às vezes em que utiliza ao longo do dia)', 'No dia em que o Notebook é utilizado, qual é o tempo de utilização? (somando todas às vezes em que utiliza ao longo do dia)', 'Panela elétrica: Frequência de uso', 'DVD/Video/Blu-Ray: Frequência de uso', 'Ferro elétrico: Frequência de uso', 'Furadeira: Tempo de utilização (somando todas as vezes que utiliza ao longo do dia)', 'Vamos começar? No domicílio tem... Quantos freezers independentes ou parte da geladeira duplex?', 'Quantas pessoas nesta residência são:Empregados que dormem na residência, considerando apenas os que trabalham pelo menos cinco dias por semana.', 'No dia em que o Celular é utilizado, qual é o tempo de utilização? (somando todas às vezes em que utiliza ao longo do dia)', 'O(A) sr.(a) conhece ou já ouviu falar de aquecedor solar de água para o banho?', 'Conversor digital externo para TV aberta (aparelho que converte o sinal analógico em digital e conta com o auxílio da antena UHF): Quantidade', 'Lava jato alta pressão (máquina): Frequência de uso', 'Cafeteira Elétrica: O equipamento é desligado da tomada quando NÃO está em uso?', 'O seu domicílio possui: Quarto, cuja lâmpada é ligada e desligada de modo habitual (ou seja, frequentemente a lâmpada é utilizada no mesmo período ao longo do dia)', 'Qual é o material que predomina na cobertura (telhado) deste domicílio?', 'Triturador de lixo: Frequência de uso', 'Corredores: Horário de uso:', 'Quantas pessoas nesta residência são:Empregados que NÃO dormem na residência, considerando apenas os que trabalham pelo menos cinco dias por semana.', 'Enceradeira: Frequência de uso', 'Que tipo de proteção solar há nas janelas pelo lado de fora da residência?', 'Tablet: Frequência de uso', 'Videogame: Horários de uso', 'Panificadora (máquina de pão): Quantidade', 'No dia em que a Máq. de lavar roupa semiautomática (tanquinho) é utilizada, qual é o tempo de utilização? (somando todas às vezes em que utiliza ao longo do dia)', 'Quarto (modo habitual): Total de lâmpadas por tipo:', 'Na residência há janelas em mais de uma parede externa? (exemplo: janelas na parede da frente e dos fundos ao mesmo tempo, ou parede da frente e lateral ao mesmo tempo, etc.)', 'Forno elétrico (não é o acendedor do fogão a gás. Também é conhecido como \\\\\\\\\"forninho\\\\\"\\\\\"): Quantidade\"', 'Elimino na rede elétrica da residência emendas mal feitas, fios ou cabos desencapados, ou com isolamento comprometido:', 'Secador de cabelo: Tempo de utilização (somando todas as vezes que utiliza ao longo do dia)', 'Faca elétrica: Frequência de uso', 'A água utilizada neste domicílio é proveniente de?', 'Área de Serviço: Horário de uso:', 'Aquecedor de ambiente: Horários de uso', 'Ferro elétrico a vapor (não usando vapor): Tempo de utilização (somando todas as vezes que utiliza ao longo do dia)', 'Fritadeira elétrica sem óleo: Tempo de utilização (somando todas as vezes que utiliza ao longo do dia)', 'Projetores (Iluminação de jardim): Quantidade', 'DVD/Video/Blu-Ray: O equipamento é desligado da tomada quando NÃO está em uso?', 'No dia em que o Freezer é utilizado, qual é o tempo de utilização? (somando todas às vezes em que utiliza ao longo do dia)', 'O(A) sr.(a) utilizaria um sistema de aquecimento a gás para aquecer a água do seu banho?', 'No dia em que o Aparelho de som/ rádio é utilizado, qual é o tempo de utilização? (somando todas às vezes em que utiliza ao longo do dia)', 'Batedeira: Frequência de uso', 'Frequência de uso em Setembro:', 'Vamos começar? No domicílio tem... Quantas máquinas secadoras de roupas, considerando lava e seca?', 'Quais são os equipamentos elétricos utilizados nesta(s) atividade(s)?', 'Impressora: O equipamento é desligado da tomada quando NÃO está em uso?', 'CONTINUAR?', 'No Break: O equipamento é desligado da tomada quando NÃO está em uso?', 'Impressora: Frequência de uso', 'Vamos começar? No domicílio tem... Quantos empregados mensalistas, considerando apenas os que trabalham pelo menos cinco dias por semana?', 'Receptor de TV por assinatura: Tempo de utilização (somando todas as vezes que utiliza ao longo do dia)', 'Máquina de Lavar Roupas', 'Forno de micro-ondas: Frequência de uso', 'Frequência de uso em Agosto:', 'Banheiro (modo habitual): Horário de uso:', 'Fax: Frequência de uso', 'Frequência de uso em Maio:', 'Quarto (modo habitual): Horário de uso:', 'Dou preferência a lâmpadas de LED ou fluorescentes:', \"Bomba d'água: Frequência de uso\", 'Ventilador ou Circulador de ar: Quantidade', 'Horário de uso do condicionador de ar', 'No dia em que o Tablet é utilizado, qual é o tempo de utilização? (somando todas às vezes em que utiliza ao longo do dia)', 'Dentre elas, quantas são:Crianças até 10 anos', 'Máquina de costura: Quantidade', 'Ferro elétrico a vapor (não usando vapor): Horários de uso', 'Máquina de lavar louças: Tempo de utilização (somando todas as vezes que utiliza ao longo do dia)', 'No dia em que a Panela elétrica é utilizada, qual é o tempo de utilização? (somando todas às vezes em que utiliza ao longo do dia)', 'Computador: Horários de uso', 'Qual o tempo médio de duração do banho?', 'No dia em que a Portão Eletrônico é utilizada, qual é o tempo de utilização? (somando todas às vezes em que utiliza ao longo do dia)', 'Fax: O equipamento é desligado da tomada quando NÃO está em uso?', 'Televisores no domicílio', 'Impressora: Quantidade', 'Panificadora (máquina de pão): Frequência de uso', 'Em qual(is) mês(es) do ano predomina o banho no modo completamente frio?', 'Máquina de costura: Tempo de utilização (somando todas as vezes que utiliza ao longo do dia)', 'Evito deixar os aparelhos elétricos em stand by (ligados na tomada):', 'Em qual(is) mês(es) do ano predomina o banho na temperatura intermediária?', 'Videogame: O equipamento é desligado da tomada quando NÃO está em uso?', 'Vamos começar? No domicílio tem... Quantos DVD, incluindo qualquer dispositivo que leia DVD e desconsiderando DVD de automóvel?', 'Ferro elétrico a vapor (usando vapor): Tempo de utilização (somando todas as vezes que utiliza ao longo do dia)', 'Forno elétrico (não é o acendedor do fogão a gás. Também é conhecido como \\\\\\\\\"forninho\\\\\"\\\\\"): O equipamento é desligado da tomada quando NÃO está em uso?\"', 'Não deixo a porta da geladeira/freezer aberta e evito abri-las várias vezes:', 'Tablet: Quanto tempo por dia você deixa o aparelho ligado na tomada para carregar a bateria?', 'De dentro de casa é possível ver diretamente o telhado?', 'Frequência de uso em Janeiro:', 'Bebedouro / purificador / filtro: Horários de uso', 'Outros: Horário de uso:', 'Ferro elétrico a vapor (usando vapor): Frequência de uso', 'Receptor digital (aparelho que está associado diretamente à antenas parabólicas): Quantidade', 'Área Externa: Total de lâmpadas por tipo:', 'No Break: Tempo de utilização (somando todas as vezes que utiliza ao longo do dia)', 'Qual é o grau de instrução do chefe da família? Considere como chefe da família a pessoa que contribui com a maior parte da renda do domicílio.', 'Liquidificador: Frequência de uso', 'Ventilador ou Circulador de ar: Frequência de uso', 'Notebook: O equipamento é desligado da tomada quando NÃO está em uso?', 'Horários de uso por período', 'Máquina de lavar louças: Frequência de uso', 'Forno elétrico (não é o acendedor do fogão a gás. Também é conhecido como \\\\\\\\\"forninho\\\\\"\\\\\"): Tempo de utilização (somando todas as vezes que utiliza ao longo do dia)\"', 'Condicionadores de ar no domicílio', 'Tempo de utilização (somando todas as vezes que utiliza ao longo do dia)', 'Este domicílio é exclusivamente residencial ou tem alguma atividade comercial ou industrial funcionando, seja de natureza formal ou informal? (por exemplo: funciona aqui uma pequena confecção, uma marcenaria, vocês fazem salgados e doces para festa. A', 'Notebook: Horários de uso', 'Ferro elétrico a seco: Tempo de utilização (somando todas as vezes que utiliza ao longo do dia)', 'Videogame: Quantidade', 'Uso a temperatura do ferro de passar indicada para cada tipo de tecido e começo pelas mais leves:', 'Acumulo o maior número de peças de roupa para ligar o ferro o mínimo de vezes possível:', 'Ventilador ou Circulador de ar: O equipamento é desligado da tomada quando NÃO está em uso?', 'Qual(is) a(s) origem(ens) da energia elétrica utilizada(s) neste domicílio?', 'Chapinha (prancha alisadora): Tempo de utilização (somando todas as vezes que utiliza ao longo do dia)', 'Ferro elétrico a vapor (usando vapor): Horários de uso', 'Tempo que possui este aparelho', 'Aparelho de som/ rádio: O equipamento é desligado da tomada quando NÃO está em uso?', 'No dia em que o Aquecedor de água (chuveiro, torneira, boiler) é utilizado, qual é o tempo de utilização? (somando todas às vezes em que utiliza ao longo do dia)', 'Qual a posição do controlador de temperatura mais utilizada na hora de ligar o ar-condicionado nesta residência?', 'TV: Frequência de uso', 'No dia em que a TV é utilizada, qual é o tempo de utilização? (somando todas às vezes em que utiliza ao longo do dia)', 'Ebulidor: Tempo de utilização (somando todas as vezes que utiliza ao longo do dia)', 'Serra elétrica: Tempo de utilização (somando todas as vezes que utiliza ao longo do dia)', 'Aquecedor de ambiente: Quantidade', 'Serra elétrica: Frequência de uso', 'Ventilador ou Circulador de ar: Horários de uso', 'Bebedouro / purificador / filtro: O equipamento é desligado da tomada quando NÃO está em uso?', 'Secadora de roupas (por aquecimento): Horários de uso', 'Modem (TV / Internet a cabo): Frequência de uso', 'Roteador sem Fio (WI-FI): Frequência de uso', 'Aspirador de pó: Tempo de utilização (somando todas as vezes que utiliza ao longo do dia)', 'DVD/Video/Blu-Ray: Quantidade', 'Faca elétrica: Tempo de utilização (somando todas as vezes que utiliza ao longo do dia)', 'No dia em que o Liquidificador é utilizado, qual é o tempo de utilização? (somando todas às vezes em que utiliza ao longo do dia)', 'No dia em que o Computador é utilizado, qual é o tempo de utilização? (somando todas às vezes em que utiliza ao longo do dia)', 'Modem para internet com função Roteador Wi-Fi (aparelho fornecido pela operadora no momento em que se contrata um plano de internet por assinatura): Quantidade', 'Aparelho de som/ rádio (ligados na tomada quanto utilizados, desconsiderar rádios que funcionam somente com pilhas): Tempo de utilização (somando todas as vezes que utiliza ao longo do dia)', 'Horários de uso do aparelho de TV', 'Faca elétrica: Quantidade', 'Nunca utilizo a parte traseira da geladeira para secar panos ou roupas:', 'No dia em que a Panificadora (máquina de pão) é utilizada, qual é o tempo de utilização? (somando todas às vezes em que utiliza ao longo do dia)', 'Ventilador de teto: Horários de uso', 'Batedeira: Quantidade', 'Fritadeira elétrica com óleo: Quantidade', 'Cafeteira Elétrica: Quantidade', 'Multiprocessador: Frequência de uso', 'Receptor de TV por assinatura: Frequência de uso', 'Copa / cozinha: Total de lâmpadas por tipo:', 'O seu domicílio possui: Á�rea de Serviço', 'Projetores (Iluminação de jardim): Frequência de uso', 'Secadora de roupas centrífuga: Horários de uso', 'Cafeteira Elétrica: Tempo de utilização (somando todas as vezes que utiliza ao longo do dia)', 'A água (do chuveiro, duchas ou torneiras) deste domicílio é aquecida por qual(is) fonte(s)?', 'Quarto (modo eventual): Total de lâmpadas por tipo:', 'O equipamento é desligado da tomada quando NÃO está em uso?', 'Preciso registrar o consumo mensal de energia elétrica em seu domicílio, esta informação aparece em sua conta de energia elétrica. Você poderia me apresentar a conta?', 'Qual(is) o(s) mês(es) o ar-condicionado é(são) utilizado(s) nesta residência? (em média)', 'Tipo do aparelho', 'Fritadeira elétrica com óleo: Frequência de uso', 'Computador: Tempo de utilização (somando todas as vezes que utiliza ao longo do dia)', 'Refrigeradores no domicílio', 'O(A) sr.(a) mudaria seu sistema de aquecimento de água de banho, para solar?', 'No dia em que o Espremedor de frutas é utilizado, qual é o tempo de utilização? (somando todas às vezes em que utiliza ao longo do dia)', 'Liquidificador: Quantidade', 'Qual o tipo de apoio (reserva) do sistema de aquecimento solar da sua residência?', 'A máquina de lavar roupas é desligada da tomada quando NÃO está em uso?', 'Secadora de roupas (por aquecimento): Frequência de uso', 'Secadora de roupas centrífuga: Quantidade', 'Controlador de temperatura', 'No dia em que a Adega é utilizada, qual é o tempo de utilização? (somando todas às vezes em que utiliza ao longo do dia)', 'Secadora de roupas (por aquecimento): O equipamento é desligado da tomada quando NÃO está em uso?', 'O(a) sr.(a) limpa periodicamente o filtro do condicionador de ar?', 'Não guardo alimentos quentes e nem sem tampas na geladeira:', 'Máquina de lavar louças: Horários de uso', 'Portão Eletrônico: Frequência de uso', 'Conversor digital externo para TV aberta (aparelho que converte o sinal analógico em digital e conta com o auxílio da antena UHF): Tempo de utilização (somando todas as vezes que utiliza ao longo do dia)', 'O(A) sr.(a) utilizaria um sistema de aquecimento solar para aquecer a água do seu banho?', 'Receptor digital (aparelho que está associado diretamente à antenas parabólicas): O equipamento é desligado da tomada quando NÃO está em uso?', 'Ao comprar lâmpadas e eletrodomésticos, dou preferência pelos que consomem menos energia elétrica:', 'Computador: Frequência de uso', 'Fritadeira elétrica sem óleo: Frequência de uso', 'O(A) sr.(a) recebe informações sobre como economizar energia?', 'No dia em que a Serra elétrica é utilizada, qual é o tempo de utilização? (somando todas às vezes em que utiliza ao longo do dia)', 'Frequência de uso em Dezembro:', 'Qual(is) fonte(s) própria(s) de energia é(são) usada(s) neste domicílio para geração de energia elétrica?', 'Vamos começar? No domicílio tem... Quantas motocicletas, desconsiderando as usadas exclusivamente para uso profissional?', 'Capacidade de armazenagem total', 'Adega: Tempo de utilização (somando todas as vezes que utiliza ao longo do dia)', 'Corredores: Total de lâmpadas por tipo:', 'Ferro elétrico a vapor (não usando vapor): Quantidade', 'Panela elétrica: Tempo de utilização (somando todas as vezes que utiliza ao longo do dia)', 'No dia em que o Multiprocessador é utilizado, qual é o tempo de utilização? (somando todas às vezes em que utiliza ao longo do dia)', 'Ferro elétrico a vapor (não usando vapor): Frequência de uso', 'No dia em que o Modem (TV / Internet a cabo) é utilizado, qual é o tempo de utilização? (somando todas às vezes em que utiliza ao longo do dia)', 'Mantenho a borracha de vedação da porta da geladeira em bom estado e troco a borracha quando percebo a necessidade:', 'Enceradeira: Quantidade', 'Máquina de lavar louças: Quantidade', 'Em que andar o apartamento está localizado?', 'Adega: O equipamento é desligado da tomada quando NÃO está em uso?', 'Qual o tom da cor predominante das paredes externas da residência?', 'Em qual(is) mês(es) do ano predomina o banho na temperatura máxima?', 'Chapinha (prancha alisadora): Frequência de uso', 'Quantos Chuveiros Elétricos?', 'Secadora de roupas centrífuga: Frequência de uso', 'O seu domicílio possui: Varandas', 'Potência máxima do aparelho', 'Adega: Horários de uso', 'Vamos começar? No domicílio tem... Quantas lavadora de louças?', 'Portão Eletrônico: Tempo de utilização (somando todas as vezes que utiliza ao longo do dia)', 'Dentre elas, quantas são:Adolescentes de 11 a 18 anos', 'Bebedouro / purificador / filtro: Frequência de uso', 'Roteador sem Fio (WI-FI) (aparelho de propriedade do morador, ou seja, que não pertence à operadora de internet): Tempo de utilização (somando todas as vezes que utiliza ao longo do dia)', 'Modem para internet com função Roteador Wi-Fi (aparelho fornecido pela operadora no momento em que se contrata um plano de internet por assinatura): O equipamento é desligado da tomada quando NÃO está em uso?', 'Bebedouro / purificador / filtro: Tempo de utilização (somando todas as vezes que utiliza ao longo do dia)', 'Área de Serviço: Total de lâmpadas por tipo:', 'Fogão elétrico (não é o acendedor do fogão a gás. O fogão elétrico também é conhecido como “Cooktop elétrico”. As panelas são colocadas sobre uma placa de vidro para aquecer): Quantidade', 'Vamos começar? No domicílio tem... Quantos fornos de micro-ondas?', 'Procuro ligar a máquina de lavar só quando ela estiver com a capacidade máxima de roupas indicada pelo fabricante:', 'O seu domicílio possui: Outros', 'Máquina de solda: Frequência de uso', 'Varandas: Total de lâmpadas por tipo:', 'Aquecedor de ambiente: O equipamento é desligado da tomada quando NÃO está em uso?', 'No dia em que o Roteador sem Fio (WI-FI) é utilizado, qual é o tempo de utilização? (somando todas às vezes em que utiliza ao longo do dia)', 'Vamos começar? No domicílio tem... Quantos automóveis de passeio exclusivamente para uso particular?', 'Chuveiros no domicílio? (independente de ter ou não água aquecida)', 'De dentro de casa, o teto é inclinado?', 'O seu domicílio possui: Quarto, cuja lâmpada é ligada e desligada de modo eventual (ou seja, não existe um período regular em que a lâmpada é utilizada)', 'Copa / cozinha: Horário de uso:', 'Regulo o termostato da geladeira em função das estações (inverno, verão, outono/primavera):', 'No dia em que a máquina de lavar roupas é utilizada, quantas lavagens são realizadas?', 'Liquidificador: Tempo de utilização (somando todas as vezes que utiliza ao longo do dia)', 'Aquecedor de ambiente: Frequência de uso', 'Receptor de TV por assinatura: O equipamento é desligado da tomada quando NÃO está em uso?', 'Filtro de Piscina: Tempo de utilização (somando todas as vezes que utiliza ao longo do dia)', 'Qual a temperatura mais utilizada na hora de ligar o ar-condicionado nesta residência?', 'No dia em que o Condicionador de Ar é utilizado, qual é o tempo de utilização? (somando todas às vezes em que utiliza ao longo do dia)', 'Sanduicheira elétrica (grill): Tempo de utilização (somando todas as vezes que utiliza ao longo do dia)', 'Roteador sem Fio (WI-FI) (aparelho de propriedade do morador, ou seja, que não pertence à operadora de internet): Frequência de uso', 'Conversor digital externo para TV aberta (aparelho que converte o sinal analógico em digital e conta com o auxílio da antena UHF): O equipamento é desligado da tomada quando NÃO está em uso?', 'Tipo de tela', 'Vamos começar? No domicílio tem... Quantas máquinas de lavar roupa, excluindo tanquinho?', 'No dia em que a Secadora de roupas (por aquecimento) é utilizada, qual é o tempo de utilização? (somando todas às vezes em que utiliza ao longo do dia)', 'Evito acender lâmpadas durante o dia, aproveito a luz natural:', 'Impressora: Tempo de utilização (somando todas as vezes que utiliza ao longo do dia)', 'Aquecedor de água (chuveiro, torneira, boiler): Frequência de uso', 'Ebulidor: Quantidade', 'Máquina de costura: Frequência de uso', 'Ventilador de teto: Frequência de uso', 'Roteador sem Fio (WI-FI) (aparelho de propriedade do morador, ou seja, que não pertence à operadora de internet): Quantidade', 'Ferro elétrico a seco: Horários de uso', 'Frequência de uso em Julho:', 'No dia em que o Secador de cabelo é utilizado, qual é o tempo de utilização? (somando todas às vezes em que utiliza ao longo do dia)', 'Espremedor de frutas: Frequência de uso', 'Lava jato alta pressão (máquina): Quantidade', 'Desligo a TV quando ninguém está assistindo:', 'O seu domicílio possui: Corredores', 'O micro-ondas é desligado da tomada quando NÃO está em uso?', 'Telefone sem fio: Quanto tempo por dia você deixa o aparelho ligado na tomada para carregar a bateria?', 'Mantenho o ar-condicionado sempre desligado quando estou fora do ambiente por muito tempo:', 'Panificadora (máquina de pão): Tempo de utilização (somando todas as vezes que utiliza ao longo do dia)', 'No dia em que a Impressora é utilizada, qual é o tempo de utilização? (somando todas às vezes em que utiliza ao longo do dia)', 'O seu domicílio possui: Copa / cozinha', 'Telefone sem fio: Frequência de uso', 'Fogão elétrico (não é o acendedor do fogão a gás. O fogão elétrico também é conhecido como “Cooktop elétrico”. As panelas são colocadas sobre uma placa de vidro para aquecer): Tempo de utilização (somando todas as vezes que utiliza ao longo do dia)', 'No dia em que a Máq. de lavar roupa automática é utilizada, qual é o tempo de utilização? (somando todas às vezes em que utiliza ao longo do dia)', 'Adega: Frequência de uso', 'Forno elétrico (não é o acendedor do fogão a gás. Também é conhecido como \\\\\\\\\"forninho\\\\\"\\\\\"): Horários de uso\"', 'Apago sempre as lâmpadas dos ambientes desocupados:', 'CLASSE SOCIAL:', 'Espremedor de frutas: Tempo de utilização (somando todas as vezes que utiliza ao longo do dia)', 'Multiprocessador: Tempo de utilização (somando todas as vezes que utiliza ao longo do dia)', 'Frequência de uso em Fevereiro:', 'Roteador sem Fio (WI-FI) (aparelho de propriedade do morador, ou seja, que não pertence à operadora de internet): O equipamento é desligado da tomada quando NÃO está em uso?', 'Frequência de uso em Novembro:', 'O seu domicílio possui: Garagem', 'Horários de uso da máquina de lavar roupas', 'O seu domicílio possui: Á�rea Externa', 'Fax: Quantidade', 'Dentre elas, quantas são:Acima de 65 anos', 'No dia em que a Furadeira é utilizada, qual é o tempo de utilização? (somando todas às vezes em que utiliza ao longo do dia)', 'Lava jato alta pressão (máquina): Tempo de utilização (somando todas as vezes que utiliza ao longo do dia)', 'Triturador de lixo: Tempo de utilização (somando todas as vezes que utiliza ao longo do dia)', 'Celular: Frequência de uso', 'O(A) sr.(a) realiza limpeza periódica das placas solares?', 'Aspirador de pó: Quantidade', 'Secadora de roupas centrífuga: O equipamento é desligado da tomada quando NÃO está em uso?', 'Bebedouro / purificador / filtro: Quantidade', 'Videogame: Frequência de uso', 'Freezer no domicílio (independente)', 'Frequência de uso em Junho:', 'Fritadeira elétrica com óleo: Tempo de utilização (somando todas as vezes que utiliza ao longo do dia)', 'Desligo o ferro de passar quando interrompo o serviço:', 'Ventilador de teto: Quantidade', 'Fonte de aquecimento', 'Celular: Frequência de uso (do celular do entrevistado)', 'Notebook: Frequência de uso', 'Quantas pessoas nesta residência são:Moradores habituais, pessoas que tem a unidade domiciliar como local de residência habitual no período da pesquisa.', 'No dia em que a Máquina de solda é utilizada, qual é o tempo de utilização? (somando todas às vezes em que utiliza ao longo do dia)', 'Máquina de lavar louças: O equipamento é desligado da tomada quando NÃO está em uso?', 'Secadora de roupas (por aquecimento): Quantidade', 'Qual é a área construída aproximada deste domicílio, em m2?', 'O seu domicílio possui: Sala de estar, jantar, tv', 'Adquiriu novo ou usado?', 'No dia em que a Cafeteira Elétrica é utilizada, qual é o tempo de utilização? (somando todas às vezes em que utiliza ao longo do dia)', 'Condicionador de Ar: Frequência de uso', 'Você gostaria de receber?', 'Aspirador de pó: Frequência de uso', 'Secador de cabelo: Frequência de uso', 'Frequência de uso em Abril:', 'Aquecedor de ambiente: Tempo de utilização (somando todas as vezes que utiliza ao longo do dia)', 'No dia em que o No Break é utilizado, qual é o tempo de utilização? (somando todas às vezes em que utiliza ao longo do dia)', 'Batedeira: Tempo de utilização (somando todas as vezes que utiliza ao longo do dia)', 'Aparelho de som/ rádio (ligados na tomada quanto utilizados, desconsiderar rádios que funcionam somente com pilhas): Quantidade', 'Lava jato alta pressão Máquina: Frequência de uso', 'Secadora de roupas centrífuga: Tempo de utilização (somando todas as vezes que utiliza ao longo do dia)', 'Máquina de solda: Quantidade', 'Fritadeira elétrica sem óleo: Quantidade', 'No dia em que o Refrigerador é utilizado, qual é o tempo de utilização? (somando todas às vezes em que utiliza ao longo do dia)', 'Notebook: Quantidade', 'Secadora de roupas (por aquecimento): Tempo de utilização (somando todas as vezes que utiliza ao longo do dia)', 'Na sua opinião qual seria a melhor forma de receber essas informações?', 'Ferro elétrico a vapor (usando vapor): Quantidade', 'No dia em que o Bebedouro / purificador / filtro é utilizado, qual é o tempo de utilização? (somando todas às vezes em que utiliza ao longo do dia)', 'No dia em que a Máquina de costura é utilizada, qual é o tempo de utilização? (somando todas às vezes em que utiliza ao longo do dia)', 'Espremedor de frutas: Quantidade', 'No dia em que o Forno de micro-ondas é utilizado, qual é o tempo de utilização? (somando todas às vezes em que utiliza ao longo do dia)', 'Qual é o material que predomina na construção das paredes externas deste domicílio?', 'Tablet: Quantidade', 'Vamos começar? No domicílio tem... Quantas geladeiras?', 'Ferro elétrico a seco: Frequência de uso', 'Sala de estar, jantar, tv: Total de lâmpadas por tipo:', 'O(A) sr.(a) mudaria seu sistema de aquecimento de água de banho, para gás?', 'Tipo de aparelho:', 'Receptor digital (aparelho que está associado diretamente à antenas parabólicas): Tempo de utilização (somando todas as vezes que utiliza ao longo do dia)', 'No dia em que o DVD/Video/Blu-Ray é utilizado, qual é o tempo de utilização? (somando todas às vezes em que utiliza ao longo do dia)', 'Banheiro (modo eventual): Total de lâmpadas por tipo:', 'Forno elétrico (não é o acendedor do fogão a gás. Também é conhecido como \\\\\\\\\"forninho\\\\\"\\\\\"): Frequência de uso\"', 'No dia em que o Ventilador ou Circulador de ar é utilizado, qual é o tempo de utilização? (somando todas às vezes em que utiliza ao longo do dia)', 'Celular: Quantidade (deverá ser a soma de todos os aparelhos em uso na casa)', 'Panela elétrica: Quantidade', 'Cafeteira Elétrica: Frequência de uso', 'Tipo de domicílio:', 'Outros: Total de lâmpadas por tipo:', 'Computador: O equipamento é desligado da tomada quando NÃO está em uso?', 'Frequência de uso em Outubro:', 'Dentre elas, quantas são:Mais de 18 a 65 anos', 'Conversor digital externo para TV aberta (aparelho que converte o sinal analógico em digital e conta com o auxílio da antena UHF): Frequência de uso', 'Vamos começar? No domicílio tem... Quantos microcomputadores, considerando computadores de mesa, laptops, notebooks e netbooks e desconsiderando tablets, palms ou smartphones?', 'Frequência de uso', 'Quantas pessoas nesta residência são:Moradores ocasionais, pessoas que tem outro local de residência e, por ocasião da pesquisa, encontra-se dormindo e/ou fazendo refeições no domicílio pesquisado (hóspede, convidado, veranista, etc.).', 'Telefone sem fio: Quantidade', 'Varandas: Horário de uso:', 'Aparelho de som/ rádio: Frequência de uso', 'Considerando o trecho da rua do seu domicílio, você diria que a rua é:', 'Ao utilizar o ar-condicionado, mantenho portas e janelas fechadas, evitando assim a entrada de ar do ambiente externo:', 'Sanduicheira elétrica (grill): Quantidade', 'Ferro elétrico a seco: Quantidade', 'Telefone sem fio: O equipamento é desligado da tomada quando NÃO está em uso?', 'Aparelho de som/ rádio (ligados na tomada quanto utilizados, desconsiderar rádios que funcionam somente com pilhas): Frequência de uso', 'Triturador de lixo: Quantidade', 'Evito banhos demorados utilizando o chuveiro elétrico:', 'Capacidade térmica (Btu/h)', 'O seu domicílio possui: Banheiro, cuja lâmpada é ligada e desligada de modo habitual (ou seja, frequentemente a lâmpada é utilizada no mesmo período ao longo do dia)', 'Chapinha (prancha alisadora): Quantidade', 'Máq. de lavar roupa automática: Frequência de uso', 'Ventilador ou Circulador de ar: Tempo de utilização (somando todas as vezes que utiliza ao longo do dia)', 'Serra elétrica: Quantidade', 'No dia em que a Batedeira é utilizada, qual é o tempo de utilização? (somando todas às vezes em que utiliza ao longo do dia)', 'Consumo mensal de energia elétrica do domicílio, em kWh, encontrado no histórico de consumos do domicílio. (Atenção: não é o valor em R$ da conta):', 'Freezer: Frequência de uso', 'Garagem: Total de lâmpadas por tipo:', 'Furadeira: Frequência de uso', 'No Break: Quantidade', 'DVD/Video/Blu-Ray: Tempo de utilização (somando todas as vezes que utiliza ao longo do dia)', 'Área Externa: Horário de uso:', 'Videogame: Tempo de utilização (somando todas as vezes que utiliza ao longo do dia)', 'Fax: No dia em que o aparelho é utilizado, qual é o tempo de utilização?', 'Uso a chave seletora na posição verão pois desta forma eu reduzo o consumo de energia do chuveiro elétrico:', 'Multiprocessador: Quantidade', 'Secador de cabelo: Quantidade', \"Bomba d'água: Quantidade\", 'Aparelho de som/ rádio (ligados na tomada quanto utilizados, desconsiderar rádios que funcionam somente com pilhas): Horários de uso', 'A TV é desligada da tomada quando NÃO está em uso?', 'No dia em que o Telefone sem fio é utilizado, qual é o tempo de utilização? (somando todas às vezes em que utiliza ao longo do dia)', 'Receptor digital (aparelho que está associado diretamente à antenas parabólicas): Frequência de uso', 'No dia em que a Fritadeira elétrica com óleo é utilizada, qual é o tempo de utilização? (somando todas às vezes em que utiliza ao longo do dia)', 'Máq. de lavar roupa semiautomática (tanquinho): Frequência de uso', 'Adega: Quantidade', 'A maioria das janelas da residência está voltada para qual orientação?', 'Tipo de aparelho', 'Refrigerador: Frequência de uso', 'Ventilador de teto: Tempo de utilização (somando todas as vezes que utiliza ao longo do dia)', 'No dia em que o Ferro elétrico é utilizado, qual é o tempo de utilização? (somando todas às vezes em que utiliza ao longo do dia)', 'Máquina de solda: Tempo de utilização (somando todas as vezes que utiliza ao longo do dia)', 'Celular: Em seu domicílio, quanto tempo por dia você deixa o aparelho ligado na tomada para carregar a bateria? (neste caso, desconsiderar o tempo em que carrega a bateria no trabalho, escola, ou outros locais)', 'Portão Eletrônico: Quantidade', 'Receptor de TV por assinatura: Quantidade', 'O seu domicílio possui: Banheiro, cuja lâmpada é ligada e desligada de modo eventual (ou seja, não existe um período regular em que a lâmpada é utilizada)', 'Modem para internet com função Roteador Wi-Fi (aparelho fornecido pela operadora no momento em que se contrata um plano de internet por assinatura): Tempo de utilização (somando todas as vezes que utiliza ao longo do dia)', 'Notebook: Tempo de utilização (somando todas as vezes que utiliza ao longo do dia)', 'Fogão elétrico (não é o acendedor do fogão a gás. O fogão elétrico também é conhecido como “Cooktop elétrico”. As panelas são colocadas sobre uma placa de vidro para aquecer): Frequência de uso', \"Bomba d'água: Tempo de utilização (somando todas as vezes que utiliza ao longo do dia)\", 'Furadeira: Quantidade', 'Por qual meio você recebe essas informações?', 'Garagem: Horário de uso:', 'No dia em que o Ventilador de teto é utilizado, qual é o tempo de utilização? (somando todas às vezes em que utiliza ao longo do dia)', 'Micro-ondas no domicílio', 'No dia em que o Aspirador de pó é utilizado, qual é o tempo de utilização? (somando todas às vezes em que utiliza ao longo do dia)', 'No dia em que a Sanduicheira elétrica (grill) é utilizada, qual é o tempo de utilização? (somando todas às vezes em que utiliza ao longo do dia)', 'Banheiro (modo habitual): Total de lâmpadas por tipo:', 'No dia em que a Chapinha (prancha alisadora) é utilizada, qual é o tempo de utilização? (somando todas às vezes em que utiliza ao longo do dia)', 'Frequência de uso em Março:', 'Tamanho (polegadas)', 'Filtro de Piscina: Frequência de uso', 'Computador: Quantidade'}\n"
     ]
    }
   ],
   "source": [
    "questions_set =  set(df['desc_pergunta'].to_list())\n",
    "print(questions_set)"
   ]
  },
  {
   "cell_type": "code",
   "execution_count": 15,
   "id": "4f8bf512",
   "metadata": {},
   "outputs": [
    {
     "name": "stdout",
     "output_type": "stream",
     "text": [
      "40461\n"
     ]
    }
   ],
   "source": [
    "question_list_total_freezers = 'Freezer no domicílio (independente)'\n",
    "df_question_total_freezers = df.loc[df['desc_pergunta'] == question_list_total_freezers]\n",
    "print(len(df_question_total_freezers))"
   ]
  },
  {
   "cell_type": "code",
   "execution_count": 16,
   "id": "2c6146a3",
   "metadata": {},
   "outputs": [
    {
     "name": "stdout",
     "output_type": "stream",
     "text": [
      "1988:  0\n",
      "1997:  17376\n",
      "2005:  4310\n",
      "2019:  18775\n"
     ]
    }
   ],
   "source": [
    "df_question_total_freezers_1988 = df_question_total_freezers.loc[df_question_total_freezers['data_inicio'].str.contains(\"1988\")]\n",
    "df_question_total_freezers_1997 = df_question_total_freezers.loc[df_question_total_freezers['data_inicio'].str.contains(\"1997\")]\n",
    "df_question_total_freezers_2005 = df_question_total_freezers.loc[df_question_total_freezers['data_inicio'].str.contains(\"2005\")]\n",
    "df_question_total_freezers_2019 = df_question_total_freezers.loc[df_question_total_freezers['data_inicio'].str.contains(\"2019\")]\n",
    "\n",
    "print('1988: ', len(df_question_total_freezers_1988))\n",
    "print('1997: ', len(df_question_total_freezers_1997))\n",
    "print('2005: ', len(df_question_total_freezers_2005))\n",
    "print('2019: ', len(df_question_total_freezers_2019))\n",
    "\n"
   ]
  },
  {
   "cell_type": "code",
   "execution_count": 56,
   "id": "079bb1e4",
   "metadata": {},
   "outputs": [
    {
     "name": "stdout",
     "output_type": "stream",
     "text": [
      "{0, 1, 2, 3, 5, 7}\n",
      "{'Quantidade:'}\n"
     ]
    }
   ],
   "source": [
    "answer_list = df_question_total_freezers_2019['resposta'].to_list()\n",
    "paralel_a_list = df_question_total_freezers_2019['paralelo_a'].to_list()\n",
    "brazil_region_list = df_question_total_freezers_2019['desc_regiao'].to_list()\n",
    "answers_set_total_freezers_paralelo_a = set(answer_list)\n",
    "answers_set_total_freezers_resposta = set(paralel_a_list)\n",
    "print(answers_set_total_freezers_paralelo_a)\n",
    "print(answers_set_total_freezers_resposta)"
   ]
  },
  {
   "cell_type": "code",
   "execution_count": 61,
   "id": "535f623a",
   "metadata": {},
   "outputs": [
    {
     "name": "stdout",
     "output_type": "stream",
     "text": [
      "{0: 3854, 1: 484, 2: 32, 3: 4, 7: 1}\n",
      "0.13\n",
      "{0: 0.8809, 1: 0.1106, 2: 0.0073, 3: 0.0009, 7: 0.0002}\n",
      "0.11909999999999998\n"
     ]
    }
   ],
   "source": [
    "answers_dict = dict()\n",
    "total_freezers = 0\n",
    "answers_count = 0\n",
    "for i in range(len(answer_list)):\n",
    "    region = brazil_region_list[i]\n",
    "    if region != 'SE':\n",
    "        continue\n",
    "    number_of_freezers = answer_list[i]\n",
    "    total_freezers += number_of_freezers\n",
    "    if number_of_freezers in answers_dict:\n",
    "        answers_dict[number_of_freezers] += 1\n",
    "    else:\n",
    "        answers_dict[number_of_freezers] = 1\n",
    "    answers_count += 1\n",
    "    \n",
    "print(answers_dict)\n",
    "percentage_dict = dict()\n",
    "\n",
    "for number_of_ref in answers_dict:\n",
    "    percentage_dict[number_of_ref] = round(answers_dict[number_of_ref] / answers_count, 4)\n",
    "\n",
    "print(round(total_freezers / answers_count, 2))\n",
    "print(percentage_dict)\n",
    "print(1 - percentage_dict[0])"
   ]
  },
  {
   "cell_type": "code",
   "execution_count": null,
   "id": "f531a072",
   "metadata": {},
   "outputs": [],
   "source": []
  },
  {
   "cell_type": "code",
   "execution_count": null,
   "id": "1d339670",
   "metadata": {},
   "outputs": [],
   "source": []
  },
  {
   "cell_type": "code",
   "execution_count": null,
   "id": "704c8477",
   "metadata": {},
   "outputs": [],
   "source": []
  }
 ],
 "metadata": {
  "kernelspec": {
   "display_name": "Python 3 (ipykernel)",
   "language": "python",
   "name": "python3"
  },
  "language_info": {
   "codemirror_mode": {
    "name": "ipython",
    "version": 3
   },
   "file_extension": ".py",
   "mimetype": "text/x-python",
   "name": "python",
   "nbconvert_exporter": "python",
   "pygments_lexer": "ipython3",
   "version": "3.10.6"
  }
 },
 "nbformat": 4,
 "nbformat_minor": 5
}
