{
 "cells": [
  {
   "cell_type": "code",
   "execution_count": 1,
   "id": "cb6a5fb3",
   "metadata": {},
   "outputs": [
    {
     "name": "stdout",
     "output_type": "stream",
     "text": [
      "Index(['id_regiao', 'id', 'cod_entrevista', 'data_inicio', 'data_fim',\n",
      "       'id_questionario', 'ID_HORARIO', 'ID_EQUIPAMENTO', 'ID_LAMPADA',\n",
      "       'ID_COMODO', 'id_alternativa', 'id_pergunta', 'id_resposta', 'loop',\n",
      "       'resposta', 'desc_pergunta', 'ORDEM', 'paralelo_p', 'cod_alternativa',\n",
      "       'alternativa', 'valores', 'paralelo_a', 'DESC_COMODO', 'DESC_LAMPADA',\n",
      "       'DESC_EQUIPAMENTO', 'DESC_HORARIO', 'desc_regiao', 'desc_uf',\n",
      "       'desc_municipio', 'ano_entrevista', 'cod_alternativa2'],\n",
      "      dtype='object')\n"
     ]
    }
   ],
   "source": [
    "import pandas as pd\n",
    "\n",
    "\n",
    "path = 'ANALISES/final.csv'\n",
    "\n",
    "df = pd.read_csv(path, sep=';', on_bad_lines='skip')\n",
    "\n",
    "print(df.columns)"
   ]
  },
  {
   "cell_type": "code",
   "execution_count": 2,
   "id": "5d466c5f",
   "metadata": {},
   "outputs": [
    {
     "name": "stdout",
     "output_type": "stream",
     "text": [
      "{'Batedeira: Tempo de utilização (somando todas as vezes que utiliza ao longo do dia)', 'Frequência de uso em Novembro:', 'Notebook: O equipamento é desligado da tomada quando NÃO está em uso?', 'Celular: Frequência de uso (do celular do entrevistado)', 'Multiprocessador: Quantidade', 'Fax: No dia em que o aparelho é utilizado, qual é o tempo de utilização?', 'Dentre elas, quantas são:Acima de 65 anos', 'Ferro elétrico: Frequência de uso', 'Outros: Horário de uso:', 'Panificadora (máquina de pão): Tempo de utilização (somando todas as vezes que utiliza ao longo do dia)', 'Liquidificador: Quantidade', 'No dia em que o Bebedouro / purificador / filtro é utilizado, qual é o tempo de utilização? (somando todas às vezes em que utiliza ao longo do dia)', 'Quarto (modo habitual): Horário de uso:', 'A máquina de lavar roupas é desligada da tomada quando NÃO está em uso?', 'Receptor digital (aparelho que está associado diretamente à antenas parabólicas): O equipamento é desligado da tomada quando NÃO está em uso?', 'Máquina de solda: Quantidade', 'Videogame: Frequência de uso', 'Frequência de uso em Setembro:', 'Quantas pessoas nesta residência são:Empregados que dormem na residência, considerando apenas os que trabalham pelo menos cinco dias por semana.', 'Videogame: O equipamento é desligado da tomada quando NÃO está em uso?', 'O seu domicílio possui: Sala de estar, jantar, tv', 'Multiprocessador: Tempo de utilização (somando todas as vezes que utiliza ao longo do dia)', 'Aparelho de som/ rádio: Frequência de uso', 'No dia em que o Telefone sem fio é utilizado, qual é o tempo de utilização? (somando todas às vezes em que utiliza ao longo do dia)', 'No Break: Tempo de utilização (somando todas as vezes que utiliza ao longo do dia)', 'TV: Frequência de uso', 'De dentro de casa é possível ver diretamente o telhado?', 'Conversor digital externo para TV aberta (aparelho que converte o sinal analógico em digital e conta com o auxílio da antena UHF): O equipamento é desligado da tomada quando NÃO está em uso?', 'Máq. de lavar roupa semiautomática (tanquinho): Frequência de uso', 'No dia em que o Notebook é utilizado, qual é o tempo de utilização? (somando todas às vezes em que utiliza ao longo do dia)', 'Portão Eletrônico: Frequência de uso', 'Quantas pessoas nesta residência são:Moradores habituais, pessoas que tem a unidade domiciliar como local de residência habitual no período da pesquisa.', 'Frequência de uso em Julho:', 'Lava jato alta pressão (máquina): Frequência de uso', 'Panela elétrica: Tempo de utilização (somando todas as vezes que utiliza ao longo do dia)', 'Que tipo de proteção solar há nas janelas pelo lado de fora da residência?', 'No dia em que o Secador de cabelo é utilizado, qual é o tempo de utilização? (somando todas às vezes em que utiliza ao longo do dia)', 'Adega: Tempo de utilização (somando todas as vezes que utiliza ao longo do dia)', 'Considerando o trecho da rua do seu domicílio, você diria que a rua é:', 'Procuro ligar a máquina de lavar só quando ela estiver com a capacidade máxima de roupas indicada pelo fabricante:', 'Forno de micro-ondas: Frequência de uso', 'Lava jato alta pressão Máquina: Frequência de uso', 'Horário de uso do condicionador de ar', 'No dia em que o Videogame é utilizado, qual é o tempo de utilização? (somando todas às vezes em que utiliza ao longo do dia)', 'No dia em que a Panificadora (máquina de pão) é utilizada, qual é o tempo de utilização? (somando todas às vezes em que utiliza ao longo do dia)', 'No dia em que o Ferro elétrico é utilizado, qual é o tempo de utilização? (somando todas às vezes em que utiliza ao longo do dia)', 'Conversor digital externo para TV aberta (aparelho que converte o sinal analógico em digital e conta com o auxílio da antena UHF): Frequência de uso', 'Sanduicheira elétrica (grill): Quantidade', 'No dia em que o DVD/Video/Blu-Ray é utilizado, qual é o tempo de utilização? (somando todas às vezes em que utiliza ao longo do dia)', 'Quais são os equipamentos elétricos utilizados nesta(s) atividade(s)?', 'Triturador de lixo: Quantidade', 'Secadora de roupas centrífuga: Frequência de uso', 'No dia em que a TV é utilizada, qual é o tempo de utilização? (somando todas às vezes em que utiliza ao longo do dia)', 'Vamos começar? No domicílio tem... Quantas geladeiras?', 'Forno elétrico (não é o acendedor do fogão a gás. Também é conhecido como \\\\\\\\\"forninho\\\\\"\\\\\"): O equipamento é desligado da tomada quando NÃO está em uso?\"', 'Espremedor de frutas: Frequência de uso', 'Freezer: Frequência de uso', 'Faca elétrica: Tempo de utilização (somando todas as vezes que utiliza ao longo do dia)', 'Aquecedor de ambiente: Tempo de utilização (somando todas as vezes que utiliza ao longo do dia)', 'Garagem: Horário de uso:', 'Serra elétrica: Tempo de utilização (somando todas as vezes que utiliza ao longo do dia)', 'Chuveiros no domicílio? (independente de ter ou não água aquecida)', 'O seu domicílio possui: Varandas', 'O seu domicílio possui: Quarto, cuja lâmpada é ligada e desligada de modo habitual (ou seja, frequentemente a lâmpada é utilizada no mesmo período ao longo do dia)', 'Roteador sem Fio (WI-FI) (aparelho de propriedade do morador, ou seja, que não pertence à operadora de internet): O equipamento é desligado da tomada quando NÃO está em uso?', 'Copa / cozinha: Total de lâmpadas por tipo:', 'Filtro de Piscina: Tempo de utilização (somando todas as vezes que utiliza ao longo do dia)', 'O(A) sr.(a) realiza limpeza periódica das placas solares?', 'Dentre elas, quantas são:Adolescentes de 11 a 18 anos', 'Batedeira: Frequência de uso', 'Vamos começar? No domicílio tem... Quantas máquinas de lavar roupa, excluindo tanquinho?', 'Ferro elétrico a vapor (não usando vapor): Frequência de uso', 'No dia em que o Celular é utilizado, qual é o tempo de utilização? (somando todas às vezes em que utiliza ao longo do dia)', 'Ventilador de teto: Horários de uso', 'Multiprocessador: Frequência de uso', 'Celular: Em seu domicílio, quanto tempo por dia você deixa o aparelho ligado na tomada para carregar a bateria? (neste caso, desconsiderar o tempo em que carrega a bateria no trabalho, escola, ou outros locais)', 'Enceradeira: Quantidade', 'Bebedouro / purificador / filtro: Horários de uso', 'DVD/Video/Blu-Ray: O equipamento é desligado da tomada quando NÃO está em uso?', 'Capacidade térmica (Btu/h)', 'Ebulidor: Tempo de utilização (somando todas as vezes que utiliza ao longo do dia)', 'Modem para internet com função Roteador Wi-Fi (aparelho fornecido pela operadora no momento em que se contrata um plano de internet por assinatura): Frequência de uso', 'Impressora: Tempo de utilização (somando todas as vezes que utiliza ao longo do dia)', 'Serra elétrica: Frequência de uso', 'Aspirador de pó: Frequência de uso', 'Em qual(is) mês(es) do ano predomina o banho no modo completamente frio?', 'Evito deixar os aparelhos elétricos em stand by (ligados na tomada):', 'Qual a posição do controlador de temperatura mais utilizada na hora de ligar o ar-condicionado nesta residência?', 'O seu domicílio possui: Outros', 'Banheiro (modo habitual): Total de lâmpadas por tipo:', 'Receptor de TV por assinatura: Frequência de uso', 'No dia em que o Multiprocessador é utilizado, qual é o tempo de utilização? (somando todas às vezes em que utiliza ao longo do dia)', 'Receptor digital (aparelho que está associado diretamente à antenas parabólicas): Tempo de utilização (somando todas as vezes que utiliza ao longo do dia)', 'No dia em que o No Break é utilizado, qual é o tempo de utilização? (somando todas às vezes em que utiliza ao longo do dia)', 'Aquecedor de ambiente: O equipamento é desligado da tomada quando NÃO está em uso?', 'Ebulidor: Quantidade', 'Tipo de tela', 'Panela elétrica: Frequência de uso', 'Uso a chave seletora na posição verão pois desta forma eu reduzo o consumo de energia do chuveiro elétrico:', 'Secadora de roupas (por aquecimento): Tempo de utilização (somando todas as vezes que utiliza ao longo do dia)', 'Frequência de uso em Janeiro:', 'No dia em que o Freezer é utilizado, qual é o tempo de utilização? (somando todas às vezes em que utiliza ao longo do dia)', 'Filtro de Piscina: Frequência de uso', 'Qual é a área construída aproximada deste domicílio, em m2?', 'Secadora de roupas (por aquecimento): Quantidade', 'Ventilador ou Circulador de ar: O equipamento é desligado da tomada quando NÃO está em uso?', 'Ferro elétrico a seco: Tempo de utilização (somando todas as vezes que utiliza ao longo do dia)', 'Aquecedor de ambiente: Frequência de uso', 'O seu domicílio possui: Banheiro, cuja lâmpada é ligada e desligada de modo eventual (ou seja, não existe um período regular em que a lâmpada é utilizada)', 'Horários de uso do aparelho de TV', 'Ferro elétrico a vapor (não usando vapor): Tempo de utilização (somando todas as vezes que utiliza ao longo do dia)', 'Quantas pessoas nesta residência são:Empregados que NÃO dormem na residência, considerando apenas os que trabalham pelo menos cinco dias por semana.', 'Máquina de costura: Frequência de uso', 'Cafeteira Elétrica: Quantidade', 'Aparelho de som/ rádio: O equipamento é desligado da tomada quando NÃO está em uso?', 'Varandas: Total de lâmpadas por tipo:', 'Secadora de roupas centrífuga: Tempo de utilização (somando todas as vezes que utiliza ao longo do dia)', 'Desligo a TV quando ninguém está assistindo:', 'Quantas vezes por dia o chuveiro é utilizado?', 'Aparelho de som/ rádio (ligados na tomada quanto utilizados, desconsiderar rádios que funcionam somente com pilhas): Tempo de utilização (somando todas as vezes que utiliza ao longo do dia)', 'Faca elétrica: Quantidade', 'Potência máxima do aparelho', 'Condicionador de Ar: Frequência de uso', 'Qual o tempo médio de duração do banho?', 'Apago sempre as lâmpadas dos ambientes desocupados:', 'No dia em que a Secadora de roupas (por aquecimento) é utilizada, qual é o tempo de utilização? (somando todas às vezes em que utiliza ao longo do dia)', 'Receptor de TV por assinatura: Quantidade', 'Não deixo a porta da geladeira/freezer aberta e evito abri-las várias vezes:', 'No dia em que a Adega é utilizada, qual é o tempo de utilização? (somando todas às vezes em que utiliza ao longo do dia)', 'Corredores: Total de lâmpadas por tipo:', 'Roteador sem Fio (WI-FI): Frequência de uso', 'No dia em que a Impressora é utilizada, qual é o tempo de utilização? (somando todas às vezes em que utiliza ao longo do dia)', 'Ferro elétrico a vapor (usando vapor): Frequência de uso', 'No dia em que a Cafeteira Elétrica é utilizada, qual é o tempo de utilização? (somando todas às vezes em que utiliza ao longo do dia)', 'Máq. de lavar roupa automática: Frequência de uso', 'Panificadora (Máquina de pão): Frequência de uso', 'Ferro elétrico a seco: Quantidade', 'Telefone sem fio: Quantidade', 'Ferro elétrico a vapor (não usando vapor): Quantidade', 'Quantas pessoas nesta residência são:Moradores ocasionais, pessoas que tem outro local de residência e, por ocasião da pesquisa, encontra-se dormindo e/ou fazendo refeições no domicílio pesquisado (hóspede, convidado, veranista, etc.).', 'Tempo que possui este aparelho', 'No Break: Quantidade', 'Ferro elétrico a seco: Frequência de uso', 'Sanduicheira elétrica (grill): Tempo de utilização (somando todas as vezes que utiliza ao longo do dia)', 'Aquecedor de água (chuveiro, torneira, boiler): Frequência de uso', 'Panela elétrica: Quantidade', 'Fritadeira elétrica com óleo: Tempo de utilização (somando todas as vezes que utiliza ao longo do dia)', 'Controlador de temperatura', 'Ventilador de teto: Tempo de utilização (somando todas as vezes que utiliza ao longo do dia)', 'Lava jato alta pressão (máquina): Quantidade', 'Triturador de lixo: Frequência de uso', 'No dia em que a Fritadeira elétrica sem óleo é utilizada, qual é o tempo de utilização? (somando todas às vezes em que utiliza ao longo do dia)', 'O seu domicílio possui: Banheiro, cuja lâmpada é ligada e desligada de modo habitual (ou seja, frequentemente a lâmpada é utilizada no mesmo período ao longo do dia)', 'Ventilador ou Circulador de ar: Horários de uso', 'Secador de cabelo: Tempo de utilização (somando todas as vezes que utiliza ao longo do dia)', 'Fogão elétrico (não é o acendedor do fogão a gás. O fogão elétrico também é conhecido como “Cooktop elétrico”. As panelas são colocadas sobre uma placa de vidro para aquecer): Tempo de utilização (somando todas as vezes que utiliza ao longo do dia)', 'Qual(is) o(s) mês(es) o ar-condicionado é(são) utilizado(s) nesta residência? (em média)', 'No dia em que o Tablet é utilizado, qual é o tempo de utilização? (somando todas às vezes em que utiliza ao longo do dia)', 'Telefone sem fio: Quanto tempo por dia você deixa o aparelho ligado na tomada para carregar a bateria?', 'Cafeteira Elétrica: Tempo de utilização (somando todas as vezes que utiliza ao longo do dia)', 'Corredores: Horário de uso:', 'Condicionadores de ar no domicílio', 'Desligo o ferro de passar quando interrompo o serviço:', 'Nunca utilizo a parte traseira da geladeira para secar panos ou roupas:', 'Bebedouro / purificador / filtro: Quantidade', 'Portão Eletrônico: Tempo de utilização (somando todas as vezes que utiliza ao longo do dia)', 'Frequência de uso em Junho:', 'Impressora: O equipamento é desligado da tomada quando NÃO está em uso?', 'Secadora de roupas (por aquecimento): O equipamento é desligado da tomada quando NÃO está em uso?', 'Forno elétrico (não é o acendedor do fogão a gás. Também é conhecido como \\\\\\\\\"forninho\\\\\"\\\\\"): Frequência de uso\"', 'Videogame: Horários de uso', 'Receptor de TV por assinatura: O equipamento é desligado da tomada quando NÃO está em uso?', 'DVD/Video/Blu-Ray: Quantidade', 'Modem para internet com função Roteador Wi-Fi (aparelho fornecido pela operadora no momento em que se contrata um plano de internet por assinatura): O equipamento é desligado da tomada quando NÃO está em uso?', 'Bebedouro / purificador / filtro: Tempo de utilização (somando todas as vezes que utiliza ao longo do dia)', 'Roteador sem Fio (WI-FI) (aparelho de propriedade do morador, ou seja, que não pertence à operadora de internet): Tempo de utilização (somando todas as vezes que utiliza ao longo do dia)', 'No dia em que o Roteador sem Fio (WI-FI) é utilizado, qual é o tempo de utilização? (somando todas às vezes em que utiliza ao longo do dia)', 'Videogame: Quantidade', 'Qual(is) fonte(s) própria(s) de energia é(são) usada(s) neste domicílio para geração de energia elétrica?', 'Frequência de uso em Dezembro:', 'Máquina de costura: Tempo de utilização (somando todas as vezes que utiliza ao longo do dia)', 'Adega: Frequência de uso', 'Sala de estar, jantar, tv: Horário de uso:', 'O seu domicílio possui: Á�rea Externa', 'O(A) sr.(a) utilizaria um sistema de aquecimento a gás para aquecer a água do seu banho?', 'Frequência de uso em Março:', 'O(A) sr.(a) recebe informações sobre como economizar energia?', \"Bomba d'água: Tempo de utilização (somando todas as vezes que utiliza ao longo do dia)\", 'Forno elétrico (não é o acendedor do fogão a gás. Também é conhecido como \\\\\\\\\"forninho\\\\\"\\\\\"): Horários de uso\"', 'Mantenho o ar-condicionado sempre desligado quando estou fora do ambiente por muito tempo:', 'No dia em que o Aparelho de som/ rádio é utilizado, qual é o tempo de utilização? (somando todas às vezes em que utiliza ao longo do dia)', 'Vamos começar? No domicílio tem... Quantas lavadora de louças?', 'Varandas: Horário de uso:', 'Freezer no domicílio (independente)', 'Não guardo alimentos quentes e nem sem tampas na geladeira:', 'O(A) sr.(a) mudaria seu sistema de aquecimento de água de banho, para solar?', 'O seu domicílio possui: Corredores', 'Espremedor de frutas: Tempo de utilização (somando todas as vezes que utiliza ao longo do dia)', 'Celular: Frequência de uso', 'Computador: Horários de uso', 'Computador: Tempo de utilização (somando todas as vezes que utiliza ao longo do dia)', 'Computador: Frequência de uso', 'O micro-ondas é desligado da tomada quando NÃO está em uso?', 'Fax: Frequência de uso', 'Área Externa: Total de lâmpadas por tipo:', 'O seu domicílio possui: Quarto, cuja lâmpada é ligada e desligada de modo eventual (ou seja, não existe um período regular em que a lâmpada é utilizada)', 'Modem (TV / Internet a cabo): Frequência de uso', 'O(A) sr.(a) conhece ou já ouviu falar de aquecedor solar de água para o banho?', 'Filtro de Piscina: Quantidade', 'Máquina de lavar louças: Horários de uso', 'Enceradeira: Frequência de uso', 'Serra elétrica: Quantidade', 'Você gostaria de receber?', 'Horários de uso da máquina de lavar roupas', 'Qual(is) a(s) origem(ens) da energia elétrica utilizada(s) neste domicílio?', 'Computador: O equipamento é desligado da tomada quando NÃO está em uso?', 'CLASSE SOCIAL:', 'Tipo de operação', 'No Break: O equipamento é desligado da tomada quando NÃO está em uso?', 'Ferro elétrico a vapor (usando vapor): Tempo de utilização (somando todas as vezes que utiliza ao longo do dia)', 'Refrigeradores no domicílio', 'Tempo de utilização (somando todas as vezes que utiliza ao longo do dia)', 'No dia em que a Máquina de costura é utilizada, qual é o tempo de utilização? (somando todas às vezes em que utiliza ao longo do dia)', 'Fritadeira elétrica com óleo: Quantidade', 'Ventilador ou Circulador de ar: Frequência de uso', 'Vamos começar? No domicílio tem... Quantos DVD, incluindo qualquer dispositivo que leia DVD e desconsiderando DVD de automóvel?', 'Máquina de lavar louças: Tempo de utilização (somando todas as vezes que utiliza ao longo do dia)', 'Frequência de uso em Abril:', 'No dia em que o Modem (TV / Internet a cabo) é utilizado, qual é o tempo de utilização? (somando todas às vezes em que utiliza ao longo do dia)', 'No dia em que a Sanduicheira elétrica (grill) é utilizada, qual é o tempo de utilização? (somando todas às vezes em que utiliza ao longo do dia)', 'Em qual(is) mês(es) do ano predomina o banho na temperatura máxima?', 'Aparelho de som/ rádio (ligados na tomada quanto utilizados, desconsiderar rádios que funcionam somente com pilhas): Frequência de uso', 'Máquina de Lavar Roupas', 'No dia em que o Liquidificador é utilizado, qual é o tempo de utilização? (somando todas às vezes em que utiliza ao longo do dia)', 'Frequência de uso em Fevereiro:', 'Cafeteira Elétrica: O equipamento é desligado da tomada quando NÃO está em uso?', 'Fritadeira elétrica com óleo: Frequência de uso', 'Uso a temperatura do ferro de passar indicada para cada tipo de tecido e começo pelas mais leves:', 'No dia em que o Condicionador de Ar é utilizado, qual é o tempo de utilização? (somando todas às vezes em que utiliza ao longo do dia)', 'Regulo o termostato da geladeira em função das estações (inverno, verão, outono/primavera):', 'Em que andar o apartamento está localizado?', 'Ventilador ou Circulador de ar: Quantidade', 'Portão Eletrônico: Quantidade', 'Ao comprar lâmpadas e eletrodomésticos, dou preferência pelos que consomem menos energia elétrica:', 'No Break: Frequência de uso', 'Secador de cabelo: Quantidade', 'Chapinha (prancha alisadora): Frequência de uso', 'A maioria das janelas da residência está voltada para qual orientação?', 'Vamos começar? No domicílio tem... Quantos banheiros?', 'Por qual meio você recebe essas informações?', 'Bebedouro / purificador / filtro: O equipamento é desligado da tomada quando NÃO está em uso?', 'Acumulo o maior número de peças de roupa para ligar o ferro o mínimo de vezes possível:', 'Forno elétrico (não é o acendedor do fogão a gás. Também é conhecido como \\\\\\\\\"forninho\\\\\"\\\\\"): Quantidade\"', 'No dia em que a Batedeira é utilizada, qual é o tempo de utilização? (somando todas às vezes em que utiliza ao longo do dia)', 'Mantenho a borracha de vedação da porta da geladeira em bom estado e troco a borracha quando percebo a necessidade:', 'No dia em que a Máq. de lavar roupa automática é utilizada, qual é o tempo de utilização? (somando todas às vezes em que utiliza ao longo do dia)', 'No dia em que a Máq. de lavar roupa semiautomática (tanquinho) é utilizada, qual é o tempo de utilização? (somando todas às vezes em que utiliza ao longo do dia)', 'Na residência há janelas em mais de uma parede externa? (exemplo: janelas na parede da frente e dos fundos ao mesmo tempo, ou parede da frente e lateral ao mesmo tempo, etc.)', 'Fonte de aquecimento', 'Micro-ondas no domicílio', 'Ferro elétrico a vapor (usando vapor): Quantidade', 'DVD/Video/Blu-Ray: Frequência de uso', 'Faca elétrica: Frequência de uso', 'Quarto (modo habitual): Total de lâmpadas por tipo:', 'Adega: Horários de uso', 'Tablet: Quanto tempo por dia você deixa o aparelho ligado na tomada para carregar a bateria?', 'Notebook: Frequência de uso', 'Qual é o material que predomina na construção das paredes externas deste domicílio?', 'Aspirador de pó: Tempo de utilização (somando todas as vezes que utiliza ao longo do dia)', 'O seu domicílio possui: Garagem', 'Roteador sem Fio (WI-FI) (aparelho de propriedade do morador, ou seja, que não pertence à operadora de internet): Frequência de uso', 'O equipamento é desligado da tomada quando NÃO está em uso?', 'Banheiro (modo habitual): Horário de uso:', 'Fogão elétrico (não é o acendedor do fogão a gás. O fogão elétrico também é conhecido como “Cooktop elétrico”. As panelas são colocadas sobre uma placa de vidro para aquecer): Frequência de uso', 'Horários de uso por período', 'Na sua opinião qual seria a melhor forma de receber essas informações?', 'Máquina de lavar louças: O equipamento é desligado da tomada quando NÃO está em uso?', 'Vamos começar? No domicílio tem... Quantos freezers independentes ou parte da geladeira duplex?', 'Tipo do aparelho', 'No dia em que a Portão Eletrônico é utilizada, qual é o tempo de utilização? (somando todas às vezes em que utiliza ao longo do dia)', 'Área de Serviço: Total de lâmpadas por tipo:', 'Chapinha (prancha alisadora): Quantidade', 'Fritadeira elétrica sem óleo: Quantidade', 'Telefone sem fio: O equipamento é desligado da tomada quando NÃO está em uso?', 'Secadora de roupas (por aquecimento): Frequência de uso', 'Tipo de aparelho:', 'Ebulidor: Frequência de uso', 'Forno elétrico (não é o acendedor do fogão a gás. Também é conhecido como \\\\\\\\\"forninho\\\\\"\\\\\"): Tempo de utilização (somando todas as vezes que utiliza ao longo do dia)\"', 'No dia em que a Chapinha (prancha alisadora) é utilizada, qual é o tempo de utilização? (somando todas às vezes em que utiliza ao longo do dia)', 'Bebedouro / purificador / filtro: Frequência de uso', 'Máquina de costura: Quantidade', 'No dia em que o Refrigerador é utilizado, qual é o tempo de utilização? (somando todas às vezes em que utiliza ao longo do dia)', 'De dentro de casa, o teto é inclinado?', 'Vamos começar? No domicílio tem... Quantas máquinas secadoras de roupas, considerando lava e seca?', 'Secadora de roupas (por aquecimento): Horários de uso', 'Vamos começar? No domicílio tem... Quantos empregados mensalistas, considerando apenas os que trabalham pelo menos cinco dias por semana?', 'Enceradeira: Tempo de utilização (somando todas as vezes que utiliza ao longo do dia)', 'Furadeira: Quantidade', 'Projetores (Iluminação de jardim): Frequência de uso', 'DVD/Video/Blu-Ray: Tempo de utilização (somando todas as vezes que utiliza ao longo do dia)', 'Quarto (modo eventual): Total de lâmpadas por tipo:', 'Ventilador de teto: Quantidade', 'Tablet: Quantidade', 'O(a) sr.(a) limpa periodicamente o filtro do condicionador de ar?', 'Secadora de roupas centrífuga: O equipamento é desligado da tomada quando NÃO está em uso?', 'Vamos começar? No domicílio tem... Quantos automóveis de passeio exclusivamente para uso particular?', 'Dou preferência a lâmpadas de LED ou fluorescentes:', 'Frequência de uso em Outubro:', 'Roteador sem Fio (WI-FI) (aparelho de propriedade do morador, ou seja, que não pertence à operadora de internet): Quantidade', 'Ferro elétrico a vapor (usando vapor): Horários de uso', 'O seu domicílio possui: Á�rea de Serviço', 'Área de Serviço: Horário de uso:', 'No dia em que o Aquecedor de água (chuveiro, torneira, boiler) é utilizado, qual é o tempo de utilização? (somando todas às vezes em que utiliza ao longo do dia)', 'Notebook: Tempo de utilização (somando todas as vezes que utiliza ao longo do dia)', 'Frequência de uso', 'O(A) sr.(a) conhece ou já ouviu falar de aquecedor de água à gás para o banho?', 'Em qual(is) mês(es) do ano predomina o banho na temperatura intermediária?', 'O(A) sr.(a) utilizaria um sistema de aquecimento solar para aquecer a água do seu banho?', 'Secadora de roupas centrífuga: Horários de uso', 'No dia em que a Fritadeira elétrica com óleo é utilizada, qual é o tempo de utilização? (somando todas às vezes em que utiliza ao longo do dia)', 'Impressora: Quantidade', 'Dentre elas, quantas são:Mais de 18 a 65 anos', 'Aquecedor de ambiente: Horários de uso', 'A água utilizada neste domicílio é proveniente de?', 'Receptor de TV por assinatura: Tempo de utilização (somando todas as vezes que utiliza ao longo do dia)', 'Frequência de uso em Agosto:', 'Evito acender lâmpadas durante o dia, aproveito a luz natural:', 'Preciso registrar o consumo mensal de energia elétrica em seu domicílio, esta informação aparece em sua conta de energia elétrica. Você poderia me apresentar a conta?', 'Ventilador ou Circulador de ar: Tempo de utilização (somando todas as vezes que utiliza ao longo do dia)', 'Adega: Quantidade', 'No dia em que a Máquina de solda é utilizada, qual é o tempo de utilização? (somando todas às vezes em que utiliza ao longo do dia)', 'Furadeira: Tempo de utilização (somando todas as vezes que utiliza ao longo do dia)', 'Liquidificador: Tempo de utilização (somando todas as vezes que utiliza ao longo do dia)', 'Chapinha (prancha alisadora): Tempo de utilização (somando todas as vezes que utiliza ao longo do dia)', 'Celular: Quantidade (deverá ser a soma de todos os aparelhos em uso na casa)', 'Fax: Quantidade', 'No dia em que a Furadeira é utilizada, qual é o tempo de utilização? (somando todas às vezes em que utiliza ao longo do dia)', \"Bomba d'água: Quantidade\", 'No dia em que a máquina de lavar roupas é utilizada, quantas lavagens são realizadas?', 'Fritadeira elétrica sem óleo: Tempo de utilização (somando todas as vezes que utiliza ao longo do dia)', 'Projetores (Iluminação de jardim): Tempo de utilização (somando todas as vezes que utiliza ao longo do dia)', 'Tamanho (polegadas)', 'Cafeteira Elétrica: Frequência de uso', 'Máquina de lavar louças: Frequência de uso', 'No dia em que o Aspirador de pó é utilizado, qual é o tempo de utilização? (somando todas às vezes em que utiliza ao longo do dia)', 'Sala de estar, jantar, tv: Total de lâmpadas por tipo:', 'No dia em que o Espremedor de frutas é utilizado, qual é o tempo de utilização? (somando todas às vezes em que utiliza ao longo do dia)', 'Adega: O equipamento é desligado da tomada quando NÃO está em uso?', 'Liquidificador: Frequência de uso', 'Notebook: Quantidade', 'Dentre elas, quantas são:Crianças até 10 anos', 'Adquiriu novo ou usado?', 'Computador: Quantidade', 'Ao utilizar o ar-condicionado, mantenho portas e janelas fechadas, evitando assim a entrada de ar do ambiente externo:', 'Copa / cozinha: Horário de uso:', 'Vamos começar? No domicílio tem... Quantos microcomputadores, considerando computadores de mesa, laptops, notebooks e netbooks e desconsiderando tablets, palms ou smartphones?', 'Máquina de solda: Frequência de uso', 'No dia em que o Computador é utilizado, qual é o tempo de utilização? (somando todas às vezes em que utiliza ao longo do dia)', 'Ferro elétrico a seco: Horários de uso', 'Vamos começar? No domicílio tem... Quantos fornos de micro-ondas?', 'Televisores no domicílio', 'Videogame: Tempo de utilização (somando todas as vezes que utiliza ao longo do dia)', 'Refrigerador: Frequência de uso', 'Máquina de lavar louças: Quantidade', 'A água (do chuveiro, duchas ou torneiras) deste domicílio é aquecida por qual(is) fonte(s)?', 'Tipo de aparelho', 'Ventilador de teto: Frequência de uso', 'Modem para internet com função Roteador Wi-Fi (aparelho fornecido pela operadora no momento em que se contrata um plano de internet por assinatura): Quantidade', 'Fritadeira elétrica sem óleo: Frequência de uso', 'Secador de cabelo: Frequência de uso', 'Garagem: Total de lâmpadas por tipo:', 'Projetores (Iluminação de jardim): Quantidade', 'Modem para internet com função Roteador Wi-Fi (aparelho fornecido pela operadora no momento em que se contrata um plano de internet por assinatura): Tempo de utilização (somando todas as vezes que utiliza ao longo do dia)', 'Área Externa: Horário de uso:', 'Qual o tom da cor predominante das paredes externas da residência?', 'Aspirador de pó: Quantidade', 'Aparelho de som/ rádio (ligados na tomada quanto utilizados, desconsiderar rádios que funcionam somente com pilhas): Horários de uso', 'No dia em que o Ventilador ou Circulador de ar é utilizado, qual é o tempo de utilização? (somando todas às vezes em que utiliza ao longo do dia)', 'Panificadora (máquina de pão): Frequência de uso', 'Batedeira: Quantidade', 'CONTINUAR?', 'Quantos Chuveiros Elétricos?', 'Panificadora (máquina de pão): Quantidade', 'Conversor digital externo para TV aberta (aparelho que converte o sinal analógico em digital e conta com o auxílio da antena UHF): Quantidade', 'Furadeira: Frequência de uso', 'Receptor digital (aparelho que está associado diretamente à antenas parabólicas): Frequência de uso', 'O(A) sr.(a) mudaria seu sistema de aquecimento de água de banho, para gás?', 'Lava jato alta pressão (máquina): Tempo de utilização (somando todas as vezes que utiliza ao longo do dia)', 'Capacidade de armazenagem total', 'Frequência de uso em Maio:', 'Consumo mensal de energia elétrica do domicílio, em kWh, encontrado no histórico de consumos do domicílio. (Atenção: não é o valor em R$ da conta):', 'No dia em que o Ventilador de teto é utilizado, qual é o tempo de utilização? (somando todas às vezes em que utiliza ao longo do dia)', 'Tipo de domicílio:', 'No dia em que o Forno de micro-ondas é utilizado, qual é o tempo de utilização? (somando todas às vezes em que utiliza ao longo do dia)', 'A TV é desligada da tomada quando NÃO está em uso?', 'Este domicílio é exclusivamente residencial ou tem alguma atividade comercial ou industrial funcionando, seja de natureza formal ou informal? (por exemplo: funciona aqui uma pequena confecção, uma marcenaria, vocês fazem salgados e doces para festa. A', 'Qual é o grau de instrução do chefe da família? Considere como chefe da família a pessoa que contribui com a maior parte da renda do domicílio.', 'Espremedor de frutas: Quantidade', 'Triturador de lixo: Tempo de utilização (somando todas as vezes que utiliza ao longo do dia)', 'Sanduicheira elétrica (grill): Frequência de uso', 'Conversor digital externo para TV aberta (aparelho que converte o sinal analógico em digital e conta com o auxílio da antena UHF): Tempo de utilização (somando todas as vezes que utiliza ao longo do dia)', 'Outros: Total de lâmpadas por tipo:', 'No dia em que a Serra elétrica é utilizada, qual é o tempo de utilização? (somando todas às vezes em que utiliza ao longo do dia)', 'Qual é o material que predomina na cobertura (telhado) deste domicílio?', 'Evito banhos demorados utilizando o chuveiro elétrico:', 'O seu domicílio possui: Copa / cozinha', 'Banheiro (modo eventual): Total de lâmpadas por tipo:', 'Aquecedor de ambiente: Quantidade', 'Aparelho de som/ rádio (ligados na tomada quanto utilizados, desconsiderar rádios que funcionam somente com pilhas): Quantidade', 'Fogão elétrico (não é o acendedor do fogão a gás. O fogão elétrico também é conhecido como “Cooktop elétrico”. As panelas são colocadas sobre uma placa de vidro para aquecer): Quantidade', 'No dia em que a Panela elétrica é utilizada, qual é o tempo de utilização? (somando todas às vezes em que utiliza ao longo do dia)', 'Ferro elétrico a vapor (não usando vapor): Horários de uso', 'Máquina de solda: Tempo de utilização (somando todas as vezes que utiliza ao longo do dia)', 'Qual a temperatura mais utilizada na hora de ligar o ar-condicionado nesta residência?', 'Secadora de roupas centrífuga: Quantidade', \"Bomba d'água: Frequência de uso\", 'Fax: O equipamento é desligado da tomada quando NÃO está em uso?', 'Qual o tipo de apoio (reserva) do sistema de aquecimento solar da sua residência?', 'Elimino na rede elétrica da residência emendas mal feitas, fios ou cabos desencapados, ou com isolamento comprometido:', 'Impressora: Frequência de uso', 'Receptor digital (aparelho que está associado diretamente à antenas parabólicas): Quantidade', 'Vamos começar? No domicílio tem... Quantas motocicletas, desconsiderando as usadas exclusivamente para uso profissional?', 'Notebook: Horários de uso', 'Tablet: Frequência de uso', 'Telefone sem fio: Frequência de uso'}\n"
     ]
    }
   ],
   "source": [
    "questions_set =  set(df['desc_pergunta'].to_list())\n",
    "print(questions_set)"
   ]
  },
  {
   "cell_type": "code",
   "execution_count": 3,
   "id": "b5d799c6",
   "metadata": {},
   "outputs": [
    {
     "name": "stdout",
     "output_type": "stream",
     "text": [
      "18775\n"
     ]
    }
   ],
   "source": [
    "question_list_total = 'Fritadeira elétrica sem óleo: Quantidade'\n",
    "df_question_total = df.loc[df['desc_pergunta'] == question_list_total]\n",
    "print(len(df_question_total))"
   ]
  },
  {
   "cell_type": "code",
   "execution_count": 4,
   "id": "ea17f59d",
   "metadata": {},
   "outputs": [
    {
     "name": "stdout",
     "output_type": "stream",
     "text": [
      "1988:  0\n",
      "1997:  0\n",
      "2005:  0\n",
      "2019:  18775\n"
     ]
    }
   ],
   "source": [
    "df_question_total_1988 = df_question_total.loc[df_question_total['data_inicio'].str.contains(\"1988\")]\n",
    "df_question_total_1997 = df_question_total.loc[df_question_total['data_inicio'].str.contains(\"1997\")]\n",
    "df_question_total_2005 = df_question_total.loc[df_question_total['data_inicio'].str.contains(\"2005\")]\n",
    "df_question_total_2019 = df_question_total.loc[df_question_total['data_inicio'].str.contains(\"2019\")]\n",
    "\n",
    "print('1988: ', len(df_question_total_1988))\n",
    "print('1997: ', len(df_question_total_1997))\n",
    "print('2005: ', len(df_question_total_2005))\n",
    "print('2019: ', len(df_question_total_2019))"
   ]
  },
  {
   "cell_type": "code",
   "execution_count": 5,
   "id": "5a3e21c4",
   "metadata": {},
   "outputs": [
    {
     "name": "stdout",
     "output_type": "stream",
     "text": [
      "{0, 1, 2, 3, 4}\n",
      "{nan}\n"
     ]
    }
   ],
   "source": [
    "answer_list = df_question_total_2019['resposta'].to_list()\n",
    "paralel_a_list = df_question_total_2019['paralelo_a'].to_list()\n",
    "brazil_region_list = df_question_total_2019['desc_regiao'].to_list()\n",
    "answers_set_total_paralelo_a = set(answer_list)\n",
    "answers_set_total_resposta = set(paralel_a_list)\n",
    "print(answers_set_total_paralelo_a)\n",
    "print(answers_set_total_resposta)"
   ]
  },
  {
   "cell_type": "code",
   "execution_count": 7,
   "id": "87e17bce",
   "metadata": {},
   "outputs": [
    {
     "name": "stdout",
     "output_type": "stream",
     "text": [
      "{0: 3543, 1: 368, 2: 11, 3: 3}\n",
      "0.1\n",
      "{0: 0.9027, 1: 0.0938, 2: 0.0028, 3: 0.0008}\n",
      "0.09730000000000005\n"
     ]
    }
   ],
   "source": [
    "answers_dict = dict()\n",
    "total_equip = 0\n",
    "answers_count = 0\n",
    "for i in range(len(answer_list)):\n",
    "    region = brazil_region_list[i]\n",
    "    if region != 'SE':\n",
    "        continue\n",
    "    number_of_equip = answer_list[i]\n",
    "    total_equip += number_of_equip\n",
    "    if number_of_equip in answers_dict:\n",
    "        answers_dict[number_of_equip] += 1\n",
    "    else:\n",
    "        answers_dict[number_of_equip] = 1\n",
    "    answers_count += 1\n",
    "    \n",
    "print(answers_dict)\n",
    "percentage_dict = dict()\n",
    "\n",
    "for number_of_ref in answers_dict:\n",
    "    percentage_dict[number_of_ref] = round(answers_dict[number_of_ref] / answers_count, 4)\n",
    "\n",
    "print(round(total_equip / answers_count, 2))\n",
    "print(percentage_dict)\n",
    "print(1 - percentage_dict[0])"
   ]
  },
  {
   "cell_type": "code",
   "execution_count": null,
   "id": "70f32d90",
   "metadata": {},
   "outputs": [],
   "source": []
  }
 ],
 "metadata": {
  "kernelspec": {
   "display_name": "Python 3 (ipykernel)",
   "language": "python",
   "name": "python3"
  },
  "language_info": {
   "codemirror_mode": {
    "name": "ipython",
    "version": 3
   },
   "file_extension": ".py",
   "mimetype": "text/x-python",
   "name": "python",
   "nbconvert_exporter": "python",
   "pygments_lexer": "ipython3",
   "version": "3.10.6"
  }
 },
 "nbformat": 4,
 "nbformat_minor": 5
}
