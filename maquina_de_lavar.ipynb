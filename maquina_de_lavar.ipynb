{
 "cells": [
  {
   "cell_type": "code",
   "execution_count": 1,
   "id": "7a5b3dcf",
   "metadata": {},
   "outputs": [
    {
     "name": "stdout",
     "output_type": "stream",
     "text": [
      "Index(['id_regiao', 'id', 'cod_entrevista', 'data_inicio', 'data_fim',\n",
      "       'id_questionario', 'ID_HORARIO', 'ID_EQUIPAMENTO', 'ID_LAMPADA',\n",
      "       'ID_COMODO', 'id_alternativa', 'id_pergunta', 'id_resposta', 'loop',\n",
      "       'resposta', 'desc_pergunta', 'ORDEM', 'paralelo_p', 'cod_alternativa',\n",
      "       'alternativa', 'valores', 'paralelo_a', 'DESC_COMODO', 'DESC_LAMPADA',\n",
      "       'DESC_EQUIPAMENTO', 'DESC_HORARIO', 'desc_regiao', 'desc_uf',\n",
      "       'desc_municipio', 'ano_entrevista', 'cod_alternativa2'],\n",
      "      dtype='object')\n"
     ]
    }
   ],
   "source": [
    "import pandas as pd\n",
    "\n",
    "\n",
    "path = 'ANALISES/final.csv'\n",
    "\n",
    "df = pd.read_csv(path, sep=';', on_bad_lines='skip')\n",
    "\n",
    "print(df.columns)"
   ]
  },
  {
   "cell_type": "code",
   "execution_count": 2,
   "id": "7a18f215",
   "metadata": {},
   "outputs": [
    {
     "name": "stdout",
     "output_type": "stream",
     "text": [
      "{'Projetores (Iluminação de jardim): Tempo de utilização (somando todas as vezes que utiliza ao longo do dia)', 'No dia em que a Adega é utilizada, qual é o tempo de utilização? (somando todas às vezes em que utiliza ao longo do dia)', 'Aparelho de som/ rádio: Frequência de uso', 'Ventilador ou Circulador de ar: Horários de uso', 'Tablet: Frequência de uso', 'Secador de cabelo: Quantidade', 'Ferro elétrico a vapor (usando vapor): Horários de uso', 'No dia em que a Fritadeira elétrica com óleo é utilizada, qual é o tempo de utilização? (somando todas às vezes em que utiliza ao longo do dia)', 'O seu domicílio possui: Sala de estar, jantar, tv', 'Bebedouro / purificador / filtro: Quantidade', 'Tipo de operação', 'Aquecedor de água (chuveiro, torneira, boiler): Frequência de uso', 'Frequência de uso em Novembro:', 'Aquecedor de ambiente: Frequência de uso', 'Liquidificador: Quantidade', 'Ao comprar lâmpadas e eletrodomésticos, dou preferência pelos que consomem menos energia elétrica:', 'Máquina de lavar louças: O equipamento é desligado da tomada quando NÃO está em uso?', 'Refrigerador: Frequência de uso', 'Videogame: O equipamento é desligado da tomada quando NÃO está em uso?', 'A maioria das janelas da residência está voltada para qual orientação?', 'Ferro elétrico a vapor (não usando vapor): Tempo de utilização (somando todas as vezes que utiliza ao longo do dia)', 'Máquina de lavar louças: Quantidade', 'Panificadora (máquina de pão): Tempo de utilização (somando todas as vezes que utiliza ao longo do dia)', 'O seu domicílio possui: Á�rea de Serviço', 'Adega: Quantidade', 'A TV é desligada da tomada quando NÃO está em uso?', 'Copa / cozinha: Total de lâmpadas por tipo:', 'Ferro elétrico a vapor (não usando vapor): Horários de uso', 'Fonte de aquecimento', 'Batedeira: Frequência de uso', 'Portão Eletrônico: Tempo de utilização (somando todas as vezes que utiliza ao longo do dia)', 'Forno elétrico (não é o acendedor do fogão a gás. Também é conhecido como \\\\\\\\\"forninho\\\\\"\\\\\"): Horários de uso\"', 'No dia em que a Máquina de solda é utilizada, qual é o tempo de utilização? (somando todas às vezes em que utiliza ao longo do dia)', 'Notebook: O equipamento é desligado da tomada quando NÃO está em uso?', 'Horários de uso da máquina de lavar roupas', 'Horário de uso do condicionador de ar', 'Que tipo de proteção solar há nas janelas pelo lado de fora da residência?', 'Vamos começar? No domicílio tem... Quantos empregados mensalistas, considerando apenas os que trabalham pelo menos cinco dias por semana?', 'No dia em que a TV é utilizada, qual é o tempo de utilização? (somando todas às vezes em que utiliza ao longo do dia)', 'Panificadora (máquina de pão): Frequência de uso', 'De dentro de casa é possível ver diretamente o telhado?', 'Fogão elétrico (não é o acendedor do fogão a gás. O fogão elétrico também é conhecido como “Cooktop elétrico”. As panelas são colocadas sobre uma placa de vidro para aquecer): Frequência de uso', 'O seu domicílio possui: Banheiro, cuja lâmpada é ligada e desligada de modo eventual (ou seja, não existe um período regular em que a lâmpada é utilizada)', 'Aparelho de som/ rádio: O equipamento é desligado da tomada quando NÃO está em uso?', 'No dia em que o Multiprocessador é utilizado, qual é o tempo de utilização? (somando todas às vezes em que utiliza ao longo do dia)', 'No dia em que o Computador é utilizado, qual é o tempo de utilização? (somando todas às vezes em que utiliza ao longo do dia)', 'Vamos começar? No domicílio tem... Quantos banheiros?', 'Aparelho de som/ rádio (ligados na tomada quanto utilizados, desconsiderar rádios que funcionam somente com pilhas): Frequência de uso', 'Freezer no domicílio (independente)', 'Qual é o material que predomina na construção das paredes externas deste domicílio?', 'O(A) sr.(a) mudaria seu sistema de aquecimento de água de banho, para solar?', 'No dia em que o Aparelho de som/ rádio é utilizado, qual é o tempo de utilização? (somando todas às vezes em que utiliza ao longo do dia)', 'Impressora: Frequência de uso', 'Máq. de lavar roupa semiautomática (tanquinho): Frequência de uso', 'Procuro ligar a máquina de lavar só quando ela estiver com a capacidade máxima de roupas indicada pelo fabricante:', 'Forno elétrico (não é o acendedor do fogão a gás. Também é conhecido como \\\\\\\\\"forninho\\\\\"\\\\\"): Tempo de utilização (somando todas as vezes que utiliza ao longo do dia)\"', 'Frequência de uso em Janeiro:', 'Modem para internet com função Roteador Wi-Fi (aparelho fornecido pela operadora no momento em que se contrata um plano de internet por assinatura): Quantidade', 'Computador: Horários de uso', \"Bomba d'água: Quantidade\", 'No dia em que a Fritadeira elétrica sem óleo é utilizada, qual é o tempo de utilização? (somando todas às vezes em que utiliza ao longo do dia)', 'Dentre elas, quantas são:Acima de 65 anos', 'Furadeira: Quantidade', 'Projetores (Iluminação de jardim): Frequência de uso', 'No dia em que a Máq. de lavar roupa semiautomática (tanquinho) é utilizada, qual é o tempo de utilização? (somando todas às vezes em que utiliza ao longo do dia)', 'Tempo de utilização (somando todas as vezes que utiliza ao longo do dia)', 'Condicionadores de ar no domicílio', 'O seu domicílio possui: Corredores', 'Dentre elas, quantas são:Crianças até 10 anos', 'O seu domicílio possui: Varandas', 'Frequência de uso em Dezembro:', 'Conversor digital externo para TV aberta (aparelho que converte o sinal analógico em digital e conta com o auxílio da antena UHF): Tempo de utilização (somando todas as vezes que utiliza ao longo do dia)', 'Multiprocessador: Quantidade', 'DVD/Video/Blu-Ray: O equipamento é desligado da tomada quando NÃO está em uso?', 'Quantas pessoas nesta residência são:Moradores ocasionais, pessoas que tem outro local de residência e, por ocasião da pesquisa, encontra-se dormindo e/ou fazendo refeições no domicílio pesquisado (hóspede, convidado, veranista, etc.).', 'Qual é a área construída aproximada deste domicílio, em m2?', 'Qual(is) fonte(s) própria(s) de energia é(são) usada(s) neste domicílio para geração de energia elétrica?', 'Evito deixar os aparelhos elétricos em stand by (ligados na tomada):', 'Impressora: O equipamento é desligado da tomada quando NÃO está em uso?', 'Preciso registrar o consumo mensal de energia elétrica em seu domicílio, esta informação aparece em sua conta de energia elétrica. Você poderia me apresentar a conta?', 'Em que andar o apartamento está localizado?', 'Tablet: Quantidade', 'Ferro elétrico a seco: Horários de uso', 'Ventilador de teto: Tempo de utilização (somando todas as vezes que utiliza ao longo do dia)', 'Notebook: Tempo de utilização (somando todas as vezes que utiliza ao longo do dia)', 'Secadora de roupas centrífuga: Quantidade', 'Vamos começar? No domicílio tem... Quantos fornos de micro-ondas?', 'Fax: O equipamento é desligado da tomada quando NÃO está em uso?', 'Em qual(is) mês(es) do ano predomina o banho na temperatura máxima?', 'Qual(is) o(s) mês(es) o ar-condicionado é(são) utilizado(s) nesta residência? (em média)', 'Ferro elétrico a vapor (usando vapor): Frequência de uso', 'Adquiriu novo ou usado?', 'O seu domicílio possui: Quarto, cuja lâmpada é ligada e desligada de modo habitual (ou seja, frequentemente a lâmpada é utilizada no mesmo período ao longo do dia)', 'Aspirador de pó: Frequência de uso', 'Notebook: Frequência de uso', 'O(A) sr.(a) utilizaria um sistema de aquecimento solar para aquecer a água do seu banho?', 'Consumo mensal de energia elétrica do domicílio, em kWh, encontrado no histórico de consumos do domicílio. (Atenção: não é o valor em R$ da conta):', 'Quarto (modo habitual): Total de lâmpadas por tipo:', 'Quantas pessoas nesta residência são:Moradores habituais, pessoas que tem a unidade domiciliar como local de residência habitual no período da pesquisa.', 'Ebulidor: Quantidade', 'Vamos começar? No domicílio tem... Quantas máquinas secadoras de roupas, considerando lava e seca?', 'Videogame: Tempo de utilização (somando todas as vezes que utiliza ao longo do dia)', 'No dia em que o Modem (TV / Internet a cabo) é utilizado, qual é o tempo de utilização? (somando todas às vezes em que utiliza ao longo do dia)', 'No dia em que o Refrigerador é utilizado, qual é o tempo de utilização? (somando todas às vezes em que utiliza ao longo do dia)', 'Máquina de lavar louças: Horários de uso', 'Garagem: Horário de uso:', 'O(A) sr.(a) utilizaria um sistema de aquecimento a gás para aquecer a água do seu banho?', 'Dou preferência a lâmpadas de LED ou fluorescentes:', 'Triturador de lixo: Tempo de utilização (somando todas as vezes que utiliza ao longo do dia)', 'Ventilador ou Circulador de ar: O equipamento é desligado da tomada quando NÃO está em uso?', 'O equipamento é desligado da tomada quando NÃO está em uso?', 'Secadora de roupas centrífuga: Frequência de uso', 'Batedeira: Quantidade', 'Ferro elétrico: Frequência de uso', 'Bebedouro / purificador / filtro: O equipamento é desligado da tomada quando NÃO está em uso?', 'Apago sempre as lâmpadas dos ambientes desocupados:', 'Forno de micro-ondas: Frequência de uso', 'Telefone sem fio: Quanto tempo por dia você deixa o aparelho ligado na tomada para carregar a bateria?', 'Adega: O equipamento é desligado da tomada quando NÃO está em uso?', 'Forno elétrico (não é o acendedor do fogão a gás. Também é conhecido como \\\\\\\\\"forninho\\\\\"\\\\\"): Quantidade\"', 'Conversor digital externo para TV aberta (aparelho que converte o sinal analógico em digital e conta com o auxílio da antena UHF): O equipamento é desligado da tomada quando NÃO está em uso?', 'Panela elétrica: Frequência de uso', 'Potência máxima do aparelho', 'Máquina de costura: Quantidade', 'A máquina de lavar roupas é desligada da tomada quando NÃO está em uso?', 'No dia em que a Furadeira é utilizada, qual é o tempo de utilização? (somando todas às vezes em que utiliza ao longo do dia)', 'Secadora de roupas centrífuga: Tempo de utilização (somando todas as vezes que utiliza ao longo do dia)', 'Qual o tom da cor predominante das paredes externas da residência?', 'Varandas: Total de lâmpadas por tipo:', 'Multiprocessador: Frequência de uso', 'Qual a posição do controlador de temperatura mais utilizada na hora de ligar o ar-condicionado nesta residência?', 'Impressora: Quantidade', 'Máquina de solda: Quantidade', 'Fritadeira elétrica sem óleo: Frequência de uso', 'DVD/Video/Blu-Ray: Quantidade', 'Vamos começar? No domicílio tem... Quantos microcomputadores, considerando computadores de mesa, laptops, notebooks e netbooks e desconsiderando tablets, palms ou smartphones?', 'Fax: No dia em que o aparelho é utilizado, qual é o tempo de utilização?', 'Fritadeira elétrica com óleo: Quantidade', 'Tipo de aparelho:', 'Secadora de roupas (por aquecimento): Tempo de utilização (somando todas as vezes que utiliza ao longo do dia)', 'No dia em que a máquina de lavar roupas é utilizada, quantas lavagens são realizadas?', 'Máquina de solda: Frequência de uso', 'Aquecedor de ambiente: Tempo de utilização (somando todas as vezes que utiliza ao longo do dia)', 'Espremedor de frutas: Quantidade', 'Capacidade de armazenagem total', 'O seu domicílio possui: Quarto, cuja lâmpada é ligada e desligada de modo eventual (ou seja, não existe um período regular em que a lâmpada é utilizada)', 'Frequência de uso em Fevereiro:', 'Ventilador de teto: Quantidade', 'Máquina de Lavar Roupas', 'O micro-ondas é desligado da tomada quando NÃO está em uso?', 'No dia em que o Videogame é utilizado, qual é o tempo de utilização? (somando todas às vezes em que utiliza ao longo do dia)', 'Ferro elétrico a vapor (usando vapor): Quantidade', 'Triturador de lixo: Frequência de uso', 'Serra elétrica: Quantidade', 'Portão Eletrônico: Frequência de uso', 'Chapinha (prancha alisadora): Quantidade', 'Micro-ondas no domicílio', 'Tempo que possui este aparelho', 'Considerando o trecho da rua do seu domicílio, você diria que a rua é:', 'No dia em que a Chapinha (prancha alisadora) é utilizada, qual é o tempo de utilização? (somando todas às vezes em que utiliza ao longo do dia)', 'Televisores no domicílio', 'CONTINUAR?', 'Banheiro (modo habitual): Horário de uso:', 'Máquina de lavar louças: Tempo de utilização (somando todas as vezes que utiliza ao longo do dia)', 'Nunca utilizo a parte traseira da geladeira para secar panos ou roupas:', 'Forno elétrico (não é o acendedor do fogão a gás. Também é conhecido como \\\\\\\\\"forninho\\\\\"\\\\\"): O equipamento é desligado da tomada quando NÃO está em uso?\"', 'Elimino na rede elétrica da residência emendas mal feitas, fios ou cabos desencapados, ou com isolamento comprometido:', 'Enceradeira: Tempo de utilização (somando todas as vezes que utiliza ao longo do dia)', 'Qual(is) a(s) origem(ens) da energia elétrica utilizada(s) neste domicílio?', 'No dia em que o Secador de cabelo é utilizado, qual é o tempo de utilização? (somando todas às vezes em que utiliza ao longo do dia)', 'Vamos começar? No domicílio tem... Quantos freezers independentes ou parte da geladeira duplex?', 'Computador: O equipamento é desligado da tomada quando NÃO está em uso?', 'Desligo a TV quando ninguém está assistindo:', 'Fritadeira elétrica sem óleo: Tempo de utilização (somando todas as vezes que utiliza ao longo do dia)', 'Multiprocessador: Tempo de utilização (somando todas as vezes que utiliza ao longo do dia)', 'Máquina de costura: Tempo de utilização (somando todas as vezes que utiliza ao longo do dia)', 'Adega: Frequência de uso', 'Ventilador de teto: Horários de uso', 'Aquecedor de ambiente: O equipamento é desligado da tomada quando NÃO está em uso?', 'No dia em que o Celular é utilizado, qual é o tempo de utilização? (somando todas às vezes em que utiliza ao longo do dia)', 'Celular: Frequência de uso (do celular do entrevistado)', 'Panela elétrica: Tempo de utilização (somando todas as vezes que utiliza ao longo do dia)', 'O seu domicílio possui: Banheiro, cuja lâmpada é ligada e desligada de modo habitual (ou seja, frequentemente a lâmpada é utilizada no mesmo período ao longo do dia)', 'No dia em que o Telefone sem fio é utilizado, qual é o tempo de utilização? (somando todas às vezes em que utiliza ao longo do dia)', 'Modem (TV / Internet a cabo): Frequência de uso', 'Fax: Quantidade', 'Lava jato alta pressão (máquina): Quantidade', 'Panificadora (máquina de pão): Quantidade', 'Vamos começar? No domicílio tem... Quantas máquinas de lavar roupa, excluindo tanquinho?', 'Lava jato alta pressão (máquina): Frequência de uso', 'DVD/Video/Blu-Ray: Frequência de uso', 'Freezer: Frequência de uso', 'TV: Frequência de uso', 'Qual o tipo de apoio (reserva) do sistema de aquecimento solar da sua residência?', 'Mantenho a borracha de vedação da porta da geladeira em bom estado e troco a borracha quando percebo a necessidade:', 'Frequência de uso em Julho:', 'No dia em que a Cafeteira Elétrica é utilizada, qual é o tempo de utilização? (somando todas às vezes em que utiliza ao longo do dia)', 'Garagem: Total de lâmpadas por tipo:', 'Evito banhos demorados utilizando o chuveiro elétrico:', 'Tipo do aparelho', 'No dia em que o DVD/Video/Blu-Ray é utilizado, qual é o tempo de utilização? (somando todas às vezes em que utiliza ao longo do dia)', 'Secador de cabelo: Tempo de utilização (somando todas as vezes que utiliza ao longo do dia)', 'Aparelho de som/ rádio (ligados na tomada quanto utilizados, desconsiderar rádios que funcionam somente com pilhas): Tempo de utilização (somando todas as vezes que utiliza ao longo do dia)', 'Máquina de lavar louças: Frequência de uso', 'No dia em que o Liquidificador é utilizado, qual é o tempo de utilização? (somando todas às vezes em que utiliza ao longo do dia)', 'Ferro elétrico a vapor (não usando vapor): Quantidade', 'Uso a chave seletora na posição verão pois desta forma eu reduzo o consumo de energia do chuveiro elétrico:', 'No dia em que o Aspirador de pó é utilizado, qual é o tempo de utilização? (somando todas às vezes em que utiliza ao longo do dia)', 'Secadora de roupas (por aquecimento): O equipamento é desligado da tomada quando NÃO está em uso?', 'Telefone sem fio: O equipamento é desligado da tomada quando NÃO está em uso?', 'Modem para internet com função Roteador Wi-Fi (aparelho fornecido pela operadora no momento em que se contrata um plano de internet por assinatura): Tempo de utilização (somando todas as vezes que utiliza ao longo do dia)', 'Videogame: Frequência de uso', 'Faca elétrica: Tempo de utilização (somando todas as vezes que utiliza ao longo do dia)', 'Lava jato alta pressão (máquina): Tempo de utilização (somando todas as vezes que utiliza ao longo do dia)', 'No dia em que o Ventilador ou Circulador de ar é utilizado, qual é o tempo de utilização? (somando todas às vezes em que utiliza ao longo do dia)', 'No dia em que o No Break é utilizado, qual é o tempo de utilização? (somando todas às vezes em que utiliza ao longo do dia)', 'Cafeteira Elétrica: Tempo de utilização (somando todas as vezes que utiliza ao longo do dia)', 'Dentre elas, quantas são:Mais de 18 a 65 anos', 'Computador: Frequência de uso', 'Capacidade térmica (Btu/h)', 'Varandas: Horário de uso:', 'Fogão elétrico (não é o acendedor do fogão a gás. O fogão elétrico também é conhecido como “Cooktop elétrico”. As panelas são colocadas sobre uma placa de vidro para aquecer): Tempo de utilização (somando todas as vezes que utiliza ao longo do dia)', 'Área de Serviço: Horário de uso:', 'Secadora de roupas (por aquecimento): Horários de uso', 'No Break: O equipamento é desligado da tomada quando NÃO está em uso?', 'Quarto (modo habitual): Horário de uso:', 'Corredores: Horário de uso:', 'Tipo de domicílio:', 'Liquidificador: Frequência de uso', 'Refrigeradores no domicílio', 'Vamos começar? No domicílio tem... Quantas motocicletas, desconsiderando as usadas exclusivamente para uso profissional?', 'Horários de uso por período', 'Evito acender lâmpadas durante o dia, aproveito a luz natural:', 'Uso a temperatura do ferro de passar indicada para cada tipo de tecido e começo pelas mais leves:', 'Quarto (modo eventual): Total de lâmpadas por tipo:', 'Bebedouro / purificador / filtro: Tempo de utilização (somando todas as vezes que utiliza ao longo do dia)', 'No dia em que o Espremedor de frutas é utilizado, qual é o tempo de utilização? (somando todas às vezes em que utiliza ao longo do dia)', 'Enceradeira: Frequência de uso', 'Celular: Quantidade (deverá ser a soma de todos os aparelhos em uso na casa)', 'Conversor digital externo para TV aberta (aparelho que converte o sinal analógico em digital e conta com o auxílio da antena UHF): Quantidade', 'Frequência de uso em Abril:', 'O seu domicílio possui: Copa / cozinha', 'Na sua opinião qual seria a melhor forma de receber essas informações?', 'No Break: Quantidade', 'Panificadora (Máquina de pão): Frequência de uso', 'Receptor de TV por assinatura: Quantidade', 'Quantas pessoas nesta residência são:Empregados que dormem na residência, considerando apenas os que trabalham pelo menos cinco dias por semana.', 'Filtro de Piscina: Tempo de utilização (somando todas as vezes que utiliza ao longo do dia)', 'Condicionador de Ar: Frequência de uso', 'Não deixo a porta da geladeira/freezer aberta e evito abri-las várias vezes:', 'Horários de uso do aparelho de TV', 'Sanduicheira elétrica (grill): Frequência de uso', 'Qual é o material que predomina na cobertura (telhado) deste domicílio?', 'Filtro de Piscina: Quantidade', 'Celular: Frequência de uso', 'Roteador sem Fio (WI-FI) (aparelho de propriedade do morador, ou seja, que não pertence à operadora de internet): Frequência de uso', 'Área Externa: Total de lâmpadas por tipo:', 'Frequência de uso em Maio:', 'Portão Eletrônico: Quantidade', 'Roteador sem Fio (WI-FI) (aparelho de propriedade do morador, ou seja, que não pertence à operadora de internet): Tempo de utilização (somando todas as vezes que utiliza ao longo do dia)', 'Ferro elétrico a seco: Quantidade', 'Cafeteira Elétrica: O equipamento é desligado da tomada quando NÃO está em uso?', 'Quantos Chuveiros Elétricos?', 'Desligo o ferro de passar quando interrompo o serviço:', 'Cafeteira Elétrica: Frequência de uso', 'Copa / cozinha: Horário de uso:', 'Secador de cabelo: Frequência de uso', 'Vamos começar? No domicílio tem... Quantos automóveis de passeio exclusivamente para uso particular?', 'Vamos começar? No domicílio tem... Quantas geladeiras?', 'Mantenho o ar-condicionado sempre desligado quando estou fora do ambiente por muito tempo:', 'DVD/Video/Blu-Ray: Tempo de utilização (somando todas as vezes que utiliza ao longo do dia)', 'Fritadeira elétrica com óleo: Tempo de utilização (somando todas as vezes que utiliza ao longo do dia)', 'Ao utilizar o ar-condicionado, mantenho portas e janelas fechadas, evitando assim a entrada de ar do ambiente externo:', 'Quais são os equipamentos elétricos utilizados nesta(s) atividade(s)?', 'Notebook: Quantidade', 'No dia em que a Panificadora (máquina de pão) é utilizada, qual é o tempo de utilização? (somando todas às vezes em que utiliza ao longo do dia)', 'Lava jato alta pressão Máquina: Frequência de uso', 'Notebook: Horários de uso', 'Furadeira: Tempo de utilização (somando todas as vezes que utiliza ao longo do dia)', 'Tipo de aparelho', 'Ebulidor: Tempo de utilização (somando todas as vezes que utiliza ao longo do dia)', 'Frequência de uso em Junho:', 'Em qual(is) mês(es) do ano predomina o banho no modo completamente frio?', 'Espremedor de frutas: Frequência de uso', 'Forno elétrico (não é o acendedor do fogão a gás. Também é conhecido como \\\\\\\\\"forninho\\\\\"\\\\\"): Frequência de uso\"', 'A água (do chuveiro, duchas ou torneiras) deste domicílio é aquecida por qual(is) fonte(s)?', 'Aspirador de pó: Quantidade', 'Aparelho de som/ rádio (ligados na tomada quanto utilizados, desconsiderar rádios que funcionam somente com pilhas): Quantidade', 'Este domicílio é exclusivamente residencial ou tem alguma atividade comercial ou industrial funcionando, seja de natureza formal ou informal? (por exemplo: funciona aqui uma pequena confecção, uma marcenaria, vocês fazem salgados e doces para festa. A', 'No dia em que a Batedeira é utilizada, qual é o tempo de utilização? (somando todas às vezes em que utiliza ao longo do dia)', 'Você gostaria de receber?', 'Máq. de lavar roupa automática: Frequência de uso', 'Fogão elétrico (não é o acendedor do fogão a gás. O fogão elétrico também é conhecido como “Cooktop elétrico”. As panelas são colocadas sobre uma placa de vidro para aquecer): Quantidade', 'Adega: Tempo de utilização (somando todas as vezes que utiliza ao longo do dia)', 'Receptor digital (aparelho que está associado diretamente à antenas parabólicas): Quantidade', 'Máquina de costura: Frequência de uso', 'Serra elétrica: Tempo de utilização (somando todas as vezes que utiliza ao longo do dia)', 'No dia em que o Ferro elétrico é utilizado, qual é o tempo de utilização? (somando todas às vezes em que utiliza ao longo do dia)', 'Computador: Quantidade', 'Adega: Horários de uso', 'Frequência de uso em Agosto:', 'No dia em que a Máquina de costura é utilizada, qual é o tempo de utilização? (somando todas às vezes em que utiliza ao longo do dia)', 'No dia em que a Secadora de roupas (por aquecimento) é utilizada, qual é o tempo de utilização? (somando todas às vezes em que utiliza ao longo do dia)', 'Ferro elétrico a seco: Tempo de utilização (somando todas as vezes que utiliza ao longo do dia)', 'Frequência de uso em Setembro:', 'O(A) sr.(a) realiza limpeza periódica das placas solares?', 'Vamos começar? No domicílio tem... Quantos DVD, incluindo qualquer dispositivo que leia DVD e desconsiderando DVD de automóvel?', 'Telefone sem fio: Frequência de uso', 'O(A) sr.(a) conhece ou já ouviu falar de aquecedor solar de água para o banho?', 'Chuveiros no domicílio? (independente de ter ou não água aquecida)', 'Ventilador de teto: Frequência de uso', 'No dia em que o Roteador sem Fio (WI-FI) é utilizado, qual é o tempo de utilização? (somando todas às vezes em que utiliza ao longo do dia)', 'O(A) sr.(a) mudaria seu sistema de aquecimento de água de banho, para gás?', 'Máquina de solda: Tempo de utilização (somando todas as vezes que utiliza ao longo do dia)', 'No dia em que o Notebook é utilizado, qual é o tempo de utilização? (somando todas às vezes em que utiliza ao longo do dia)', 'Modem para internet com função Roteador Wi-Fi (aparelho fornecido pela operadora no momento em que se contrata um plano de internet por assinatura): O equipamento é desligado da tomada quando NÃO está em uso?', 'CLASSE SOCIAL:', 'Bebedouro / purificador / filtro: Frequência de uso', 'No dia em que o Freezer é utilizado, qual é o tempo de utilização? (somando todas às vezes em que utiliza ao longo do dia)', 'Em qual(is) mês(es) do ano predomina o banho na temperatura intermediária?', 'Bebedouro / purificador / filtro: Horários de uso', 'Frequência de uso em Março:', 'Roteador sem Fio (WI-FI) (aparelho de propriedade do morador, ou seja, que não pertence à operadora de internet): O equipamento é desligado da tomada quando NÃO está em uso?', 'Faca elétrica: Quantidade', 'Receptor digital (aparelho que está associado diretamente à antenas parabólicas): Frequência de uso', \"Bomba d'água: Tempo de utilização (somando todas as vezes que utiliza ao longo do dia)\", 'Impressora: Tempo de utilização (somando todas as vezes que utiliza ao longo do dia)', 'Receptor de TV por assinatura: Tempo de utilização (somando todas as vezes que utiliza ao longo do dia)', 'Chapinha (prancha alisadora): Tempo de utilização (somando todas as vezes que utiliza ao longo do dia)', 'No dia em que o Bebedouro / purificador / filtro é utilizado, qual é o tempo de utilização? (somando todas às vezes em que utiliza ao longo do dia)', 'Qual é o grau de instrução do chefe da família? Considere como chefe da família a pessoa que contribui com a maior parte da renda do domicílio.', 'No dia em que a Serra elétrica é utilizada, qual é o tempo de utilização? (somando todas às vezes em que utiliza ao longo do dia)', 'Projetores (Iluminação de jardim): Quantidade', 'No Break: Frequência de uso', 'Ebulidor: Frequência de uso', 'Modem para internet com função Roteador Wi-Fi (aparelho fornecido pela operadora no momento em que se contrata um plano de internet por assinatura): Frequência de uso', 'Celular: Em seu domicílio, quanto tempo por dia você deixa o aparelho ligado na tomada para carregar a bateria? (neste caso, desconsiderar o tempo em que carrega a bateria no trabalho, escola, ou outros locais)', \"Bomba d'água: Frequência de uso\", 'No dia em que a Panela elétrica é utilizada, qual é o tempo de utilização? (somando todas às vezes em que utiliza ao longo do dia)', 'No dia em que o Tablet é utilizado, qual é o tempo de utilização? (somando todas às vezes em que utiliza ao longo do dia)', 'Banheiro (modo eventual): Total de lâmpadas por tipo:', 'Ferro elétrico a seco: Frequência de uso', 'Sanduicheira elétrica (grill): Quantidade', 'No dia em que a Portão Eletrônico é utilizada, qual é o tempo de utilização? (somando todas às vezes em que utiliza ao longo do dia)', 'Sala de estar, jantar, tv: Horário de uso:', 'Conversor digital externo para TV aberta (aparelho que converte o sinal analógico em digital e conta com o auxílio da antena UHF): Frequência de uso', 'O(a) sr.(a) limpa periodicamente o filtro do condicionador de ar?', 'Chapinha (prancha alisadora): Frequência de uso', 'O seu domicílio possui: Outros', 'Faca elétrica: Frequência de uso', 'Ventilador ou Circulador de ar: Quantidade', 'A água utilizada neste domicílio é proveniente de?', 'Tipo de tela', 'Sala de estar, jantar, tv: Total de lâmpadas por tipo:', 'Corredores: Total de lâmpadas por tipo:', 'Secadora de roupas (por aquecimento): Quantidade', 'Qual a temperatura mais utilizada na hora de ligar o ar-condicionado nesta residência?', 'Sanduicheira elétrica (grill): Tempo de utilização (somando todas as vezes que utiliza ao longo do dia)', 'Tamanho (polegadas)', 'No Break: Tempo de utilização (somando todas as vezes que utiliza ao longo do dia)', 'Enceradeira: Quantidade', 'Computador: Tempo de utilização (somando todas as vezes que utiliza ao longo do dia)', 'Videogame: Quantidade', 'Liquidificador: Tempo de utilização (somando todas as vezes que utiliza ao longo do dia)', 'Qual o tempo médio de duração do banho?', 'Cafeteira Elétrica: Quantidade', 'Roteador sem Fio (WI-FI): Frequência de uso', 'Receptor de TV por assinatura: Frequência de uso', 'Fritadeira elétrica sem óleo: Quantidade', 'O seu domicílio possui: Garagem', 'De dentro de casa, o teto é inclinado?', 'Dentre elas, quantas são:Adolescentes de 11 a 18 anos', 'Aquecedor de ambiente: Quantidade', 'Triturador de lixo: Quantidade', 'Não guardo alimentos quentes e nem sem tampas na geladeira:', 'Receptor digital (aparelho que está associado diretamente à antenas parabólicas): O equipamento é desligado da tomada quando NÃO está em uso?', 'Furadeira: Frequência de uso', 'No dia em que a Sanduicheira elétrica (grill) é utilizada, qual é o tempo de utilização? (somando todas às vezes em que utiliza ao longo do dia)', 'Outros: Total de lâmpadas por tipo:', 'Banheiro (modo habitual): Total de lâmpadas por tipo:', 'Ventilador ou Circulador de ar: Frequência de uso', 'Receptor digital (aparelho que está associado diretamente à antenas parabólicas): Tempo de utilização (somando todas as vezes que utiliza ao longo do dia)', 'No dia em que a Impressora é utilizada, qual é o tempo de utilização? (somando todas às vezes em que utiliza ao longo do dia)', 'No dia em que o Condicionador de Ar é utilizado, qual é o tempo de utilização? (somando todas às vezes em que utiliza ao longo do dia)', 'Área Externa: Horário de uso:', 'Regulo o termostato da geladeira em função das estações (inverno, verão, outono/primavera):', 'Quantas vezes por dia o chuveiro é utilizado?', 'Videogame: Horários de uso', 'Receptor de TV por assinatura: O equipamento é desligado da tomada quando NÃO está em uso?', 'Frequência de uso', 'Panela elétrica: Quantidade', 'Tablet: Quanto tempo por dia você deixa o aparelho ligado na tomada para carregar a bateria?', 'Na residência há janelas em mais de uma parede externa? (exemplo: janelas na parede da frente e dos fundos ao mesmo tempo, ou parede da frente e lateral ao mesmo tempo, etc.)', 'Batedeira: Tempo de utilização (somando todas as vezes que utiliza ao longo do dia)', 'No dia em que o Ventilador de teto é utilizado, qual é o tempo de utilização? (somando todas às vezes em que utiliza ao longo do dia)', 'Outros: Horário de uso:', 'Aspirador de pó: Tempo de utilização (somando todas as vezes que utiliza ao longo do dia)', 'Secadora de roupas centrífuga: Horários de uso', 'Ferro elétrico a vapor (usando vapor): Tempo de utilização (somando todas as vezes que utiliza ao longo do dia)', 'No dia em que a Máq. de lavar roupa automática é utilizada, qual é o tempo de utilização? (somando todas às vezes em que utiliza ao longo do dia)', 'Área de Serviço: Total de lâmpadas por tipo:', 'No dia em que o Aquecedor de água (chuveiro, torneira, boiler) é utilizado, qual é o tempo de utilização? (somando todas às vezes em que utiliza ao longo do dia)', 'Ferro elétrico a vapor (não usando vapor): Frequência de uso', 'Filtro de Piscina: Frequência de uso', 'Serra elétrica: Frequência de uso', 'No dia em que o Forno de micro-ondas é utilizado, qual é o tempo de utilização? (somando todas às vezes em que utiliza ao longo do dia)', 'Roteador sem Fio (WI-FI) (aparelho de propriedade do morador, ou seja, que não pertence à operadora de internet): Quantidade', 'Ventilador ou Circulador de ar: Tempo de utilização (somando todas as vezes que utiliza ao longo do dia)', 'Quantas pessoas nesta residência são:Empregados que NÃO dormem na residência, considerando apenas os que trabalham pelo menos cinco dias por semana.', 'Fritadeira elétrica com óleo: Frequência de uso', 'Acumulo o maior número de peças de roupa para ligar o ferro o mínimo de vezes possível:', 'Frequência de uso em Outubro:', 'Secadora de roupas centrífuga: O equipamento é desligado da tomada quando NÃO está em uso?', 'Vamos começar? No domicílio tem... Quantas lavadora de louças?', 'Secadora de roupas (por aquecimento): Frequência de uso', 'O seu domicílio possui: Á�rea Externa', 'Telefone sem fio: Quantidade', 'Aquecedor de ambiente: Horários de uso', 'Espremedor de frutas: Tempo de utilização (somando todas as vezes que utiliza ao longo do dia)', 'O(A) sr.(a) conhece ou já ouviu falar de aquecedor de água à gás para o banho?', 'Fax: Frequência de uso', 'O(A) sr.(a) recebe informações sobre como economizar energia?', 'Controlador de temperatura', 'Por qual meio você recebe essas informações?', 'Aparelho de som/ rádio (ligados na tomada quanto utilizados, desconsiderar rádios que funcionam somente com pilhas): Horários de uso'}\n"
     ]
    }
   ],
   "source": [
    "questions_set =  set(df['desc_pergunta'].to_list())\n",
    "print(questions_set)"
   ]
  },
  {
   "cell_type": "code",
   "execution_count": 22,
   "id": "c97d152e",
   "metadata": {},
   "outputs": [
    {
     "name": "stdout",
     "output_type": "stream",
     "text": [
      "40461\n"
     ]
    }
   ],
   "source": [
    "question_list_total = 'Máquina de Lavar Roupas'\n",
    "df_question_total = df.loc[df['desc_pergunta'] == question_list_total]\n",
    "print(len(df_question_total))"
   ]
  },
  {
   "cell_type": "code",
   "execution_count": 23,
   "id": "0fd872d0",
   "metadata": {},
   "outputs": [
    {
     "name": "stdout",
     "output_type": "stream",
     "text": [
      "1988:  0\n",
      "1997:  17376\n",
      "2005:  4310\n",
      "2019:  18775\n"
     ]
    }
   ],
   "source": [
    "df_question_total_1988 = df_question_total.loc[df_question_total['data_inicio'].str.contains(\"1988\")]\n",
    "df_question_total_1997 = df_question_total.loc[df_question_total['data_inicio'].str.contains(\"1997\")]\n",
    "df_question_total_2005 = df_question_total.loc[df_question_total['data_inicio'].str.contains(\"2005\")]\n",
    "df_question_total_2019 = df_question_total.loc[df_question_total['data_inicio'].str.contains(\"2019\")]\n",
    "\n",
    "print('1988: ', len(df_question_total_1988))\n",
    "print('1997: ', len(df_question_total_1997))\n",
    "print('2005: ', len(df_question_total_2005))\n",
    "print('2019: ', len(df_question_total_2019))"
   ]
  },
  {
   "cell_type": "code",
   "execution_count": 64,
   "id": "685ad944",
   "metadata": {},
   "outputs": [
    {
     "name": "stdout",
     "output_type": "stream",
     "text": [
      "{0, 1, 2, 3, 4}\n",
      "{'Quantidade:'}\n"
     ]
    }
   ],
   "source": [
    "answer_list = df_question_total_2019['resposta'].to_list()\n",
    "paralel_a_list = df_question_total_2019['paralelo_a'].to_list()\n",
    "brazil_region_list = df_question_total_2019['desc_regiao'].to_list()\n",
    "answers_set_total_paralelo_a = set(answer_list)\n",
    "answers_set_total_resposta = set(paralel_a_list)\n",
    "print(answers_set_total_paralelo_a)\n",
    "print(answers_set_total_resposta)"
   ]
  },
  {
   "cell_type": "code",
   "execution_count": 69,
   "id": "c198412a",
   "metadata": {
    "scrolled": true
   },
   "outputs": [
    {
     "name": "stdout",
     "output_type": "stream",
     "text": [
      "{1: 2744, 0: 1596, 2: 32, 3: 3}\n",
      "0.64\n",
      "{1: 0.6272, 0: 0.3648, 2: 0.0073, 3: 0.0007}\n",
      "0.6352\n"
     ]
    }
   ],
   "source": [
    "answers_dict = dict()\n",
    "total_equip = 0\n",
    "answers_count = 0\n",
    "for i in range(len(answer_list)):\n",
    "    region = brazil_region_list[i]\n",
    "    if region != 'NO':\n",
    "        continue\n",
    "    number_of_equip = answer_list[i]\n",
    "    total_equip += number_of_equip\n",
    "    if number_of_equip in answers_dict:\n",
    "        answers_dict[number_of_equip] += 1\n",
    "    else:\n",
    "        answers_dict[number_of_equip] = 1\n",
    "    answers_count += 1\n",
    "    \n",
    "print(answers_dict)\n",
    "percentage_dict = dict()\n",
    "\n",
    "for number_of_ref in answers_dict:\n",
    "    percentage_dict[number_of_ref] = round(answers_dict[number_of_ref] / answers_count, 4)\n",
    "\n",
    "print(round(total_equip / answers_count, 2))\n",
    "print(percentage_dict)\n",
    "print(1 - percentage_dict[0])"
   ]
  },
  {
   "cell_type": "code",
   "execution_count": null,
   "id": "5b710480",
   "metadata": {},
   "outputs": [],
   "source": []
  },
  {
   "cell_type": "code",
   "execution_count": null,
   "id": "ed0e4f29",
   "metadata": {},
   "outputs": [],
   "source": []
  }
 ],
 "metadata": {
  "kernelspec": {
   "display_name": "Python 3 (ipykernel)",
   "language": "python",
   "name": "python3"
  },
  "language_info": {
   "codemirror_mode": {
    "name": "ipython",
    "version": 3
   },
   "file_extension": ".py",
   "mimetype": "text/x-python",
   "name": "python",
   "nbconvert_exporter": "python",
   "pygments_lexer": "ipython3",
   "version": "3.10.6"
  }
 },
 "nbformat": 4,
 "nbformat_minor": 5
}
