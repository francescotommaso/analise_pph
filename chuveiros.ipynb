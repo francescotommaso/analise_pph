{
 "cells": [
  {
   "cell_type": "code",
   "execution_count": 4,
   "id": "e174a56e",
   "metadata": {},
   "outputs": [
    {
     "name": "stdout",
     "output_type": "stream",
     "text": [
      "<bound method NDFrame.head of          id_regiao     id  cod_entrevista              data_inicio   \n",
      "0                1  35449         35449.0  1997-01-01 00:00:00.000  \\\n",
      "1                1  35449         35449.0  1997-01-01 00:00:00.000   \n",
      "2                1  35463         35463.0  1997-01-01 00:00:00.000   \n",
      "3                1  35463         35463.0  1997-01-01 00:00:00.000   \n",
      "4                1  11148         66066.0  2019-01-01 00:00:00.000   \n",
      "...            ...    ...             ...                      ...   \n",
      "5987788        411  48352         48352.0  2005-01-01 00:00:00.000   \n",
      "5987789        411  48847         48847.0  2005-01-01 00:00:00.000   \n",
      "5987790        411  47579         47579.0  2005-01-01 00:00:00.000   \n",
      "5987791        411  48352         48352.0  2005-01-01 00:00:00.000   \n",
      "5987792        411  48352         48352.0  2005-01-01 00:00:00.000   \n",
      "\n",
      "                        data_fim  id_questionario  ID_HORARIO  ID_EQUIPAMENTO   \n",
      "0        1997-01-01 23:59:59.000                3         NaN             NaN  \\\n",
      "1        1997-01-01 23:59:59.000                3        10.0            45.0   \n",
      "2        1997-01-01 23:59:59.000                3         NaN            29.0   \n",
      "3        1997-01-01 23:59:59.000                3         NaN            14.0   \n",
      "4        2019-01-01 00:00:00.000                1         NaN            37.0   \n",
      "...                          ...              ...         ...             ...   \n",
      "5987788  2005-01-01 23:59:59.000                2         NaN            28.0   \n",
      "5987789  2005-01-01 23:59:59.000                2         NaN            66.0   \n",
      "5987790  2005-01-01 23:59:59.000                2         NaN             NaN   \n",
      "5987791  2005-01-01 23:59:59.000                2         NaN             NaN   \n",
      "5987792  2005-01-01 23:59:59.000                2         NaN             NaN   \n",
      "\n",
      "         ID_LAMPADA  ID_COMODO  ...                           paralelo_a   \n",
      "0               NaN        NaN  ...                                  NaN  \\\n",
      "1               NaN        NaN  ...                       Habitual 10:00   \n",
      "2               NaN        NaN  ...                                  NaN   \n",
      "3               NaN        NaN  ...                                 Anos   \n",
      "4               NaN        NaN  ...  Intensa - de 6 a 7 vezes por semana   \n",
      "...             ...        ...  ...                                  ...   \n",
      "5987788         NaN        NaN  ...                                  NaN   \n",
      "5987789         NaN        NaN  ...                          Quantidade:   \n",
      "5987790         NaN        NaN  ...                                  NaN   \n",
      "5987791         NaN        NaN  ...                                  Sim   \n",
      "5987792         NaN        NaN  ...                                  NaN   \n",
      "\n",
      "         DESC_COMODO  DESC_LAMPADA                DESC_EQUIPAMENTO   \n",
      "0                NaN           NaN                             NaN  \\\n",
      "1                NaN           NaN                              TV   \n",
      "2                NaN           NaN  VENTILADOR OU CIRCULADOR DE AR   \n",
      "3                NaN           NaN                     MICRO-ONDAS   \n",
      "4                NaN           NaN      MODEM (TV/INTERNET A CABO)   \n",
      "...              ...           ...                             ...   \n",
      "5987788          NaN           NaN              VENTILADOR DE TETO   \n",
      "5987789          NaN           NaN         MÁQUINA DE LAVAR ROUPAS   \n",
      "5987790          NaN           NaN                             NaN   \n",
      "5987791          NaN           NaN                             NaN   \n",
      "5987792          NaN           NaN                             NaN   \n",
      "\n",
      "         DESC_HORARIO desc_regiao desc_uf desc_municipio ano_entrevista   \n",
      "0                 NaN          CO      GO       Anápolis           1997  \\\n",
      "1               10:00          CO      GO       Anápolis           1997   \n",
      "2                 NaN          CO      GO       Anápolis           1997   \n",
      "3                 NaN          CO      GO       Anápolis           1997   \n",
      "4                 NaN          CO      GO       Anápolis           2019   \n",
      "...               ...         ...     ...            ...            ...   \n",
      "5987788           NaN          SE      SP       Orlandia           2005   \n",
      "5987789           NaN          SE      SP       Orlandia           2005   \n",
      "5987790           NaN          SE      SP       Orlandia           2005   \n",
      "5987791           NaN          SE      SP       Orlandia           2005   \n",
      "5987792           NaN          SE      SP       Orlandia           2005   \n",
      "\n",
      "                            cod_alternativa2  \n",
      "0                                          1  \n",
      "1                             Habitual 10:00  \n",
      "2                                          1  \n",
      "3                                       Anos  \n",
      "4        Intensa - de 6 a 7 vezes por semana  \n",
      "...                                      ...  \n",
      "5987788                                    0  \n",
      "5987789                          Quantidade:  \n",
      "5987790                                    0  \n",
      "5987791                                  Sim  \n",
      "5987792                                    0  \n",
      "\n",
      "[5987793 rows x 31 columns]>\n",
      "Index(['id_regiao', 'id', 'cod_entrevista', 'data_inicio', 'data_fim',\n",
      "       'id_questionario', 'ID_HORARIO', 'ID_EQUIPAMENTO', 'ID_LAMPADA',\n",
      "       'ID_COMODO', 'id_alternativa', 'id_pergunta', 'id_resposta', 'loop',\n",
      "       'resposta', 'desc_pergunta', 'ORDEM', 'paralelo_p', 'cod_alternativa',\n",
      "       'alternativa', 'valores', 'paralelo_a', 'DESC_COMODO', 'DESC_LAMPADA',\n",
      "       'DESC_EQUIPAMENTO', 'DESC_HORARIO', 'desc_regiao', 'desc_uf',\n",
      "       'desc_municipio', 'ano_entrevista', 'cod_alternativa2'],\n",
      "      dtype='object')\n"
     ]
    }
   ],
   "source": [
    "import pandas as pd\n",
    "\n",
    "\n",
    "path = 'ANALISES/final.csv'\n",
    "\n",
    "df = pd.read_csv(path, sep=';', on_bad_lines='skip')\n",
    "\n",
    "print(df.head)\n",
    "\n",
    "print(df.columns)"
   ]
  },
  {
   "cell_type": "code",
   "execution_count": 6,
   "id": "29255f74",
   "metadata": {},
   "outputs": [
    {
     "name": "stdout",
     "output_type": "stream",
     "text": [
      "{'Panificadora (máquina de pão): Quantidade', 'O seu domicílio possui: Á�rea Externa', 'Roteador sem Fio (WI-FI) (aparelho de propriedade do morador, ou seja, que não pertence à operadora de internet): Tempo de utilização (somando todas as vezes que utiliza ao longo do dia)', 'Máq. de lavar roupa semiautomática (tanquinho): Frequência de uso', 'Forno de micro-ondas: Frequência de uso', 'Videogame: O equipamento é desligado da tomada quando NÃO está em uso?', 'Você gostaria de receber?', 'Aparelho de som/ rádio: Frequência de uso', 'No dia em que a Máq. de lavar roupa semiautomática (tanquinho) é utilizada, qual é o tempo de utilização? (somando todas às vezes em que utiliza ao longo do dia)', \"Bomba d'água: Frequência de uso\", 'Refrigeradores no domicílio', 'Área de Serviço: Horário de uso:', 'O seu domicílio possui: Quarto, cuja lâmpada é ligada e desligada de modo habitual (ou seja, frequentemente a lâmpada é utilizada no mesmo período ao longo do dia)', 'Condicionador de Ar: Frequência de uso', 'Videogame: Horários de uso', 'Celular: Frequência de uso (do celular do entrevistado)', 'Modem para internet com função Roteador Wi-Fi (aparelho fornecido pela operadora no momento em que se contrata um plano de internet por assinatura): Quantidade', 'Fax: Quantidade', 'Panificadora (Máquina de pão): Frequência de uso', 'Tipo de aparelho:', 'Telefone sem fio: O equipamento é desligado da tomada quando NÃO está em uso?', 'No dia em que o Ventilador ou Circulador de ar é utilizado, qual é o tempo de utilização? (somando todas às vezes em que utiliza ao longo do dia)', 'O(A) sr.(a) realiza limpeza periódica das placas solares?', 'Notebook: O equipamento é desligado da tomada quando NÃO está em uso?', 'TV: Frequência de uso', 'Máquina de Lavar Roupas', 'Dou preferência a lâmpadas de LED ou fluorescentes:', 'Aspirador de pó: Tempo de utilização (somando todas as vezes que utiliza ao longo do dia)', 'Horários de uso da máquina de lavar roupas', 'Frequência de uso em Outubro:', 'Forno elétrico (não é o acendedor do fogão a gás. Também é conhecido como \\\\\\\\\"forninho\\\\\"\\\\\"): Tempo de utilização (somando todas as vezes que utiliza ao longo do dia)\"', 'No dia em que o Espremedor de frutas é utilizado, qual é o tempo de utilização? (somando todas às vezes em que utiliza ao longo do dia)', 'Frequência de uso em Fevereiro:', 'Horário de uso do condicionador de ar', 'Horários de uso do aparelho de TV', 'Máquina de solda: Frequência de uso', 'Condicionadores de ar no domicílio', 'Computador: Frequência de uso', 'Ferro elétrico a vapor (não usando vapor): Horários de uso', 'Na sua opinião qual seria a melhor forma de receber essas informações?', 'No dia em que o Ferro elétrico é utilizado, qual é o tempo de utilização? (somando todas às vezes em que utiliza ao longo do dia)', 'Impressora: Frequência de uso', 'No dia em que o Secador de cabelo é utilizado, qual é o tempo de utilização? (somando todas às vezes em que utiliza ao longo do dia)', 'No dia em que o No Break é utilizado, qual é o tempo de utilização? (somando todas às vezes em que utiliza ao longo do dia)', 'Regulo o termostato da geladeira em função das estações (inverno, verão, outono/primavera):', 'Quantas pessoas nesta residência são:Empregados que dormem na residência, considerando apenas os que trabalham pelo menos cinco dias por semana.', 'Cafeteira Elétrica: Tempo de utilização (somando todas as vezes que utiliza ao longo do dia)', 'Frequência de uso em Setembro:', 'Área Externa: Horário de uso:', 'Qual(is) o(s) mês(es) o ar-condicionado é(são) utilizado(s) nesta residência? (em média)', 'Faca elétrica: Quantidade', 'Ventilador ou Circulador de ar: Tempo de utilização (somando todas as vezes que utiliza ao longo do dia)', 'Espremedor de frutas: Frequência de uso', 'Ebulidor: Tempo de utilização (somando todas as vezes que utiliza ao longo do dia)', 'No dia em que a Fritadeira elétrica sem óleo é utilizada, qual é o tempo de utilização? (somando todas às vezes em que utiliza ao longo do dia)', 'Máquina de costura: Tempo de utilização (somando todas as vezes que utiliza ao longo do dia)', 'Dentre elas, quantas são:Crianças até 10 anos', 'DVD/Video/Blu-Ray: Tempo de utilização (somando todas as vezes que utiliza ao longo do dia)', 'Qual é a área construída aproximada deste domicílio, em m2?', 'DVD/Video/Blu-Ray: Frequência de uso', 'Frequência de uso em Novembro:', 'Quantas pessoas nesta residência são:Empregados que NÃO dormem na residência, considerando apenas os que trabalham pelo menos cinco dias por semana.', 'Aparelho de som/ rádio (ligados na tomada quanto utilizados, desconsiderar rádios que funcionam somente com pilhas): Frequência de uso', 'Panela elétrica: Tempo de utilização (somando todas as vezes que utiliza ao longo do dia)', 'Por qual meio você recebe essas informações?', 'No dia em que a Serra elétrica é utilizada, qual é o tempo de utilização? (somando todas às vezes em que utiliza ao longo do dia)', 'Fogão elétrico (não é o acendedor do fogão a gás. O fogão elétrico também é conhecido como “Cooktop elétrico”. As panelas são colocadas sobre uma placa de vidro para aquecer): Quantidade', 'O seu domicílio possui: Banheiro, cuja lâmpada é ligada e desligada de modo eventual (ou seja, não existe um período regular em que a lâmpada é utilizada)', 'Garagem: Horário de uso:', 'O seu domicílio possui: Quarto, cuja lâmpada é ligada e desligada de modo eventual (ou seja, não existe um período regular em que a lâmpada é utilizada)', 'O seu domicílio possui: Outros', 'No dia em que o Aquecedor de água (chuveiro, torneira, boiler) é utilizado, qual é o tempo de utilização? (somando todas às vezes em que utiliza ao longo do dia)', 'Ferro elétrico: Frequência de uso', 'Sala de estar, jantar, tv: Horário de uso:', 'Tablet: Quantidade', 'Televisores no domicílio', 'Computador: Horários de uso', 'Enceradeira: Frequência de uso', 'No dia em que a Chapinha (prancha alisadora) é utilizada, qual é o tempo de utilização? (somando todas às vezes em que utiliza ao longo do dia)', 'O(A) sr.(a) utilizaria um sistema de aquecimento solar para aquecer a água do seu banho?', 'Fax: No dia em que o aparelho é utilizado, qual é o tempo de utilização?', 'Chapinha (prancha alisadora): Tempo de utilização (somando todas as vezes que utiliza ao longo do dia)', 'Máquina de lavar louças: O equipamento é desligado da tomada quando NÃO está em uso?', 'Qual(is) fonte(s) própria(s) de energia é(são) usada(s) neste domicílio para geração de energia elétrica?', 'No Break: Quantidade', 'No dia em que o Tablet é utilizado, qual é o tempo de utilização? (somando todas às vezes em que utiliza ao longo do dia)', 'No dia em que a Máquina de costura é utilizada, qual é o tempo de utilização? (somando todas às vezes em que utiliza ao longo do dia)', 'Modem para internet com função Roteador Wi-Fi (aparelho fornecido pela operadora no momento em que se contrata um plano de internet por assinatura): Frequência de uso', 'Panificadora (máquina de pão): Frequência de uso', 'Capacidade de armazenagem total', 'Conversor digital externo para TV aberta (aparelho que converte o sinal analógico em digital e conta com o auxílio da antena UHF): O equipamento é desligado da tomada quando NÃO está em uso?', 'Ventilador de teto: Frequência de uso', 'Quarto (modo habitual): Horário de uso:', 'Uso a temperatura do ferro de passar indicada para cada tipo de tecido e começo pelas mais leves:', 'Máquina de lavar louças: Horários de uso', 'No dia em que o Celular é utilizado, qual é o tempo de utilização? (somando todas às vezes em que utiliza ao longo do dia)', 'Projetores (Iluminação de jardim): Tempo de utilização (somando todas as vezes que utiliza ao longo do dia)', 'Dentre elas, quantas são:Adolescentes de 11 a 18 anos', 'Telefone sem fio: Quanto tempo por dia você deixa o aparelho ligado na tomada para carregar a bateria?', 'Ventilador de teto: Quantidade', 'O seu domicílio possui: Banheiro, cuja lâmpada é ligada e desligada de modo habitual (ou seja, frequentemente a lâmpada é utilizada no mesmo período ao longo do dia)', 'Secadora de roupas centrífuga: Horários de uso', 'Garagem: Total de lâmpadas por tipo:', 'Celular: Frequência de uso', 'No dia em que a Máq. de lavar roupa automática é utilizada, qual é o tempo de utilização? (somando todas às vezes em que utiliza ao longo do dia)', 'Máquina de lavar louças: Quantidade', 'Aparelho de som/ rádio (ligados na tomada quanto utilizados, desconsiderar rádios que funcionam somente com pilhas): Tempo de utilização (somando todas as vezes que utiliza ao longo do dia)', 'Telefone sem fio: Quantidade', 'No dia em que o Condicionador de Ar é utilizado, qual é o tempo de utilização? (somando todas às vezes em que utiliza ao longo do dia)', 'CLASSE SOCIAL:', 'Quarto (modo eventual): Total de lâmpadas por tipo:', 'No dia em que a Furadeira é utilizada, qual é o tempo de utilização? (somando todas às vezes em que utiliza ao longo do dia)', 'Área Externa: Total de lâmpadas por tipo:', 'Lava jato alta pressão (máquina): Quantidade', 'Liquidificador: Frequência de uso', 'Qual o tipo de apoio (reserva) do sistema de aquecimento solar da sua residência?', 'Freezer: Frequência de uso', 'Vamos começar? No domicílio tem... Quantas geladeiras?', 'Frequência de uso', 'Tablet: Quanto tempo por dia você deixa o aparelho ligado na tomada para carregar a bateria?', 'O seu domicílio possui: Copa / cozinha', 'Máquina de lavar louças: Tempo de utilização (somando todas as vezes que utiliza ao longo do dia)', 'Aquecedor de ambiente: Quantidade', 'Vamos começar? No domicílio tem... Quantos DVD, incluindo qualquer dispositivo que leia DVD e desconsiderando DVD de automóvel?', 'Secadora de roupas (por aquecimento): Quantidade', 'Filtro de Piscina: Quantidade', 'Qual(is) a(s) origem(ens) da energia elétrica utilizada(s) neste domicílio?', 'Impressora: Quantidade', 'Área de Serviço: Total de lâmpadas por tipo:', 'Videogame: Tempo de utilização (somando todas as vezes que utiliza ao longo do dia)', 'No dia em que o Videogame é utilizado, qual é o tempo de utilização? (somando todas às vezes em que utiliza ao longo do dia)', 'Frequência de uso em Dezembro:', 'No dia em que a TV é utilizada, qual é o tempo de utilização? (somando todas às vezes em que utiliza ao longo do dia)', 'Cafeteira Elétrica: Frequência de uso', 'Dentre elas, quantas são:Acima de 65 anos', 'Batedeira: Tempo de utilização (somando todas as vezes que utiliza ao longo do dia)', 'Roteador sem Fio (WI-FI) (aparelho de propriedade do morador, ou seja, que não pertence à operadora de internet): Frequência de uso', 'Controlador de temperatura', 'Máquina de lavar louças: Frequência de uso', 'Qual a posição do controlador de temperatura mais utilizada na hora de ligar o ar-condicionado nesta residência?', 'No dia em que a Panificadora (máquina de pão) é utilizada, qual é o tempo de utilização? (somando todas às vezes em que utiliza ao longo do dia)', 'Ferro elétrico a vapor (usando vapor): Frequência de uso', 'Secadora de roupas centrífuga: Frequência de uso', 'Triturador de lixo: Tempo de utilização (somando todas as vezes que utiliza ao longo do dia)', 'Enceradeira: Quantidade', 'Procuro ligar a máquina de lavar só quando ela estiver com a capacidade máxima de roupas indicada pelo fabricante:', 'Frequência de uso em Julho:', 'Tipo de tela', 'Bebedouro / purificador / filtro: Frequência de uso', 'Triturador de lixo: Frequência de uso', 'Impressora: O equipamento é desligado da tomada quando NÃO está em uso?', 'Chuveiros no domicílio? (independente de ter ou não água aquecida)', 'Notebook: Quantidade', 'Corredores: Total de lâmpadas por tipo:', 'Aquecedor de ambiente: Frequência de uso', 'O seu domicílio possui: Garagem', 'No dia em que a Fritadeira elétrica com óleo é utilizada, qual é o tempo de utilização? (somando todas às vezes em que utiliza ao longo do dia)', 'Sala de estar, jantar, tv: Total de lâmpadas por tipo:', 'Secador de cabelo: Quantidade', 'Fritadeira elétrica sem óleo: Frequência de uso', 'Secadora de roupas centrífuga: Tempo de utilização (somando todas as vezes que utiliza ao longo do dia)', 'Lava jato alta pressão (máquina): Tempo de utilização (somando todas as vezes que utiliza ao longo do dia)', 'No dia em que o Liquidificador é utilizado, qual é o tempo de utilização? (somando todas às vezes em que utiliza ao longo do dia)', 'No dia em que o Aspirador de pó é utilizado, qual é o tempo de utilização? (somando todas às vezes em que utiliza ao longo do dia)', 'Evito deixar os aparelhos elétricos em stand by (ligados na tomada):', 'No dia em que a Secadora de roupas (por aquecimento) é utilizada, qual é o tempo de utilização? (somando todas às vezes em que utiliza ao longo do dia)', 'Ao utilizar o ar-condicionado, mantenho portas e janelas fechadas, evitando assim a entrada de ar do ambiente externo:', 'Ventilador ou Circulador de ar: Quantidade', 'Tamanho (polegadas)', 'Chapinha (prancha alisadora): Quantidade', 'Tipo de operação', 'A água (do chuveiro, duchas ou torneiras) deste domicílio é aquecida por qual(is) fonte(s)?', 'Serra elétrica: Tempo de utilização (somando todas as vezes que utiliza ao longo do dia)', 'Aquecedor de ambiente: Horários de uso', 'O equipamento é desligado da tomada quando NÃO está em uso?', 'O seu domicílio possui: Corredores', 'Máquina de solda: Tempo de utilização (somando todas as vezes que utiliza ao longo do dia)', 'Portão Eletrônico: Tempo de utilização (somando todas as vezes que utiliza ao longo do dia)', 'Receptor de TV por assinatura: Frequência de uso', 'No dia em que a Batedeira é utilizada, qual é o tempo de utilização? (somando todas às vezes em que utiliza ao longo do dia)', 'Este domicílio é exclusivamente residencial ou tem alguma atividade comercial ou industrial funcionando, seja de natureza formal ou informal? (por exemplo: funciona aqui uma pequena confecção, uma marcenaria, vocês fazem salgados e doces para festa. A', 'No dia em que o Telefone sem fio é utilizado, qual é o tempo de utilização? (somando todas às vezes em que utiliza ao longo do dia)', 'Vamos começar? No domicílio tem... Quantos freezers independentes ou parte da geladeira duplex?', 'Sanduicheira elétrica (grill): Quantidade', 'A máquina de lavar roupas é desligada da tomada quando NÃO está em uso?', 'No dia em que o Modem (TV / Internet a cabo) é utilizado, qual é o tempo de utilização? (somando todas às vezes em que utiliza ao longo do dia)', 'No dia em que a máquina de lavar roupas é utilizada, quantas lavagens são realizadas?', 'O(A) sr.(a) utilizaria um sistema de aquecimento a gás para aquecer a água do seu banho?', 'Fonte de aquecimento', 'Bebedouro / purificador / filtro: Tempo de utilização (somando todas as vezes que utiliza ao longo do dia)', 'Modem para internet com função Roteador Wi-Fi (aparelho fornecido pela operadora no momento em que se contrata um plano de internet por assinatura): O equipamento é desligado da tomada quando NÃO está em uso?', 'Impressora: Tempo de utilização (somando todas as vezes que utiliza ao longo do dia)', 'Computador: Tempo de utilização (somando todas as vezes que utiliza ao longo do dia)', 'Conversor digital externo para TV aberta (aparelho que converte o sinal analógico em digital e conta com o auxílio da antena UHF): Frequência de uso', 'Multiprocessador: Quantidade', 'Secador de cabelo: Tempo de utilização (somando todas as vezes que utiliza ao longo do dia)', 'Aparelho de som/ rádio (ligados na tomada quanto utilizados, desconsiderar rádios que funcionam somente com pilhas): Horários de uso', 'Forno elétrico (não é o acendedor do fogão a gás. Também é conhecido como \\\\\\\\\"forninho\\\\\"\\\\\"): Horários de uso\"', 'Ferro elétrico a seco: Tempo de utilização (somando todas as vezes que utiliza ao longo do dia)', 'Preciso registrar o consumo mensal de energia elétrica em seu domicílio, esta informação aparece em sua conta de energia elétrica. Você poderia me apresentar a conta?', 'Ebulidor: Frequência de uso', 'A maioria das janelas da residência está voltada para qual orientação?', 'Batedeira: Frequência de uso', 'Conversor digital externo para TV aberta (aparelho que converte o sinal analógico em digital e conta com o auxílio da antena UHF): Tempo de utilização (somando todas as vezes que utiliza ao longo do dia)', 'Espremedor de frutas: Tempo de utilização (somando todas as vezes que utiliza ao longo do dia)', 'Ferro elétrico a vapor (usando vapor): Quantidade', 'Panificadora (máquina de pão): Tempo de utilização (somando todas as vezes que utiliza ao longo do dia)', 'Micro-ondas no domicílio', 'Modem (TV / Internet a cabo): Frequência de uso', 'Forno elétrico (não é o acendedor do fogão a gás. Também é conhecido como \\\\\\\\\"forninho\\\\\"\\\\\"): Quantidade\"', 'No dia em que o Multiprocessador é utilizado, qual é o tempo de utilização? (somando todas às vezes em que utiliza ao longo do dia)', 'No dia em que o Aparelho de som/ rádio é utilizado, qual é o tempo de utilização? (somando todas às vezes em que utiliza ao longo do dia)', 'Tempo que possui este aparelho', 'DVD/Video/Blu-Ray: Quantidade', 'O(a) sr.(a) limpa periodicamente o filtro do condicionador de ar?', 'Receptor digital (aparelho que está associado diretamente à antenas parabólicas): Tempo de utilização (somando todas as vezes que utiliza ao longo do dia)', 'Quantas vezes por dia o chuveiro é utilizado?', 'Aspirador de pó: Quantidade', 'Filtro de Piscina: Tempo de utilização (somando todas as vezes que utiliza ao longo do dia)', 'Tablet: Frequência de uso', 'No dia em que a Adega é utilizada, qual é o tempo de utilização? (somando todas às vezes em que utiliza ao longo do dia)', 'Quantas pessoas nesta residência são:Moradores habituais, pessoas que tem a unidade domiciliar como local de residência habitual no período da pesquisa.', 'Mantenho a borracha de vedação da porta da geladeira em bom estado e troco a borracha quando percebo a necessidade:', 'Frequência de uso em Agosto:', 'No dia em que o Freezer é utilizado, qual é o tempo de utilização? (somando todas às vezes em que utiliza ao longo do dia)', 'Não guardo alimentos quentes e nem sem tampas na geladeira:', 'Copa / cozinha: Total de lâmpadas por tipo:', 'Sanduicheira elétrica (grill): Tempo de utilização (somando todas as vezes que utiliza ao longo do dia)', 'Secador de cabelo: Frequência de uso', 'Máquina de costura: Quantidade', 'Receptor de TV por assinatura: Quantidade', 'Receptor digital (aparelho que está associado diretamente à antenas parabólicas): Frequência de uso', 'Celular: Quantidade (deverá ser a soma de todos os aparelhos em uso na casa)', 'Furadeira: Frequência de uso', 'Fritadeira elétrica com óleo: Quantidade', 'Varandas: Total de lâmpadas por tipo:', 'Potência máxima do aparelho', 'Aparelho de som/ rádio (ligados na tomada quanto utilizados, desconsiderar rádios que funcionam somente com pilhas): Quantidade', 'Computador: Quantidade', 'Roteador sem Fio (WI-FI) (aparelho de propriedade do morador, ou seja, que não pertence à operadora de internet): O equipamento é desligado da tomada quando NÃO está em uso?', 'Em qual(is) mês(es) do ano predomina o banho na temperatura intermediária?', 'Ferro elétrico a vapor (não usando vapor): Quantidade', 'Panela elétrica: Frequência de uso', 'Quais são os equipamentos elétricos utilizados nesta(s) atividade(s)?', 'Secadora de roupas (por aquecimento): Horários de uso', 'Receptor digital (aparelho que está associado diretamente à antenas parabólicas): Quantidade', 'Ventilador ou Circulador de ar: Frequência de uso', 'Triturador de lixo: Quantidade', 'Cafeteira Elétrica: O equipamento é desligado da tomada quando NÃO está em uso?', 'Ventilador ou Circulador de ar: Horários de uso', 'Desligo o ferro de passar quando interrompo o serviço:', 'Qual o tempo médio de duração do banho?', 'Ventilador ou Circulador de ar: O equipamento é desligado da tomada quando NÃO está em uso?', 'Fax: Frequência de uso', 'Batedeira: Quantidade', 'Serra elétrica: Frequência de uso', 'Desligo a TV quando ninguém está assistindo:', 'O micro-ondas é desligado da tomada quando NÃO está em uso?', 'Secadora de roupas (por aquecimento): Tempo de utilização (somando todas as vezes que utiliza ao longo do dia)', 'Bebedouro / purificador / filtro: O equipamento é desligado da tomada quando NÃO está em uso?', 'Filtro de Piscina: Frequência de uso', 'Secadora de roupas centrífuga: Quantidade', 'Qual é o grau de instrução do chefe da família? Considere como chefe da família a pessoa que contribui com a maior parte da renda do domicílio.', 'Na residência há janelas em mais de uma parede externa? (exemplo: janelas na parede da frente e dos fundos ao mesmo tempo, ou parede da frente e lateral ao mesmo tempo, etc.)', 'Frequência de uso em Janeiro:', 'Multiprocessador: Frequência de uso', 'Ferro elétrico a seco: Frequência de uso', 'No Break: O equipamento é desligado da tomada quando NÃO está em uso?', 'Fax: O equipamento é desligado da tomada quando NÃO está em uso?', 'Ventilador de teto: Horários de uso', 'Cafeteira Elétrica: Quantidade', 'Fritadeira elétrica sem óleo: Quantidade', 'Nunca utilizo a parte traseira da geladeira para secar panos ou roupas:', 'Roteador sem Fio (WI-FI) (aparelho de propriedade do morador, ou seja, que não pertence à operadora de internet): Quantidade', 'Telefone sem fio: Frequência de uso', 'No dia em que o Roteador sem Fio (WI-FI) é utilizado, qual é o tempo de utilização? (somando todas às vezes em que utiliza ao longo do dia)', 'Notebook: Tempo de utilização (somando todas as vezes que utiliza ao longo do dia)', 'Máq. de lavar roupa automática: Frequência de uso', 'A TV é desligada da tomada quando NÃO está em uso?', 'Evito banhos demorados utilizando o chuveiro elétrico:', 'Ferro elétrico a vapor (não usando vapor): Frequência de uso', 'Roteador sem Fio (WI-FI): Frequência de uso', 'DVD/Video/Blu-Ray: O equipamento é desligado da tomada quando NÃO está em uso?', 'Furadeira: Tempo de utilização (somando todas as vezes que utiliza ao longo do dia)', 'Tipo de domicílio:', 'Quantos Chuveiros Elétricos?', 'Forno elétrico (não é o acendedor do fogão a gás. Também é conhecido como \\\\\\\\\"forninho\\\\\"\\\\\"): O equipamento é desligado da tomada quando NÃO está em uso?\"', 'Horários de uso por período', 'Vamos começar? No domicílio tem... Quantas máquinas de lavar roupa, excluindo tanquinho?', 'Não deixo a porta da geladeira/freezer aberta e evito abri-las várias vezes:', 'Videogame: Frequência de uso', 'Fritadeira elétrica com óleo: Tempo de utilização (somando todas as vezes que utiliza ao longo do dia)', 'Espremedor de frutas: Quantidade', 'O(A) sr.(a) mudaria seu sistema de aquecimento de água de banho, para solar?', 'Lava jato alta pressão (máquina): Frequência de uso', 'Aquecedor de ambiente: O equipamento é desligado da tomada quando NÃO está em uso?', 'Chapinha (prancha alisadora): Frequência de uso', 'Frequência de uso em Junho:', 'No dia em que o Bebedouro / purificador / filtro é utilizado, qual é o tempo de utilização? (somando todas às vezes em que utiliza ao longo do dia)', 'Fritadeira elétrica com óleo: Frequência de uso', 'Ebulidor: Quantidade', 'Modem para internet com função Roteador Wi-Fi (aparelho fornecido pela operadora no momento em que se contrata um plano de internet por assinatura): Tempo de utilização (somando todas as vezes que utiliza ao longo do dia)', 'Bebedouro / purificador / filtro: Quantidade', 'Liquidificador: Tempo de utilização (somando todas as vezes que utiliza ao longo do dia)', \"Bomba d'água: Tempo de utilização (somando todas as vezes que utiliza ao longo do dia)\", 'Frequência de uso em Maio:', 'No dia em que o Ventilador de teto é utilizado, qual é o tempo de utilização? (somando todas às vezes em que utiliza ao longo do dia)', 'Fritadeira elétrica sem óleo: Tempo de utilização (somando todas as vezes que utiliza ao longo do dia)', 'Tipo de aparelho', 'De dentro de casa, o teto é inclinado?', 'Portão Eletrônico: Quantidade', 'Adega: Frequência de uso', 'Uso a chave seletora na posição verão pois desta forma eu reduzo o consumo de energia do chuveiro elétrico:', 'Frequência de uso em Março:', 'Vamos começar? No domicílio tem... Quantos fornos de micro-ondas?', 'Adega: Tempo de utilização (somando todas as vezes que utiliza ao longo do dia)', 'A água utilizada neste domicílio é proveniente de?', 'Evito acender lâmpadas durante o dia, aproveito a luz natural:', 'Forno elétrico (não é o acendedor do fogão a gás. Também é conhecido como \\\\\\\\\"forninho\\\\\"\\\\\"): Frequência de uso\"', 'Ventilador de teto: Tempo de utilização (somando todas as vezes que utiliza ao longo do dia)', 'Ferro elétrico a seco: Quantidade', 'Aspirador de pó: Frequência de uso', 'Outros: Total de lâmpadas por tipo:', 'Ferro elétrico a vapor (usando vapor): Horários de uso', 'No dia em que a Impressora é utilizada, qual é o tempo de utilização? (somando todas às vezes em que utiliza ao longo do dia)', 'Receptor de TV por assinatura: O equipamento é desligado da tomada quando NÃO está em uso?', 'Banheiro (modo eventual): Total de lâmpadas por tipo:', 'Portão Eletrônico: Frequência de uso', 'Secadora de roupas (por aquecimento): O equipamento é desligado da tomada quando NÃO está em uso?', 'Vamos começar? No domicílio tem... Quantos automóveis de passeio exclusivamente para uso particular?', 'Multiprocessador: Tempo de utilização (somando todas as vezes que utiliza ao longo do dia)', 'Projetores (Iluminação de jardim): Frequência de uso', 'Outros: Horário de uso:', 'Qual é o material que predomina na construção das paredes externas deste domicílio?', 'Máquina de costura: Frequência de uso', 'Adega: O equipamento é desligado da tomada quando NÃO está em uso?', 'Videogame: Quantidade', 'Enceradeira: Tempo de utilização (somando todas as vezes que utiliza ao longo do dia)', 'No dia em que o Notebook é utilizado, qual é o tempo de utilização? (somando todas às vezes em que utiliza ao longo do dia)', 'Secadora de roupas centrífuga: O equipamento é desligado da tomada quando NÃO está em uso?', 'No dia em que o Refrigerador é utilizado, qual é o tempo de utilização? (somando todas às vezes em que utiliza ao longo do dia)', 'Banheiro (modo habitual): Total de lâmpadas por tipo:', 'No dia em que o Computador é utilizado, qual é o tempo de utilização? (somando todas às vezes em que utiliza ao longo do dia)', 'Bebedouro / purificador / filtro: Horários de uso', 'No Break: Frequência de uso', 'Apago sempre as lâmpadas dos ambientes desocupados:', 'Banheiro (modo habitual): Horário de uso:', 'No dia em que a Sanduicheira elétrica (grill) é utilizada, qual é o tempo de utilização? (somando todas às vezes em que utiliza ao longo do dia)', 'O(A) sr.(a) recebe informações sobre como economizar energia?', 'No dia em que a Panela elétrica é utilizada, qual é o tempo de utilização? (somando todas às vezes em que utiliza ao longo do dia)', 'Aparelho de som/ rádio: O equipamento é desligado da tomada quando NÃO está em uso?', 'Vamos começar? No domicílio tem... Quantas lavadora de louças?', 'Elimino na rede elétrica da residência emendas mal feitas, fios ou cabos desencapados, ou com isolamento comprometido:', 'Mantenho o ar-condicionado sempre desligado quando estou fora do ambiente por muito tempo:', 'Ferro elétrico a vapor (usando vapor): Tempo de utilização (somando todas as vezes que utiliza ao longo do dia)', 'Sanduicheira elétrica (grill): Frequência de uso', 'Serra elétrica: Quantidade', 'No dia em que a Portão Eletrônico é utilizada, qual é o tempo de utilização? (somando todas às vezes em que utiliza ao longo do dia)', 'Aquecedor de ambiente: Tempo de utilização (somando todas as vezes que utiliza ao longo do dia)', 'Refrigerador: Frequência de uso', 'O(A) sr.(a) conhece ou já ouviu falar de aquecedor de água à gás para o banho?', 'Tempo de utilização (somando todas as vezes que utiliza ao longo do dia)', 'Tipo do aparelho', 'Fogão elétrico (não é o acendedor do fogão a gás. O fogão elétrico também é conhecido como “Cooktop elétrico”. As panelas são colocadas sobre uma placa de vidro para aquecer): Frequência de uso', 'Em qual(is) mês(es) do ano predomina o banho na temperatura máxima?', 'Celular: Em seu domicílio, quanto tempo por dia você deixa o aparelho ligado na tomada para carregar a bateria? (neste caso, desconsiderar o tempo em que carrega a bateria no trabalho, escola, ou outros locais)', 'No dia em que o DVD/Video/Blu-Ray é utilizado, qual é o tempo de utilização? (somando todas às vezes em que utiliza ao longo do dia)', 'Copa / cozinha: Horário de uso:', 'Notebook: Horários de uso', 'Faca elétrica: Tempo de utilização (somando todas as vezes que utiliza ao longo do dia)', 'CONTINUAR?', 'Capacidade térmica (Btu/h)', 'Computador: O equipamento é desligado da tomada quando NÃO está em uso?', 'Panela elétrica: Quantidade', 'Aquecedor de água (chuveiro, torneira, boiler): Frequência de uso', 'Ferro elétrico a vapor (não usando vapor): Tempo de utilização (somando todas as vezes que utiliza ao longo do dia)', 'No Break: Tempo de utilização (somando todas as vezes que utiliza ao longo do dia)', 'Vamos começar? No domicílio tem... Quantas motocicletas, desconsiderando as usadas exclusivamente para uso profissional?', 'Secadora de roupas (por aquecimento): Frequência de uso', 'Lava jato alta pressão Máquina: Frequência de uso', 'Quantas pessoas nesta residência são:Moradores ocasionais, pessoas que tem outro local de residência e, por ocasião da pesquisa, encontra-se dormindo e/ou fazendo refeições no domicílio pesquisado (hóspede, convidado, veranista, etc.).', 'Receptor digital (aparelho que está associado diretamente à antenas parabólicas): O equipamento é desligado da tomada quando NÃO está em uso?', 'Em qual(is) mês(es) do ano predomina o banho no modo completamente frio?', 'Acumulo o maior número de peças de roupa para ligar o ferro o mínimo de vezes possível:', 'Qual é o material que predomina na cobertura (telhado) deste domicílio?', 'Conversor digital externo para TV aberta (aparelho que converte o sinal analógico em digital e conta com o auxílio da antena UHF): Quantidade', 'Adquiriu novo ou usado?', 'Frequência de uso em Abril:', 'O seu domicílio possui: Varandas', 'Furadeira: Quantidade', 'No dia em que a Cafeteira Elétrica é utilizada, qual é o tempo de utilização? (somando todas às vezes em que utiliza ao longo do dia)', 'Fogão elétrico (não é o acendedor do fogão a gás. O fogão elétrico também é conhecido como “Cooktop elétrico”. As panelas são colocadas sobre uma placa de vidro para aquecer): Tempo de utilização (somando todas as vezes que utiliza ao longo do dia)', 'Em que andar o apartamento está localizado?', 'Corredores: Horário de uso:', 'Ao comprar lâmpadas e eletrodomésticos, dou preferência pelos que consomem menos energia elétrica:', 'Notebook: Frequência de uso', 'Que tipo de proteção solar há nas janelas pelo lado de fora da residência?', 'No dia em que o Forno de micro-ondas é utilizado, qual é o tempo de utilização? (somando todas às vezes em que utiliza ao longo do dia)', 'Varandas: Horário de uso:', 'Qual o tom da cor predominante das paredes externas da residência?', 'Liquidificador: Quantidade', 'No dia em que a Máquina de solda é utilizada, qual é o tempo de utilização? (somando todas às vezes em que utiliza ao longo do dia)', 'Qual a temperatura mais utilizada na hora de ligar o ar-condicionado nesta residência?', 'O seu domicílio possui: Sala de estar, jantar, tv', 'O(A) sr.(a) mudaria seu sistema de aquecimento de água de banho, para gás?', 'Freezer no domicílio (independente)', 'Ferro elétrico a seco: Horários de uso', 'Receptor de TV por assinatura: Tempo de utilização (somando todas as vezes que utiliza ao longo do dia)', 'O(A) sr.(a) conhece ou já ouviu falar de aquecedor solar de água para o banho?', 'Vamos começar? No domicílio tem... Quantos banheiros?', 'Dentre elas, quantas são:Mais de 18 a 65 anos', 'Faca elétrica: Frequência de uso', 'Vamos começar? No domicílio tem... Quantas máquinas secadoras de roupas, considerando lava e seca?', 'Adega: Quantidade', 'Vamos começar? No domicílio tem... Quantos empregados mensalistas, considerando apenas os que trabalham pelo menos cinco dias por semana?', 'O seu domicílio possui: Á�rea de Serviço', 'Consumo mensal de energia elétrica do domicílio, em kWh, encontrado no histórico de consumos do domicílio. (Atenção: não é o valor em R$ da conta):', \"Bomba d'água: Quantidade\", 'Projetores (Iluminação de jardim): Quantidade', 'Quarto (modo habitual): Total de lâmpadas por tipo:', 'Vamos começar? No domicílio tem... Quantos microcomputadores, considerando computadores de mesa, laptops, notebooks e netbooks e desconsiderando tablets, palms ou smartphones?', 'Adega: Horários de uso', 'Máquina de solda: Quantidade', 'De dentro de casa é possível ver diretamente o telhado?', 'Considerando o trecho da rua do seu domicílio, você diria que a rua é:'}\n"
     ]
    }
   ],
   "source": [
    "questions_set =  set(df['desc_pergunta'].to_list())\n",
    "print(questions_set)"
   ]
  },
  {
   "cell_type": "code",
   "execution_count": 7,
   "id": "7df0ea48",
   "metadata": {},
   "outputs": [
    {
     "name": "stdout",
     "output_type": "stream",
     "text": [
      "23085\n"
     ]
    }
   ],
   "source": [
    "question_to_filter = 'Chuveiros no domicílio? (independente de ter ou não água aquecida)'\n",
    "df_question = df.loc[df['desc_pergunta'] == question_to_filter]\n",
    "print(len(df_question))"
   ]
  },
  {
   "cell_type": "code",
   "execution_count": 11,
   "id": "b4a14f79",
   "metadata": {},
   "outputs": [
    {
     "name": "stdout",
     "output_type": "stream",
     "text": [
      "1988:  0\n",
      "1997:  0\n",
      "2005:  4310\n",
      "2019:  18775\n"
     ]
    }
   ],
   "source": [
    "df_question_1988 = df_question.loc[df_question['data_inicio'].str.contains(\"1988\")]\n",
    "df_question_1997 = df_question.loc[df_question['data_inicio'].str.contains(\"1997\")]\n",
    "df_question_2005 = df_question.loc[df_question['data_inicio'].str.contains(\"2005\")]\n",
    "df_question_2019 = df_question.loc[df_question['data_inicio'].str.contains(\"2019\")]\n",
    "\n",
    "print('1988: ', len(df_question_1988))\n",
    "print('1997: ', len(df_question_1997))\n",
    "print('2005: ', len(df_question_2005))\n",
    "print('2019: ', len(df_question_2019))"
   ]
  },
  {
   "cell_type": "code",
   "execution_count": 12,
   "id": "758a62da",
   "metadata": {},
   "outputs": [
    {
     "name": "stdout",
     "output_type": "stream",
     "text": [
      "{1, 2, 3, 4, 5, 6}\n"
     ]
    }
   ],
   "source": [
    "answers_set_2005 = set(df_question_2005['resposta'].to_list())\n",
    "print(answers_set_2005)"
   ]
  },
  {
   "cell_type": "code",
   "execution_count": 13,
   "id": "93eb9e1d",
   "metadata": {},
   "outputs": [],
   "source": [
    "df_question_2005.to_csv('ANALISES/chuveiros_qtde_2005.csv')"
   ]
  },
  {
   "cell_type": "code",
   "execution_count": 14,
   "id": "f6cf4e8d",
   "metadata": {},
   "outputs": [
    {
     "name": "stdout",
     "output_type": "stream",
     "text": [
      "{1, 2, 3, 4, 5, 6}\n"
     ]
    }
   ],
   "source": [
    "answers_set_2019 = set(df_question_2019['resposta'].to_list())\n",
    "print(answers_set_2019)"
   ]
  },
  {
   "cell_type": "code",
   "execution_count": 15,
   "id": "21d0e1c4",
   "metadata": {},
   "outputs": [],
   "source": [
    "df_question_2019.to_csv('ANALISES/chuveiros_qtde_2019.csv')"
   ]
  },
  {
   "cell_type": "code",
   "execution_count": 28,
   "id": "defd86ce",
   "metadata": {},
   "outputs": [
    {
     "name": "stdout",
     "output_type": "stream",
     "text": [
      "50605\n"
     ]
    }
   ],
   "source": [
    "question_heat_tech = 'Fonte de aquecimento'\n",
    "df_shower_heat_tech = df.loc[df['desc_pergunta'] == question_heat_tech]\n",
    "print(len(df_shower_heat_tech))\n"
   ]
  },
  {
   "cell_type": "code",
   "execution_count": 42,
   "id": "4dd96c2d",
   "metadata": {},
   "outputs": [
    {
     "name": "stdout",
     "output_type": "stream",
     "text": [
      "1988:  0\n",
      "1997:  21754\n",
      "2005:  5354\n",
      "2019:  23497\n"
     ]
    }
   ],
   "source": [
    "df_heat_tech_question_1988 = df_shower_heat_tech.loc[df_shower_heat_tech['data_inicio'].str.contains(\"1988\")]\n",
    "df_heat_tech_question_1997 = df_shower_heat_tech.loc[df_shower_heat_tech['data_inicio'].str.contains(\"1997\")]\n",
    "df_heat_tech_question_2005 = df_shower_heat_tech.loc[df_shower_heat_tech['data_inicio'].str.contains(\"2005\")]\n",
    "df_heat_tech_question_2019 = df_shower_heat_tech.loc[df_shower_heat_tech['data_inicio'].str.contains(\"2019\")]\n",
    "\n",
    "print('1988: ', len(df_heat_tech_question_1988))\n",
    "print('1997: ', len(df_heat_tech_question_1997))\n",
    "print('2005: ', len(df_heat_tech_question_2005))\n",
    "print('2019: ', len(df_heat_tech_question_2019))\n",
    "\n"
   ]
  },
  {
   "cell_type": "code",
   "execution_count": 46,
   "id": "53b36aad",
   "metadata": {},
   "outputs": [
    {
     "name": "stdout",
     "output_type": "stream",
     "text": [
      "{1: 1879, 2: 303, 0: 253, 6: 96, 3: 70, 9: 3, 4: 9}\n"
     ]
    }
   ],
   "source": [
    "heat_tech_answers_list_2005 = df_heat_tech_question_2005['resposta'].to_list()\n",
    "brazil_region_list_2005 = df_heat_tech_question_2005['desc_regiao'].to_list()\n",
    "count_dict = dict()\n",
    "for i in range(len(brazil_region_list_2005)):\n",
    "    region = brazil_region_list_2005[i]\n",
    "    if region != 'SE':\n",
    "        continue\n",
    "    if heat_tech_answers_list_2005[i] in count_dict:\n",
    "        count_dict[heat_tech_answers_list_2005[i]] += 1\n",
    "    else:\n",
    "        count_dict[heat_tech_answers_list_2005[i]] = 1\n",
    "        \n",
    "print(count_dict)"
   ]
  },
  {
   "cell_type": "code",
   "execution_count": null,
   "id": "5994cebf",
   "metadata": {},
   "outputs": [],
   "source": []
  },
  {
   "cell_type": "code",
   "execution_count": null,
   "id": "814c182d",
   "metadata": {},
   "outputs": [],
   "source": []
  }
 ],
 "metadata": {
  "kernelspec": {
   "display_name": "Python 3 (ipykernel)",
   "language": "python",
   "name": "python3"
  },
  "language_info": {
   "codemirror_mode": {
    "name": "ipython",
    "version": 3
   },
   "file_extension": ".py",
   "mimetype": "text/x-python",
   "name": "python",
   "nbconvert_exporter": "python",
   "pygments_lexer": "ipython3",
   "version": "3.10.6"
  }
 },
 "nbformat": 4,
 "nbformat_minor": 5
}
